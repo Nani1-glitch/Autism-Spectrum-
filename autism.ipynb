{
 "cells": [
  {
   "cell_type": "markdown",
   "source": [
    "\n",
    "\n",
    "## *Machine learning approaches to the classification problem for autism spectrum disorder*\n",
    "\n"
   ],
   "metadata": {
    "deletable": true,
    "editable": true
   }
  },
  {
   "cell_type": "markdown",
   "source": [
    "We'll be using the \"Autistic Spectrum Disorder Screening Data for Adult\" public dataset from the \n",
    "Kaggle.com\n",
    "\n",
    "**Abstract:** \n",
    "Autistic Spectrum Disorder (ASD) is a neurodevelopment  condition associated with significant healthcare costs, and early diagnosis can significantly reduce these. Unfortunately, waiting times for an ASD diagnosis are lengthy and procedures are not cost effective. The economic impact of autism and the increase in the number of ASD cases across the world reveals an urgent need for the development of easily implemented and effective screening methods. Therefore, a time-efficient and accessible ASD screening is imminent to help health professionals and inform individuals whether they should pursue formal clinical diagnosis.  \n",
    "\n",
    "The rapid growth in the number of ASD cases worldwide necessitates datasets related to behaviour traits. However, such datasets are rare making it difficult to perform thorough analyses to improve the efficiency, sensitivity, specificity and predictive accuracy of the ASD screening process. Presently, very limited autism datasets associated with clinical or screening are available and most of them are genetic in nature. Hence, we propose a new dataset related to autism screening of adults that contained 20 features to be utilised for further analysis especially in determining influential autistic traits and improving the classification of ASD cases. In this dataset, we record ten behavioural features (AQ-10-Adult) plus ten individuals characteristics that have proved to be effective in detecting the ASD cases from controls in behaviour science. "
   ],
   "metadata": {
    "deletable": true,
    "editable": true
   }
  },
  {
   "cell_type": "markdown",
   "source": [
    "## Road Map:\n",
    "\n",
    "* [Step 0](#step0): Import Datasets.\n",
    "\n",
    "* [Step 1](#step1): Clean Datasets (The data needs to be cleaned; many rows contain missing data, and there may be erroneous data identifiable as outliers).\n",
    "\n",
    "* [Step 2](#step2): A quick visualization with *Seaborn*.\n",
    "\n",
    "* [Step 3](#step3): At First, I applied several Supervised Machine Learning (SML) techniques on the data for classification purpose.\n",
    "\n",
    "* [Step 4](#step4): Next, I experimented with different topologies, optimizers, and hyperparameters for different models.\n",
    "\n",
    "* [Step 5](#step5): Model tuning.\n",
    "\n",
    "* [Step 6](#step6): Feature Selection.\n",
    "\n",
    "* [Step 7](#step7): Then I built a Multi-Layer Perceptron and train it to classify indivisual with ASD based on its features.\n",
    "\n",
    "* [Step 8](#step8): Conclusion."
   ],
   "metadata": {
    "deletable": true,
    "editable": true
   }
  },
  {
   "cell_type": "markdown",
   "source": [
    "## Let's begin with preparing our data set."
   ],
   "metadata": {
    "deletable": true,
    "editable": true
   }
  },
  {
   "cell_type": "markdown",
   "source": [
    "---\n",
    "<a id='step0'></a>\n",
    "## Step 0: Import Datasets\n",
    "\n",
    " I start by importing the 'asv.csv' file into a Pandas dataframe and take a look at it."
   ],
   "metadata": {
    "deletable": true,
    "editable": true
   }
  },
  {
   "cell_type": "code",
   "execution_count": 1,
   "source": [
    "# Import libraries necessary for this project\n",
    "import numpy as np\n",
    "import pandas as pd\n",
    "from time import time\n",
    "from IPython.display import display # Allows the use of display() for DataFrames\n",
    "\n",
    "# Import supplementary visualization code visuals.py\n",
    "import visuals as vs\n",
    "\n",
    "# Pretty display for notebooks\n",
    "%matplotlib inline\n",
    "\n",
    "\n",
    "data = pd.read_csv('/Users/nithin/Downloads/Autism-Detection-in-Adults-master/autism_screening.csv')\n",
    "display(data.head(n=5))"
   ],
   "outputs": [
    {
     "output_type": "display_data",
     "data": {
      "text/html": [
       "<div>\n",
       "<style>\n",
       "    .dataframe thead tr:only-child th {\n",
       "        text-align: right;\n",
       "    }\n",
       "\n",
       "    .dataframe thead th {\n",
       "        text-align: left;\n",
       "    }\n",
       "\n",
       "    .dataframe tbody tr th {\n",
       "        vertical-align: top;\n",
       "    }\n",
       "</style>\n",
       "<table border=\"1\" class=\"dataframe\">\n",
       "  <thead>\n",
       "    <tr style=\"text-align: right;\">\n",
       "      <th></th>\n",
       "      <th>id</th>\n",
       "      <th>A1_Score</th>\n",
       "      <th>A2_Score</th>\n",
       "      <th>A3_Score</th>\n",
       "      <th>A4_Score</th>\n",
       "      <th>A5_Score</th>\n",
       "      <th>A6_Score</th>\n",
       "      <th>A7_Score</th>\n",
       "      <th>A8_Score</th>\n",
       "      <th>A9_Score</th>\n",
       "      <th>...</th>\n",
       "      <th>gender</th>\n",
       "      <th>ethnicity</th>\n",
       "      <th>jundice</th>\n",
       "      <th>austim</th>\n",
       "      <th>contry_of_res</th>\n",
       "      <th>used_app_before</th>\n",
       "      <th>result</th>\n",
       "      <th>age_desc</th>\n",
       "      <th>relation</th>\n",
       "      <th>Class/ASD</th>\n",
       "    </tr>\n",
       "  </thead>\n",
       "  <tbody>\n",
       "    <tr>\n",
       "      <th>0</th>\n",
       "      <td>1</td>\n",
       "      <td>1</td>\n",
       "      <td>1</td>\n",
       "      <td>1</td>\n",
       "      <td>1</td>\n",
       "      <td>0</td>\n",
       "      <td>0</td>\n",
       "      <td>1</td>\n",
       "      <td>1</td>\n",
       "      <td>0</td>\n",
       "      <td>...</td>\n",
       "      <td>f</td>\n",
       "      <td>White-European</td>\n",
       "      <td>no</td>\n",
       "      <td>no</td>\n",
       "      <td>United States</td>\n",
       "      <td>no</td>\n",
       "      <td>6</td>\n",
       "      <td>18 and more</td>\n",
       "      <td>Self</td>\n",
       "      <td>NO</td>\n",
       "    </tr>\n",
       "    <tr>\n",
       "      <th>1</th>\n",
       "      <td>2</td>\n",
       "      <td>1</td>\n",
       "      <td>1</td>\n",
       "      <td>0</td>\n",
       "      <td>1</td>\n",
       "      <td>0</td>\n",
       "      <td>0</td>\n",
       "      <td>0</td>\n",
       "      <td>1</td>\n",
       "      <td>0</td>\n",
       "      <td>...</td>\n",
       "      <td>m</td>\n",
       "      <td>Latino</td>\n",
       "      <td>no</td>\n",
       "      <td>yes</td>\n",
       "      <td>Brazil</td>\n",
       "      <td>no</td>\n",
       "      <td>5</td>\n",
       "      <td>18 and more</td>\n",
       "      <td>Self</td>\n",
       "      <td>NO</td>\n",
       "    </tr>\n",
       "    <tr>\n",
       "      <th>2</th>\n",
       "      <td>3</td>\n",
       "      <td>1</td>\n",
       "      <td>1</td>\n",
       "      <td>0</td>\n",
       "      <td>1</td>\n",
       "      <td>1</td>\n",
       "      <td>0</td>\n",
       "      <td>1</td>\n",
       "      <td>1</td>\n",
       "      <td>1</td>\n",
       "      <td>...</td>\n",
       "      <td>m</td>\n",
       "      <td>Latino</td>\n",
       "      <td>yes</td>\n",
       "      <td>yes</td>\n",
       "      <td>Spain</td>\n",
       "      <td>no</td>\n",
       "      <td>8</td>\n",
       "      <td>18 and more</td>\n",
       "      <td>Parent</td>\n",
       "      <td>YES</td>\n",
       "    </tr>\n",
       "    <tr>\n",
       "      <th>3</th>\n",
       "      <td>4</td>\n",
       "      <td>1</td>\n",
       "      <td>1</td>\n",
       "      <td>0</td>\n",
       "      <td>1</td>\n",
       "      <td>0</td>\n",
       "      <td>0</td>\n",
       "      <td>1</td>\n",
       "      <td>1</td>\n",
       "      <td>0</td>\n",
       "      <td>...</td>\n",
       "      <td>f</td>\n",
       "      <td>White-European</td>\n",
       "      <td>no</td>\n",
       "      <td>yes</td>\n",
       "      <td>United States</td>\n",
       "      <td>no</td>\n",
       "      <td>6</td>\n",
       "      <td>18 and more</td>\n",
       "      <td>Self</td>\n",
       "      <td>NO</td>\n",
       "    </tr>\n",
       "    <tr>\n",
       "      <th>4</th>\n",
       "      <td>5</td>\n",
       "      <td>1</td>\n",
       "      <td>0</td>\n",
       "      <td>0</td>\n",
       "      <td>0</td>\n",
       "      <td>0</td>\n",
       "      <td>0</td>\n",
       "      <td>0</td>\n",
       "      <td>1</td>\n",
       "      <td>0</td>\n",
       "      <td>...</td>\n",
       "      <td>f</td>\n",
       "      <td>?</td>\n",
       "      <td>no</td>\n",
       "      <td>no</td>\n",
       "      <td>Egypt</td>\n",
       "      <td>no</td>\n",
       "      <td>2</td>\n",
       "      <td>18 and more</td>\n",
       "      <td>?</td>\n",
       "      <td>NO</td>\n",
       "    </tr>\n",
       "  </tbody>\n",
       "</table>\n",
       "<p>5 rows × 22 columns</p>\n",
       "</div>"
      ],
      "text/plain": [
       "   id  A1_Score  A2_Score  A3_Score  A4_Score  A5_Score  A6_Score  A7_Score  \\\n",
       "0   1         1         1         1         1         0         0         1   \n",
       "1   2         1         1         0         1         0         0         0   \n",
       "2   3         1         1         0         1         1         0         1   \n",
       "3   4         1         1         0         1         0         0         1   \n",
       "4   5         1         0         0         0         0         0         0   \n",
       "\n",
       "   A8_Score  A9_Score    ...     gender       ethnicity jundice austim  \\\n",
       "0         1         0    ...          f  White-European      no     no   \n",
       "1         1         0    ...          m          Latino      no    yes   \n",
       "2         1         1    ...          m          Latino     yes    yes   \n",
       "3         1         0    ...          f  White-European      no    yes   \n",
       "4         1         0    ...          f               ?      no     no   \n",
       "\n",
       "   contry_of_res used_app_before result     age_desc  relation Class/ASD  \n",
       "0  United States              no      6  18 and more      Self        NO  \n",
       "1         Brazil              no      5  18 and more      Self        NO  \n",
       "2          Spain              no      8  18 and more    Parent       YES  \n",
       "3  United States              no      6  18 and more      Self        NO  \n",
       "4          Egypt              no      2  18 and more         ?        NO  \n",
       "\n",
       "[5 rows x 22 columns]"
      ]
     },
     "metadata": {}
    }
   ],
   "metadata": {
    "collapsed": false,
    "deletable": true,
    "editable": true,
    "scrolled": true
   }
  },
  {
   "cell_type": "code",
   "execution_count": 2,
   "source": [
    "# Total number of records\n",
    "n_records = len(data.index)\n",
    "\n",
    "# TODO: Number of records where individual's with ASD\n",
    "n_asd_yes = len(data[data['Class/ASD'] == 'YES'])\n",
    "\n",
    "# TODO: Number of records where individual's with no ASD\n",
    "n_asd_no = len(data[data['Class/ASD'] == 'NO'])\n",
    "\n",
    "# TODO: Percentage of individuals whose are with ASD\n",
    "yes_percent = float(n_asd_yes) / n_records *100\n",
    "\n",
    "# Print the results\n",
    "print \"Total number of records: {}\".format(n_records)\n",
    "print \"Individuals diagonised with ASD: {}\".format(n_asd_yes)\n",
    "print \"Individuals not diagonised with ASD: {}\".format(n_asd_no)\n",
    "print \"Percentage of individuals diagonised with ASD: {:.2f}%\".format(yes_percent)"
   ],
   "outputs": [
    {
     "output_type": "stream",
     "name": "stdout",
     "text": [
      "Total number of records: 704\n",
      "Individuals diagonised with ASD: 189\n",
      "Individuals not diagonised with ASD: 515\n",
      "Percentage of individuals diagonised with ASD: 26.85%\n"
     ]
    }
   ],
   "metadata": {
    "collapsed": false,
    "deletable": true,
    "editable": true
   }
  },
  {
   "cell_type": "markdown",
   "source": [
    "** Featureset Exploration **\n",
    "\n",
    "This data contains 704 instances, and contains the following attributes:\n",
    "* **age**: *number* (Age in years). \n",
    "* **gendar**: *String* [Male/Female]. \n",
    "* **ethnicity**: *String* (List of common ethnicities in text format). \n",
    "* **Born with jaundice**: *Boolean* [yes or no]. \n",
    "* **Family member with PDD**: *Boolean* [yes or no]. \n",
    "* **Who is completing the test**: *String* [Parent, self, caregiver, medical staff, clinician ,etc.].\n",
    "* **Country of residence **: *String* (List of countries in text format).\n",
    "* **Used the screening app before **: *Boolean* [yes or no] (Whether the user has used a screening app) \n",
    "* **Screening Method Type**: *Integer* [0,1,2,3] (The type of screening methods chosen based on age category (0=toddler, 1=child, 2= adolescent, 3= adult).\n",
    "* **Question 1-10 Answer**: *Binary* [0, 1] (The answer code of the question based on the screening method used).\n",
    "* **Screening Score**: *Integer* (The final score obtained based on the scoring algorithm of the screening method used. This was computed in an automated manner)."
   ],
   "metadata": {
    "deletable": true,
    "editable": true
   }
  },
  {
   "cell_type": "markdown",
   "source": [
    "----\n",
    "## Preparing the Data\n",
    "Before data can be used as input for machine learning algorithms, it must be cleaned, formatted, and maybe even restructured — this is typically known as **preprocessing**. Unfortunately, for this dataset, there are many invalid or missing entries(?) we must deal with, moreover, there are some qualities about certain features that must be adjusted. This preprocessing can help tremendously with the outcome and predictive power of nearly all learning algorithms."
   ],
   "metadata": {
    "deletable": true,
    "editable": true
   }
  },
  {
   "cell_type": "markdown",
   "source": [
    "I use the optional parmaters in read_csv to convert missing data (indicated by a ?) into NaN, and to add the appropriate column names ():"
   ],
   "metadata": {
    "deletable": true,
    "editable": true
   }
  },
  {
   "cell_type": "code",
   "execution_count": 3,
   "source": [
    "asd_data = pd.read_csv('ASD.csv', na_values=['?'])\n",
    "asd_data.head(n=5)"
   ],
   "outputs": [
    {
     "output_type": "execute_result",
     "data": {
      "text/html": [
       "<div>\n",
       "<style>\n",
       "    .dataframe thead tr:only-child th {\n",
       "        text-align: right;\n",
       "    }\n",
       "\n",
       "    .dataframe thead th {\n",
       "        text-align: left;\n",
       "    }\n",
       "\n",
       "    .dataframe tbody tr th {\n",
       "        vertical-align: top;\n",
       "    }\n",
       "</style>\n",
       "<table border=\"1\" class=\"dataframe\">\n",
       "  <thead>\n",
       "    <tr style=\"text-align: right;\">\n",
       "      <th></th>\n",
       "      <th>id</th>\n",
       "      <th>A1_Score</th>\n",
       "      <th>A2_Score</th>\n",
       "      <th>A3_Score</th>\n",
       "      <th>A4_Score</th>\n",
       "      <th>A5_Score</th>\n",
       "      <th>A6_Score</th>\n",
       "      <th>A7_Score</th>\n",
       "      <th>A8_Score</th>\n",
       "      <th>A9_Score</th>\n",
       "      <th>...</th>\n",
       "      <th>gender</th>\n",
       "      <th>ethnicity</th>\n",
       "      <th>jundice</th>\n",
       "      <th>austim</th>\n",
       "      <th>contry_of_res</th>\n",
       "      <th>used_app_before</th>\n",
       "      <th>result</th>\n",
       "      <th>age_desc</th>\n",
       "      <th>relation</th>\n",
       "      <th>Class/ASD</th>\n",
       "    </tr>\n",
       "  </thead>\n",
       "  <tbody>\n",
       "    <tr>\n",
       "      <th>0</th>\n",
       "      <td>1</td>\n",
       "      <td>1</td>\n",
       "      <td>1</td>\n",
       "      <td>1</td>\n",
       "      <td>1</td>\n",
       "      <td>0</td>\n",
       "      <td>0</td>\n",
       "      <td>1</td>\n",
       "      <td>1</td>\n",
       "      <td>0</td>\n",
       "      <td>...</td>\n",
       "      <td>f</td>\n",
       "      <td>White-European</td>\n",
       "      <td>no</td>\n",
       "      <td>no</td>\n",
       "      <td>United States</td>\n",
       "      <td>no</td>\n",
       "      <td>6</td>\n",
       "      <td>18 and more</td>\n",
       "      <td>Self</td>\n",
       "      <td>NO</td>\n",
       "    </tr>\n",
       "    <tr>\n",
       "      <th>1</th>\n",
       "      <td>2</td>\n",
       "      <td>1</td>\n",
       "      <td>1</td>\n",
       "      <td>0</td>\n",
       "      <td>1</td>\n",
       "      <td>0</td>\n",
       "      <td>0</td>\n",
       "      <td>0</td>\n",
       "      <td>1</td>\n",
       "      <td>0</td>\n",
       "      <td>...</td>\n",
       "      <td>m</td>\n",
       "      <td>Latino</td>\n",
       "      <td>no</td>\n",
       "      <td>yes</td>\n",
       "      <td>Brazil</td>\n",
       "      <td>no</td>\n",
       "      <td>5</td>\n",
       "      <td>18 and more</td>\n",
       "      <td>Self</td>\n",
       "      <td>NO</td>\n",
       "    </tr>\n",
       "    <tr>\n",
       "      <th>2</th>\n",
       "      <td>3</td>\n",
       "      <td>1</td>\n",
       "      <td>1</td>\n",
       "      <td>0</td>\n",
       "      <td>1</td>\n",
       "      <td>1</td>\n",
       "      <td>0</td>\n",
       "      <td>1</td>\n",
       "      <td>1</td>\n",
       "      <td>1</td>\n",
       "      <td>...</td>\n",
       "      <td>m</td>\n",
       "      <td>Latino</td>\n",
       "      <td>yes</td>\n",
       "      <td>yes</td>\n",
       "      <td>Spain</td>\n",
       "      <td>no</td>\n",
       "      <td>8</td>\n",
       "      <td>18 and more</td>\n",
       "      <td>Parent</td>\n",
       "      <td>YES</td>\n",
       "    </tr>\n",
       "    <tr>\n",
       "      <th>3</th>\n",
       "      <td>4</td>\n",
       "      <td>1</td>\n",
       "      <td>1</td>\n",
       "      <td>0</td>\n",
       "      <td>1</td>\n",
       "      <td>0</td>\n",
       "      <td>0</td>\n",
       "      <td>1</td>\n",
       "      <td>1</td>\n",
       "      <td>0</td>\n",
       "      <td>...</td>\n",
       "      <td>f</td>\n",
       "      <td>White-European</td>\n",
       "      <td>no</td>\n",
       "      <td>yes</td>\n",
       "      <td>United States</td>\n",
       "      <td>no</td>\n",
       "      <td>6</td>\n",
       "      <td>18 and more</td>\n",
       "      <td>Self</td>\n",
       "      <td>NO</td>\n",
       "    </tr>\n",
       "    <tr>\n",
       "      <th>4</th>\n",
       "      <td>5</td>\n",
       "      <td>1</td>\n",
       "      <td>0</td>\n",
       "      <td>0</td>\n",
       "      <td>0</td>\n",
       "      <td>0</td>\n",
       "      <td>0</td>\n",
       "      <td>0</td>\n",
       "      <td>1</td>\n",
       "      <td>0</td>\n",
       "      <td>...</td>\n",
       "      <td>f</td>\n",
       "      <td>NaN</td>\n",
       "      <td>no</td>\n",
       "      <td>no</td>\n",
       "      <td>Egypt</td>\n",
       "      <td>no</td>\n",
       "      <td>2</td>\n",
       "      <td>18 and more</td>\n",
       "      <td>NaN</td>\n",
       "      <td>NO</td>\n",
       "    </tr>\n",
       "  </tbody>\n",
       "</table>\n",
       "<p>5 rows × 22 columns</p>\n",
       "</div>"
      ],
      "text/plain": [
       "   id  A1_Score  A2_Score  A3_Score  A4_Score  A5_Score  A6_Score  A7_Score  \\\n",
       "0   1         1         1         1         1         0         0         1   \n",
       "1   2         1         1         0         1         0         0         0   \n",
       "2   3         1         1         0         1         1         0         1   \n",
       "3   4         1         1         0         1         0         0         1   \n",
       "4   5         1         0         0         0         0         0         0   \n",
       "\n",
       "   A8_Score  A9_Score    ...     gender       ethnicity jundice austim  \\\n",
       "0         1         0    ...          f  White-European      no     no   \n",
       "1         1         0    ...          m          Latino      no    yes   \n",
       "2         1         1    ...          m          Latino     yes    yes   \n",
       "3         1         0    ...          f  White-European      no    yes   \n",
       "4         1         0    ...          f             NaN      no     no   \n",
       "\n",
       "   contry_of_res used_app_before result     age_desc  relation Class/ASD  \n",
       "0  United States              no      6  18 and more      Self        NO  \n",
       "1         Brazil              no      5  18 and more      Self        NO  \n",
       "2          Spain              no      8  18 and more    Parent       YES  \n",
       "3  United States              no      6  18 and more      Self        NO  \n",
       "4          Egypt              no      2  18 and more       NaN        NO  \n",
       "\n",
       "[5 rows x 22 columns]"
      ]
     },
     "metadata": {},
     "execution_count": 3
    }
   ],
   "metadata": {
    "collapsed": false,
    "deletable": true,
    "editable": true,
    "scrolled": true
   }
  },
  {
   "cell_type": "markdown",
   "source": [
    "Here I evaluate whether the data needs cleaning; your model is only as good as the data it's given."
   ],
   "metadata": {
    "deletable": true,
    "editable": true
   }
  },
  {
   "cell_type": "code",
   "execution_count": 4,
   "source": [
    "asd_data.describe()"
   ],
   "outputs": [
    {
     "output_type": "execute_result",
     "data": {
      "text/html": [
       "<div>\n",
       "<style>\n",
       "    .dataframe thead tr:only-child th {\n",
       "        text-align: right;\n",
       "    }\n",
       "\n",
       "    .dataframe thead th {\n",
       "        text-align: left;\n",
       "    }\n",
       "\n",
       "    .dataframe tbody tr th {\n",
       "        vertical-align: top;\n",
       "    }\n",
       "</style>\n",
       "<table border=\"1\" class=\"dataframe\">\n",
       "  <thead>\n",
       "    <tr style=\"text-align: right;\">\n",
       "      <th></th>\n",
       "      <th>id</th>\n",
       "      <th>A1_Score</th>\n",
       "      <th>A2_Score</th>\n",
       "      <th>A3_Score</th>\n",
       "      <th>A4_Score</th>\n",
       "      <th>A5_Score</th>\n",
       "      <th>A6_Score</th>\n",
       "      <th>A7_Score</th>\n",
       "      <th>A8_Score</th>\n",
       "      <th>A9_Score</th>\n",
       "      <th>A10_Score</th>\n",
       "      <th>age</th>\n",
       "      <th>result</th>\n",
       "    </tr>\n",
       "  </thead>\n",
       "  <tbody>\n",
       "    <tr>\n",
       "      <th>count</th>\n",
       "      <td>704.000000</td>\n",
       "      <td>704.000000</td>\n",
       "      <td>704.000000</td>\n",
       "      <td>704.000000</td>\n",
       "      <td>704.000000</td>\n",
       "      <td>704.000000</td>\n",
       "      <td>704.000000</td>\n",
       "      <td>704.000000</td>\n",
       "      <td>704.000000</td>\n",
       "      <td>704.000000</td>\n",
       "      <td>704.000000</td>\n",
       "      <td>702.000000</td>\n",
       "      <td>704.000000</td>\n",
       "    </tr>\n",
       "    <tr>\n",
       "      <th>mean</th>\n",
       "      <td>352.500000</td>\n",
       "      <td>0.721591</td>\n",
       "      <td>0.453125</td>\n",
       "      <td>0.457386</td>\n",
       "      <td>0.495739</td>\n",
       "      <td>0.498580</td>\n",
       "      <td>0.284091</td>\n",
       "      <td>0.417614</td>\n",
       "      <td>0.649148</td>\n",
       "      <td>0.323864</td>\n",
       "      <td>0.573864</td>\n",
       "      <td>29.698006</td>\n",
       "      <td>4.875000</td>\n",
       "    </tr>\n",
       "    <tr>\n",
       "      <th>std</th>\n",
       "      <td>203.371581</td>\n",
       "      <td>0.448535</td>\n",
       "      <td>0.498152</td>\n",
       "      <td>0.498535</td>\n",
       "      <td>0.500337</td>\n",
       "      <td>0.500353</td>\n",
       "      <td>0.451301</td>\n",
       "      <td>0.493516</td>\n",
       "      <td>0.477576</td>\n",
       "      <td>0.468281</td>\n",
       "      <td>0.494866</td>\n",
       "      <td>16.507465</td>\n",
       "      <td>2.501493</td>\n",
       "    </tr>\n",
       "    <tr>\n",
       "      <th>min</th>\n",
       "      <td>1.000000</td>\n",
       "      <td>0.000000</td>\n",
       "      <td>0.000000</td>\n",
       "      <td>0.000000</td>\n",
       "      <td>0.000000</td>\n",
       "      <td>0.000000</td>\n",
       "      <td>0.000000</td>\n",
       "      <td>0.000000</td>\n",
       "      <td>0.000000</td>\n",
       "      <td>0.000000</td>\n",
       "      <td>0.000000</td>\n",
       "      <td>17.000000</td>\n",
       "      <td>0.000000</td>\n",
       "    </tr>\n",
       "    <tr>\n",
       "      <th>25%</th>\n",
       "      <td>176.750000</td>\n",
       "      <td>0.000000</td>\n",
       "      <td>0.000000</td>\n",
       "      <td>0.000000</td>\n",
       "      <td>0.000000</td>\n",
       "      <td>0.000000</td>\n",
       "      <td>0.000000</td>\n",
       "      <td>0.000000</td>\n",
       "      <td>0.000000</td>\n",
       "      <td>0.000000</td>\n",
       "      <td>0.000000</td>\n",
       "      <td>21.000000</td>\n",
       "      <td>3.000000</td>\n",
       "    </tr>\n",
       "    <tr>\n",
       "      <th>50%</th>\n",
       "      <td>352.500000</td>\n",
       "      <td>1.000000</td>\n",
       "      <td>0.000000</td>\n",
       "      <td>0.000000</td>\n",
       "      <td>0.000000</td>\n",
       "      <td>0.000000</td>\n",
       "      <td>0.000000</td>\n",
       "      <td>0.000000</td>\n",
       "      <td>1.000000</td>\n",
       "      <td>0.000000</td>\n",
       "      <td>1.000000</td>\n",
       "      <td>27.000000</td>\n",
       "      <td>4.000000</td>\n",
       "    </tr>\n",
       "    <tr>\n",
       "      <th>75%</th>\n",
       "      <td>528.250000</td>\n",
       "      <td>1.000000</td>\n",
       "      <td>1.000000</td>\n",
       "      <td>1.000000</td>\n",
       "      <td>1.000000</td>\n",
       "      <td>1.000000</td>\n",
       "      <td>1.000000</td>\n",
       "      <td>1.000000</td>\n",
       "      <td>1.000000</td>\n",
       "      <td>1.000000</td>\n",
       "      <td>1.000000</td>\n",
       "      <td>35.000000</td>\n",
       "      <td>7.000000</td>\n",
       "    </tr>\n",
       "    <tr>\n",
       "      <th>max</th>\n",
       "      <td>704.000000</td>\n",
       "      <td>1.000000</td>\n",
       "      <td>1.000000</td>\n",
       "      <td>1.000000</td>\n",
       "      <td>1.000000</td>\n",
       "      <td>1.000000</td>\n",
       "      <td>1.000000</td>\n",
       "      <td>1.000000</td>\n",
       "      <td>1.000000</td>\n",
       "      <td>1.000000</td>\n",
       "      <td>1.000000</td>\n",
       "      <td>383.000000</td>\n",
       "      <td>10.000000</td>\n",
       "    </tr>\n",
       "  </tbody>\n",
       "</table>\n",
       "</div>"
      ],
      "text/plain": [
       "               id    A1_Score    A2_Score    A3_Score    A4_Score    A5_Score  \\\n",
       "count  704.000000  704.000000  704.000000  704.000000  704.000000  704.000000   \n",
       "mean   352.500000    0.721591    0.453125    0.457386    0.495739    0.498580   \n",
       "std    203.371581    0.448535    0.498152    0.498535    0.500337    0.500353   \n",
       "min      1.000000    0.000000    0.000000    0.000000    0.000000    0.000000   \n",
       "25%    176.750000    0.000000    0.000000    0.000000    0.000000    0.000000   \n",
       "50%    352.500000    1.000000    0.000000    0.000000    0.000000    0.000000   \n",
       "75%    528.250000    1.000000    1.000000    1.000000    1.000000    1.000000   \n",
       "max    704.000000    1.000000    1.000000    1.000000    1.000000    1.000000   \n",
       "\n",
       "         A6_Score    A7_Score    A8_Score    A9_Score   A10_Score         age  \\\n",
       "count  704.000000  704.000000  704.000000  704.000000  704.000000  702.000000   \n",
       "mean     0.284091    0.417614    0.649148    0.323864    0.573864   29.698006   \n",
       "std      0.451301    0.493516    0.477576    0.468281    0.494866   16.507465   \n",
       "min      0.000000    0.000000    0.000000    0.000000    0.000000   17.000000   \n",
       "25%      0.000000    0.000000    0.000000    0.000000    0.000000   21.000000   \n",
       "50%      0.000000    0.000000    1.000000    0.000000    1.000000   27.000000   \n",
       "75%      1.000000    1.000000    1.000000    1.000000    1.000000   35.000000   \n",
       "max      1.000000    1.000000    1.000000    1.000000    1.000000  383.000000   \n",
       "\n",
       "           result  \n",
       "count  704.000000  \n",
       "mean     4.875000  \n",
       "std      2.501493  \n",
       "min      0.000000  \n",
       "25%      3.000000  \n",
       "50%      4.000000  \n",
       "75%      7.000000  \n",
       "max     10.000000  "
      ]
     },
     "metadata": {},
     "execution_count": 4
    }
   ],
   "metadata": {
    "collapsed": false,
    "deletable": true,
    "editable": true
   }
  },
  {
   "cell_type": "markdown",
   "source": [
    "There are quite a few missing values in the data set. Before I just drop every row that's missing data, I make sure not to bias the data in any way. In other words we need to make sure that there does not appear to be any sort of correlation to what sort of data has missing fields. If there were, I'd have to try and go back and fill that data in."
   ],
   "metadata": {
    "deletable": true,
    "editable": true
   }
  },
  {
   "cell_type": "markdown",
   "source": [
    "---\n",
    "<a id='step1'></a>\n",
    "## Step 1: Clean Datasets"
   ],
   "metadata": {
    "deletable": true,
    "editable": true
   }
  },
  {
   "cell_type": "code",
   "execution_count": 5,
   "source": [
    "asd_data.loc[(asd_data['age'].isnull()) |(asd_data['gender'].isnull()) |(asd_data['ethnicity'].isnull()) \n",
    "|(asd_data['jundice'].isnull())|(asd_data['austim'].isnull()) |(asd_data['contry_of_res'].isnull())\n",
    "            |(asd_data['used_app_before'].isnull())|(asd_data['result'].isnull())|(asd_data['age_desc'].isnull())\n",
    "            |(asd_data['relation'].isnull())]"
   ],
   "outputs": [
    {
     "output_type": "execute_result",
     "data": {
      "text/html": [
       "<div>\n",
       "<style>\n",
       "    .dataframe thead tr:only-child th {\n",
       "        text-align: right;\n",
       "    }\n",
       "\n",
       "    .dataframe thead th {\n",
       "        text-align: left;\n",
       "    }\n",
       "\n",
       "    .dataframe tbody tr th {\n",
       "        vertical-align: top;\n",
       "    }\n",
       "</style>\n",
       "<table border=\"1\" class=\"dataframe\">\n",
       "  <thead>\n",
       "    <tr style=\"text-align: right;\">\n",
       "      <th></th>\n",
       "      <th>id</th>\n",
       "      <th>A1_Score</th>\n",
       "      <th>A2_Score</th>\n",
       "      <th>A3_Score</th>\n",
       "      <th>A4_Score</th>\n",
       "      <th>A5_Score</th>\n",
       "      <th>A6_Score</th>\n",
       "      <th>A7_Score</th>\n",
       "      <th>A8_Score</th>\n",
       "      <th>A9_Score</th>\n",
       "      <th>...</th>\n",
       "      <th>gender</th>\n",
       "      <th>ethnicity</th>\n",
       "      <th>jundice</th>\n",
       "      <th>austim</th>\n",
       "      <th>contry_of_res</th>\n",
       "      <th>used_app_before</th>\n",
       "      <th>result</th>\n",
       "      <th>age_desc</th>\n",
       "      <th>relation</th>\n",
       "      <th>Class/ASD</th>\n",
       "    </tr>\n",
       "  </thead>\n",
       "  <tbody>\n",
       "    <tr>\n",
       "      <th>4</th>\n",
       "      <td>5</td>\n",
       "      <td>1</td>\n",
       "      <td>0</td>\n",
       "      <td>0</td>\n",
       "      <td>0</td>\n",
       "      <td>0</td>\n",
       "      <td>0</td>\n",
       "      <td>0</td>\n",
       "      <td>1</td>\n",
       "      <td>0</td>\n",
       "      <td>...</td>\n",
       "      <td>f</td>\n",
       "      <td>NaN</td>\n",
       "      <td>no</td>\n",
       "      <td>no</td>\n",
       "      <td>Egypt</td>\n",
       "      <td>no</td>\n",
       "      <td>2</td>\n",
       "      <td>18 and more</td>\n",
       "      <td>NaN</td>\n",
       "      <td>NO</td>\n",
       "    </tr>\n",
       "    <tr>\n",
       "      <th>12</th>\n",
       "      <td>13</td>\n",
       "      <td>0</td>\n",
       "      <td>1</td>\n",
       "      <td>1</td>\n",
       "      <td>1</td>\n",
       "      <td>1</td>\n",
       "      <td>1</td>\n",
       "      <td>0</td>\n",
       "      <td>0</td>\n",
       "      <td>1</td>\n",
       "      <td>...</td>\n",
       "      <td>f</td>\n",
       "      <td>NaN</td>\n",
       "      <td>no</td>\n",
       "      <td>no</td>\n",
       "      <td>Bahamas</td>\n",
       "      <td>no</td>\n",
       "      <td>6</td>\n",
       "      <td>18 and more</td>\n",
       "      <td>NaN</td>\n",
       "      <td>NO</td>\n",
       "    </tr>\n",
       "    <tr>\n",
       "      <th>13</th>\n",
       "      <td>14</td>\n",
       "      <td>1</td>\n",
       "      <td>0</td>\n",
       "      <td>0</td>\n",
       "      <td>0</td>\n",
       "      <td>0</td>\n",
       "      <td>0</td>\n",
       "      <td>1</td>\n",
       "      <td>1</td>\n",
       "      <td>0</td>\n",
       "      <td>...</td>\n",
       "      <td>m</td>\n",
       "      <td>NaN</td>\n",
       "      <td>no</td>\n",
       "      <td>no</td>\n",
       "      <td>Austria</td>\n",
       "      <td>no</td>\n",
       "      <td>4</td>\n",
       "      <td>18 and more</td>\n",
       "      <td>NaN</td>\n",
       "      <td>NO</td>\n",
       "    </tr>\n",
       "    <tr>\n",
       "      <th>14</th>\n",
       "      <td>15</td>\n",
       "      <td>1</td>\n",
       "      <td>0</td>\n",
       "      <td>0</td>\n",
       "      <td>0</td>\n",
       "      <td>0</td>\n",
       "      <td>0</td>\n",
       "      <td>1</td>\n",
       "      <td>1</td>\n",
       "      <td>0</td>\n",
       "      <td>...</td>\n",
       "      <td>f</td>\n",
       "      <td>NaN</td>\n",
       "      <td>no</td>\n",
       "      <td>no</td>\n",
       "      <td>Argentina</td>\n",
       "      <td>no</td>\n",
       "      <td>4</td>\n",
       "      <td>18 and more</td>\n",
       "      <td>NaN</td>\n",
       "      <td>NO</td>\n",
       "    </tr>\n",
       "    <tr>\n",
       "      <th>19</th>\n",
       "      <td>20</td>\n",
       "      <td>0</td>\n",
       "      <td>0</td>\n",
       "      <td>0</td>\n",
       "      <td>0</td>\n",
       "      <td>0</td>\n",
       "      <td>0</td>\n",
       "      <td>1</td>\n",
       "      <td>1</td>\n",
       "      <td>0</td>\n",
       "      <td>...</td>\n",
       "      <td>m</td>\n",
       "      <td>NaN</td>\n",
       "      <td>yes</td>\n",
       "      <td>no</td>\n",
       "      <td>United Arab Emirates</td>\n",
       "      <td>no</td>\n",
       "      <td>3</td>\n",
       "      <td>18 and more</td>\n",
       "      <td>NaN</td>\n",
       "      <td>NO</td>\n",
       "    </tr>\n",
       "    <tr>\n",
       "      <th>20</th>\n",
       "      <td>21</td>\n",
       "      <td>0</td>\n",
       "      <td>1</td>\n",
       "      <td>1</td>\n",
       "      <td>1</td>\n",
       "      <td>0</td>\n",
       "      <td>0</td>\n",
       "      <td>0</td>\n",
       "      <td>0</td>\n",
       "      <td>0</td>\n",
       "      <td>...</td>\n",
       "      <td>m</td>\n",
       "      <td>NaN</td>\n",
       "      <td>no</td>\n",
       "      <td>no</td>\n",
       "      <td>United Arab Emirates</td>\n",
       "      <td>no</td>\n",
       "      <td>3</td>\n",
       "      <td>18 and more</td>\n",
       "      <td>NaN</td>\n",
       "      <td>NO</td>\n",
       "    </tr>\n",
       "    <tr>\n",
       "      <th>24</th>\n",
       "      <td>25</td>\n",
       "      <td>1</td>\n",
       "      <td>1</td>\n",
       "      <td>1</td>\n",
       "      <td>1</td>\n",
       "      <td>0</td>\n",
       "      <td>0</td>\n",
       "      <td>0</td>\n",
       "      <td>1</td>\n",
       "      <td>0</td>\n",
       "      <td>...</td>\n",
       "      <td>m</td>\n",
       "      <td>NaN</td>\n",
       "      <td>no</td>\n",
       "      <td>no</td>\n",
       "      <td>Lebanon</td>\n",
       "      <td>no</td>\n",
       "      <td>5</td>\n",
       "      <td>18 and more</td>\n",
       "      <td>NaN</td>\n",
       "      <td>NO</td>\n",
       "    </tr>\n",
       "    <tr>\n",
       "      <th>25</th>\n",
       "      <td>26</td>\n",
       "      <td>0</td>\n",
       "      <td>1</td>\n",
       "      <td>1</td>\n",
       "      <td>0</td>\n",
       "      <td>0</td>\n",
       "      <td>0</td>\n",
       "      <td>0</td>\n",
       "      <td>1</td>\n",
       "      <td>0</td>\n",
       "      <td>...</td>\n",
       "      <td>f</td>\n",
       "      <td>NaN</td>\n",
       "      <td>yes</td>\n",
       "      <td>no</td>\n",
       "      <td>Afghanistan</td>\n",
       "      <td>no</td>\n",
       "      <td>3</td>\n",
       "      <td>18 and more</td>\n",
       "      <td>NaN</td>\n",
       "      <td>NO</td>\n",
       "    </tr>\n",
       "    <tr>\n",
       "      <th>62</th>\n",
       "      <td>63</td>\n",
       "      <td>0</td>\n",
       "      <td>0</td>\n",
       "      <td>0</td>\n",
       "      <td>0</td>\n",
       "      <td>0</td>\n",
       "      <td>0</td>\n",
       "      <td>0</td>\n",
       "      <td>0</td>\n",
       "      <td>0</td>\n",
       "      <td>...</td>\n",
       "      <td>m</td>\n",
       "      <td>NaN</td>\n",
       "      <td>no</td>\n",
       "      <td>no</td>\n",
       "      <td>Saudi Arabia</td>\n",
       "      <td>no</td>\n",
       "      <td>0</td>\n",
       "      <td>18 and more</td>\n",
       "      <td>NaN</td>\n",
       "      <td>NO</td>\n",
       "    </tr>\n",
       "    <tr>\n",
       "      <th>79</th>\n",
       "      <td>80</td>\n",
       "      <td>1</td>\n",
       "      <td>1</td>\n",
       "      <td>0</td>\n",
       "      <td>0</td>\n",
       "      <td>0</td>\n",
       "      <td>0</td>\n",
       "      <td>0</td>\n",
       "      <td>0</td>\n",
       "      <td>0</td>\n",
       "      <td>...</td>\n",
       "      <td>f</td>\n",
       "      <td>NaN</td>\n",
       "      <td>yes</td>\n",
       "      <td>no</td>\n",
       "      <td>Jordan</td>\n",
       "      <td>no</td>\n",
       "      <td>2</td>\n",
       "      <td>18 and more</td>\n",
       "      <td>NaN</td>\n",
       "      <td>NO</td>\n",
       "    </tr>\n",
       "    <tr>\n",
       "      <th>80</th>\n",
       "      <td>81</td>\n",
       "      <td>0</td>\n",
       "      <td>0</td>\n",
       "      <td>1</td>\n",
       "      <td>1</td>\n",
       "      <td>0</td>\n",
       "      <td>0</td>\n",
       "      <td>1</td>\n",
       "      <td>1</td>\n",
       "      <td>0</td>\n",
       "      <td>...</td>\n",
       "      <td>m</td>\n",
       "      <td>NaN</td>\n",
       "      <td>yes</td>\n",
       "      <td>yes</td>\n",
       "      <td>Afghanistan</td>\n",
       "      <td>no</td>\n",
       "      <td>5</td>\n",
       "      <td>18 and more</td>\n",
       "      <td>NaN</td>\n",
       "      <td>NO</td>\n",
       "    </tr>\n",
       "    <tr>\n",
       "      <th>81</th>\n",
       "      <td>82</td>\n",
       "      <td>1</td>\n",
       "      <td>0</td>\n",
       "      <td>0</td>\n",
       "      <td>0</td>\n",
       "      <td>0</td>\n",
       "      <td>0</td>\n",
       "      <td>1</td>\n",
       "      <td>0</td>\n",
       "      <td>0</td>\n",
       "      <td>...</td>\n",
       "      <td>m</td>\n",
       "      <td>NaN</td>\n",
       "      <td>no</td>\n",
       "      <td>no</td>\n",
       "      <td>Jordan</td>\n",
       "      <td>no</td>\n",
       "      <td>3</td>\n",
       "      <td>18 and more</td>\n",
       "      <td>NaN</td>\n",
       "      <td>NO</td>\n",
       "    </tr>\n",
       "    <tr>\n",
       "      <th>91</th>\n",
       "      <td>92</td>\n",
       "      <td>0</td>\n",
       "      <td>1</td>\n",
       "      <td>0</td>\n",
       "      <td>0</td>\n",
       "      <td>1</td>\n",
       "      <td>0</td>\n",
       "      <td>1</td>\n",
       "      <td>0</td>\n",
       "      <td>0</td>\n",
       "      <td>...</td>\n",
       "      <td>f</td>\n",
       "      <td>NaN</td>\n",
       "      <td>no</td>\n",
       "      <td>no</td>\n",
       "      <td>Jordan</td>\n",
       "      <td>no</td>\n",
       "      <td>4</td>\n",
       "      <td>18 and more</td>\n",
       "      <td>NaN</td>\n",
       "      <td>NO</td>\n",
       "    </tr>\n",
       "    <tr>\n",
       "      <th>216</th>\n",
       "      <td>217</td>\n",
       "      <td>1</td>\n",
       "      <td>0</td>\n",
       "      <td>0</td>\n",
       "      <td>0</td>\n",
       "      <td>0</td>\n",
       "      <td>0</td>\n",
       "      <td>1</td>\n",
       "      <td>1</td>\n",
       "      <td>0</td>\n",
       "      <td>...</td>\n",
       "      <td>f</td>\n",
       "      <td>NaN</td>\n",
       "      <td>yes</td>\n",
       "      <td>no</td>\n",
       "      <td>United Arab Emirates</td>\n",
       "      <td>no</td>\n",
       "      <td>4</td>\n",
       "      <td>18 and more</td>\n",
       "      <td>NaN</td>\n",
       "      <td>NO</td>\n",
       "    </tr>\n",
       "    <tr>\n",
       "      <th>221</th>\n",
       "      <td>222</td>\n",
       "      <td>0</td>\n",
       "      <td>0</td>\n",
       "      <td>1</td>\n",
       "      <td>0</td>\n",
       "      <td>0</td>\n",
       "      <td>0</td>\n",
       "      <td>0</td>\n",
       "      <td>0</td>\n",
       "      <td>0</td>\n",
       "      <td>...</td>\n",
       "      <td>f</td>\n",
       "      <td>NaN</td>\n",
       "      <td>no</td>\n",
       "      <td>no</td>\n",
       "      <td>Afghanistan</td>\n",
       "      <td>no</td>\n",
       "      <td>1</td>\n",
       "      <td>18 and more</td>\n",
       "      <td>NaN</td>\n",
       "      <td>NO</td>\n",
       "    </tr>\n",
       "    <tr>\n",
       "      <th>238</th>\n",
       "      <td>239</td>\n",
       "      <td>0</td>\n",
       "      <td>1</td>\n",
       "      <td>0</td>\n",
       "      <td>0</td>\n",
       "      <td>0</td>\n",
       "      <td>0</td>\n",
       "      <td>0</td>\n",
       "      <td>1</td>\n",
       "      <td>1</td>\n",
       "      <td>...</td>\n",
       "      <td>m</td>\n",
       "      <td>NaN</td>\n",
       "      <td>no</td>\n",
       "      <td>no</td>\n",
       "      <td>Russia</td>\n",
       "      <td>no</td>\n",
       "      <td>3</td>\n",
       "      <td>18 and more</td>\n",
       "      <td>NaN</td>\n",
       "      <td>NO</td>\n",
       "    </tr>\n",
       "    <tr>\n",
       "      <th>257</th>\n",
       "      <td>258</td>\n",
       "      <td>0</td>\n",
       "      <td>1</td>\n",
       "      <td>1</td>\n",
       "      <td>0</td>\n",
       "      <td>1</td>\n",
       "      <td>0</td>\n",
       "      <td>0</td>\n",
       "      <td>1</td>\n",
       "      <td>0</td>\n",
       "      <td>...</td>\n",
       "      <td>m</td>\n",
       "      <td>NaN</td>\n",
       "      <td>no</td>\n",
       "      <td>no</td>\n",
       "      <td>New Zealand</td>\n",
       "      <td>no</td>\n",
       "      <td>4</td>\n",
       "      <td>18 and more</td>\n",
       "      <td>NaN</td>\n",
       "      <td>NO</td>\n",
       "    </tr>\n",
       "    <tr>\n",
       "      <th>270</th>\n",
       "      <td>271</td>\n",
       "      <td>1</td>\n",
       "      <td>0</td>\n",
       "      <td>1</td>\n",
       "      <td>1</td>\n",
       "      <td>1</td>\n",
       "      <td>1</td>\n",
       "      <td>0</td>\n",
       "      <td>0</td>\n",
       "      <td>1</td>\n",
       "      <td>...</td>\n",
       "      <td>f</td>\n",
       "      <td>NaN</td>\n",
       "      <td>no</td>\n",
       "      <td>yes</td>\n",
       "      <td>Russia</td>\n",
       "      <td>no</td>\n",
       "      <td>7</td>\n",
       "      <td>18 and more</td>\n",
       "      <td>NaN</td>\n",
       "      <td>YES</td>\n",
       "    </tr>\n",
       "    <tr>\n",
       "      <th>276</th>\n",
       "      <td>277</td>\n",
       "      <td>1</td>\n",
       "      <td>0</td>\n",
       "      <td>0</td>\n",
       "      <td>0</td>\n",
       "      <td>1</td>\n",
       "      <td>0</td>\n",
       "      <td>0</td>\n",
       "      <td>0</td>\n",
       "      <td>1</td>\n",
       "      <td>...</td>\n",
       "      <td>m</td>\n",
       "      <td>NaN</td>\n",
       "      <td>no</td>\n",
       "      <td>no</td>\n",
       "      <td>Jordan</td>\n",
       "      <td>no</td>\n",
       "      <td>3</td>\n",
       "      <td>18 and more</td>\n",
       "      <td>NaN</td>\n",
       "      <td>NO</td>\n",
       "    </tr>\n",
       "    <tr>\n",
       "      <th>277</th>\n",
       "      <td>278</td>\n",
       "      <td>1</td>\n",
       "      <td>1</td>\n",
       "      <td>0</td>\n",
       "      <td>0</td>\n",
       "      <td>0</td>\n",
       "      <td>0</td>\n",
       "      <td>0</td>\n",
       "      <td>0</td>\n",
       "      <td>0</td>\n",
       "      <td>...</td>\n",
       "      <td>f</td>\n",
       "      <td>NaN</td>\n",
       "      <td>no</td>\n",
       "      <td>yes</td>\n",
       "      <td>Jordan</td>\n",
       "      <td>no</td>\n",
       "      <td>2</td>\n",
       "      <td>18 and more</td>\n",
       "      <td>NaN</td>\n",
       "      <td>NO</td>\n",
       "    </tr>\n",
       "    <tr>\n",
       "      <th>285</th>\n",
       "      <td>286</td>\n",
       "      <td>0</td>\n",
       "      <td>0</td>\n",
       "      <td>0</td>\n",
       "      <td>1</td>\n",
       "      <td>1</td>\n",
       "      <td>1</td>\n",
       "      <td>1</td>\n",
       "      <td>0</td>\n",
       "      <td>1</td>\n",
       "      <td>...</td>\n",
       "      <td>f</td>\n",
       "      <td>NaN</td>\n",
       "      <td>no</td>\n",
       "      <td>no</td>\n",
       "      <td>Hong Kong</td>\n",
       "      <td>no</td>\n",
       "      <td>6</td>\n",
       "      <td>18 and more</td>\n",
       "      <td>NaN</td>\n",
       "      <td>NO</td>\n",
       "    </tr>\n",
       "    <tr>\n",
       "      <th>306</th>\n",
       "      <td>307</td>\n",
       "      <td>1</td>\n",
       "      <td>0</td>\n",
       "      <td>0</td>\n",
       "      <td>1</td>\n",
       "      <td>1</td>\n",
       "      <td>0</td>\n",
       "      <td>1</td>\n",
       "      <td>1</td>\n",
       "      <td>1</td>\n",
       "      <td>...</td>\n",
       "      <td>f</td>\n",
       "      <td>NaN</td>\n",
       "      <td>no</td>\n",
       "      <td>no</td>\n",
       "      <td>Saudi Arabia</td>\n",
       "      <td>no</td>\n",
       "      <td>7</td>\n",
       "      <td>18 and more</td>\n",
       "      <td>NaN</td>\n",
       "      <td>YES</td>\n",
       "    </tr>\n",
       "    <tr>\n",
       "      <th>315</th>\n",
       "      <td>316</td>\n",
       "      <td>1</td>\n",
       "      <td>1</td>\n",
       "      <td>0</td>\n",
       "      <td>0</td>\n",
       "      <td>0</td>\n",
       "      <td>0</td>\n",
       "      <td>0</td>\n",
       "      <td>1</td>\n",
       "      <td>0</td>\n",
       "      <td>...</td>\n",
       "      <td>m</td>\n",
       "      <td>NaN</td>\n",
       "      <td>no</td>\n",
       "      <td>no</td>\n",
       "      <td>United Arab Emirates</td>\n",
       "      <td>no</td>\n",
       "      <td>3</td>\n",
       "      <td>18 and more</td>\n",
       "      <td>NaN</td>\n",
       "      <td>NO</td>\n",
       "    </tr>\n",
       "    <tr>\n",
       "      <th>324</th>\n",
       "      <td>325</td>\n",
       "      <td>1</td>\n",
       "      <td>0</td>\n",
       "      <td>0</td>\n",
       "      <td>0</td>\n",
       "      <td>0</td>\n",
       "      <td>0</td>\n",
       "      <td>0</td>\n",
       "      <td>0</td>\n",
       "      <td>0</td>\n",
       "      <td>...</td>\n",
       "      <td>f</td>\n",
       "      <td>NaN</td>\n",
       "      <td>no</td>\n",
       "      <td>no</td>\n",
       "      <td>United Arab Emirates</td>\n",
       "      <td>no</td>\n",
       "      <td>2</td>\n",
       "      <td>18 and more</td>\n",
       "      <td>NaN</td>\n",
       "      <td>NO</td>\n",
       "    </tr>\n",
       "    <tr>\n",
       "      <th>337</th>\n",
       "      <td>338</td>\n",
       "      <td>1</td>\n",
       "      <td>1</td>\n",
       "      <td>0</td>\n",
       "      <td>0</td>\n",
       "      <td>0</td>\n",
       "      <td>0</td>\n",
       "      <td>0</td>\n",
       "      <td>0</td>\n",
       "      <td>0</td>\n",
       "      <td>...</td>\n",
       "      <td>m</td>\n",
       "      <td>NaN</td>\n",
       "      <td>no</td>\n",
       "      <td>no</td>\n",
       "      <td>Jordan</td>\n",
       "      <td>no</td>\n",
       "      <td>3</td>\n",
       "      <td>18 and more</td>\n",
       "      <td>NaN</td>\n",
       "      <td>NO</td>\n",
       "    </tr>\n",
       "    <tr>\n",
       "      <th>338</th>\n",
       "      <td>339</td>\n",
       "      <td>1</td>\n",
       "      <td>0</td>\n",
       "      <td>1</td>\n",
       "      <td>0</td>\n",
       "      <td>0</td>\n",
       "      <td>0</td>\n",
       "      <td>1</td>\n",
       "      <td>1</td>\n",
       "      <td>0</td>\n",
       "      <td>...</td>\n",
       "      <td>f</td>\n",
       "      <td>NaN</td>\n",
       "      <td>no</td>\n",
       "      <td>no</td>\n",
       "      <td>Jordan</td>\n",
       "      <td>no</td>\n",
       "      <td>4</td>\n",
       "      <td>18 and more</td>\n",
       "      <td>NaN</td>\n",
       "      <td>NO</td>\n",
       "    </tr>\n",
       "    <tr>\n",
       "      <th>339</th>\n",
       "      <td>340</td>\n",
       "      <td>1</td>\n",
       "      <td>0</td>\n",
       "      <td>0</td>\n",
       "      <td>0</td>\n",
       "      <td>0</td>\n",
       "      <td>0</td>\n",
       "      <td>1</td>\n",
       "      <td>0</td>\n",
       "      <td>0</td>\n",
       "      <td>...</td>\n",
       "      <td>f</td>\n",
       "      <td>NaN</td>\n",
       "      <td>no</td>\n",
       "      <td>no</td>\n",
       "      <td>Jordan</td>\n",
       "      <td>no</td>\n",
       "      <td>2</td>\n",
       "      <td>18 and more</td>\n",
       "      <td>NaN</td>\n",
       "      <td>NO</td>\n",
       "    </tr>\n",
       "    <tr>\n",
       "      <th>340</th>\n",
       "      <td>341</td>\n",
       "      <td>1</td>\n",
       "      <td>0</td>\n",
       "      <td>1</td>\n",
       "      <td>1</td>\n",
       "      <td>0</td>\n",
       "      <td>0</td>\n",
       "      <td>1</td>\n",
       "      <td>1</td>\n",
       "      <td>1</td>\n",
       "      <td>...</td>\n",
       "      <td>f</td>\n",
       "      <td>NaN</td>\n",
       "      <td>no</td>\n",
       "      <td>no</td>\n",
       "      <td>Jordan</td>\n",
       "      <td>no</td>\n",
       "      <td>6</td>\n",
       "      <td>18 and more</td>\n",
       "      <td>NaN</td>\n",
       "      <td>NO</td>\n",
       "    </tr>\n",
       "    <tr>\n",
       "      <th>341</th>\n",
       "      <td>342</td>\n",
       "      <td>1</td>\n",
       "      <td>1</td>\n",
       "      <td>1</td>\n",
       "      <td>1</td>\n",
       "      <td>1</td>\n",
       "      <td>0</td>\n",
       "      <td>0</td>\n",
       "      <td>1</td>\n",
       "      <td>0</td>\n",
       "      <td>...</td>\n",
       "      <td>m</td>\n",
       "      <td>NaN</td>\n",
       "      <td>no</td>\n",
       "      <td>no</td>\n",
       "      <td>Jordan</td>\n",
       "      <td>no</td>\n",
       "      <td>6</td>\n",
       "      <td>18 and more</td>\n",
       "      <td>NaN</td>\n",
       "      <td>NO</td>\n",
       "    </tr>\n",
       "    <tr>\n",
       "      <th>342</th>\n",
       "      <td>343</td>\n",
       "      <td>1</td>\n",
       "      <td>0</td>\n",
       "      <td>1</td>\n",
       "      <td>1</td>\n",
       "      <td>0</td>\n",
       "      <td>0</td>\n",
       "      <td>0</td>\n",
       "      <td>0</td>\n",
       "      <td>0</td>\n",
       "      <td>...</td>\n",
       "      <td>f</td>\n",
       "      <td>NaN</td>\n",
       "      <td>no</td>\n",
       "      <td>no</td>\n",
       "      <td>Jordan</td>\n",
       "      <td>no</td>\n",
       "      <td>3</td>\n",
       "      <td>18 and more</td>\n",
       "      <td>NaN</td>\n",
       "      <td>NO</td>\n",
       "    </tr>\n",
       "    <tr>\n",
       "      <th>...</th>\n",
       "      <td>...</td>\n",
       "      <td>...</td>\n",
       "      <td>...</td>\n",
       "      <td>...</td>\n",
       "      <td>...</td>\n",
       "      <td>...</td>\n",
       "      <td>...</td>\n",
       "      <td>...</td>\n",
       "      <td>...</td>\n",
       "      <td>...</td>\n",
       "      <td>...</td>\n",
       "      <td>...</td>\n",
       "      <td>...</td>\n",
       "      <td>...</td>\n",
       "      <td>...</td>\n",
       "      <td>...</td>\n",
       "      <td>...</td>\n",
       "      <td>...</td>\n",
       "      <td>...</td>\n",
       "      <td>...</td>\n",
       "      <td>...</td>\n",
       "    </tr>\n",
       "    <tr>\n",
       "      <th>423</th>\n",
       "      <td>424</td>\n",
       "      <td>0</td>\n",
       "      <td>1</td>\n",
       "      <td>0</td>\n",
       "      <td>1</td>\n",
       "      <td>0</td>\n",
       "      <td>0</td>\n",
       "      <td>0</td>\n",
       "      <td>0</td>\n",
       "      <td>0</td>\n",
       "      <td>...</td>\n",
       "      <td>f</td>\n",
       "      <td>NaN</td>\n",
       "      <td>no</td>\n",
       "      <td>no</td>\n",
       "      <td>United Arab Emirates</td>\n",
       "      <td>no</td>\n",
       "      <td>2</td>\n",
       "      <td>18 and more</td>\n",
       "      <td>NaN</td>\n",
       "      <td>NO</td>\n",
       "    </tr>\n",
       "    <tr>\n",
       "      <th>427</th>\n",
       "      <td>428</td>\n",
       "      <td>1</td>\n",
       "      <td>0</td>\n",
       "      <td>0</td>\n",
       "      <td>1</td>\n",
       "      <td>0</td>\n",
       "      <td>0</td>\n",
       "      <td>1</td>\n",
       "      <td>1</td>\n",
       "      <td>0</td>\n",
       "      <td>...</td>\n",
       "      <td>m</td>\n",
       "      <td>NaN</td>\n",
       "      <td>no</td>\n",
       "      <td>no</td>\n",
       "      <td>Jordan</td>\n",
       "      <td>no</td>\n",
       "      <td>4</td>\n",
       "      <td>18 and more</td>\n",
       "      <td>NaN</td>\n",
       "      <td>NO</td>\n",
       "    </tr>\n",
       "    <tr>\n",
       "      <th>428</th>\n",
       "      <td>429</td>\n",
       "      <td>0</td>\n",
       "      <td>0</td>\n",
       "      <td>0</td>\n",
       "      <td>0</td>\n",
       "      <td>1</td>\n",
       "      <td>0</td>\n",
       "      <td>1</td>\n",
       "      <td>0</td>\n",
       "      <td>0</td>\n",
       "      <td>...</td>\n",
       "      <td>f</td>\n",
       "      <td>NaN</td>\n",
       "      <td>no</td>\n",
       "      <td>no</td>\n",
       "      <td>Brazil</td>\n",
       "      <td>yes</td>\n",
       "      <td>2</td>\n",
       "      <td>18 and more</td>\n",
       "      <td>NaN</td>\n",
       "      <td>NO</td>\n",
       "    </tr>\n",
       "    <tr>\n",
       "      <th>429</th>\n",
       "      <td>430</td>\n",
       "      <td>1</td>\n",
       "      <td>0</td>\n",
       "      <td>1</td>\n",
       "      <td>0</td>\n",
       "      <td>1</td>\n",
       "      <td>0</td>\n",
       "      <td>1</td>\n",
       "      <td>1</td>\n",
       "      <td>1</td>\n",
       "      <td>...</td>\n",
       "      <td>m</td>\n",
       "      <td>NaN</td>\n",
       "      <td>no</td>\n",
       "      <td>no</td>\n",
       "      <td>Jordan</td>\n",
       "      <td>no</td>\n",
       "      <td>6</td>\n",
       "      <td>18 and more</td>\n",
       "      <td>NaN</td>\n",
       "      <td>NO</td>\n",
       "    </tr>\n",
       "    <tr>\n",
       "      <th>432</th>\n",
       "      <td>433</td>\n",
       "      <td>1</td>\n",
       "      <td>0</td>\n",
       "      <td>0</td>\n",
       "      <td>1</td>\n",
       "      <td>1</td>\n",
       "      <td>0</td>\n",
       "      <td>0</td>\n",
       "      <td>0</td>\n",
       "      <td>0</td>\n",
       "      <td>...</td>\n",
       "      <td>m</td>\n",
       "      <td>NaN</td>\n",
       "      <td>no</td>\n",
       "      <td>no</td>\n",
       "      <td>Jordan</td>\n",
       "      <td>no</td>\n",
       "      <td>3</td>\n",
       "      <td>18 and more</td>\n",
       "      <td>NaN</td>\n",
       "      <td>NO</td>\n",
       "    </tr>\n",
       "    <tr>\n",
       "      <th>438</th>\n",
       "      <td>439</td>\n",
       "      <td>1</td>\n",
       "      <td>1</td>\n",
       "      <td>0</td>\n",
       "      <td>0</td>\n",
       "      <td>0</td>\n",
       "      <td>0</td>\n",
       "      <td>0</td>\n",
       "      <td>1</td>\n",
       "      <td>0</td>\n",
       "      <td>...</td>\n",
       "      <td>f</td>\n",
       "      <td>NaN</td>\n",
       "      <td>no</td>\n",
       "      <td>no</td>\n",
       "      <td>Jordan</td>\n",
       "      <td>no</td>\n",
       "      <td>4</td>\n",
       "      <td>18 and more</td>\n",
       "      <td>NaN</td>\n",
       "      <td>NO</td>\n",
       "    </tr>\n",
       "    <tr>\n",
       "      <th>453</th>\n",
       "      <td>454</td>\n",
       "      <td>0</td>\n",
       "      <td>0</td>\n",
       "      <td>1</td>\n",
       "      <td>1</td>\n",
       "      <td>1</td>\n",
       "      <td>0</td>\n",
       "      <td>0</td>\n",
       "      <td>0</td>\n",
       "      <td>0</td>\n",
       "      <td>...</td>\n",
       "      <td>f</td>\n",
       "      <td>NaN</td>\n",
       "      <td>yes</td>\n",
       "      <td>no</td>\n",
       "      <td>Jordan</td>\n",
       "      <td>no</td>\n",
       "      <td>4</td>\n",
       "      <td>18 and more</td>\n",
       "      <td>NaN</td>\n",
       "      <td>NO</td>\n",
       "    </tr>\n",
       "    <tr>\n",
       "      <th>485</th>\n",
       "      <td>486</td>\n",
       "      <td>0</td>\n",
       "      <td>1</td>\n",
       "      <td>0</td>\n",
       "      <td>0</td>\n",
       "      <td>0</td>\n",
       "      <td>0</td>\n",
       "      <td>0</td>\n",
       "      <td>1</td>\n",
       "      <td>1</td>\n",
       "      <td>...</td>\n",
       "      <td>m</td>\n",
       "      <td>NaN</td>\n",
       "      <td>no</td>\n",
       "      <td>no</td>\n",
       "      <td>Jordan</td>\n",
       "      <td>no</td>\n",
       "      <td>3</td>\n",
       "      <td>18 and more</td>\n",
       "      <td>NaN</td>\n",
       "      <td>NO</td>\n",
       "    </tr>\n",
       "    <tr>\n",
       "      <th>505</th>\n",
       "      <td>506</td>\n",
       "      <td>1</td>\n",
       "      <td>0</td>\n",
       "      <td>1</td>\n",
       "      <td>0</td>\n",
       "      <td>1</td>\n",
       "      <td>0</td>\n",
       "      <td>1</td>\n",
       "      <td>1</td>\n",
       "      <td>0</td>\n",
       "      <td>...</td>\n",
       "      <td>m</td>\n",
       "      <td>NaN</td>\n",
       "      <td>yes</td>\n",
       "      <td>yes</td>\n",
       "      <td>United Kingdom</td>\n",
       "      <td>no</td>\n",
       "      <td>6</td>\n",
       "      <td>18 and more</td>\n",
       "      <td>NaN</td>\n",
       "      <td>NO</td>\n",
       "    </tr>\n",
       "    <tr>\n",
       "      <th>518</th>\n",
       "      <td>519</td>\n",
       "      <td>0</td>\n",
       "      <td>1</td>\n",
       "      <td>0</td>\n",
       "      <td>0</td>\n",
       "      <td>0</td>\n",
       "      <td>0</td>\n",
       "      <td>0</td>\n",
       "      <td>0</td>\n",
       "      <td>1</td>\n",
       "      <td>...</td>\n",
       "      <td>f</td>\n",
       "      <td>NaN</td>\n",
       "      <td>no</td>\n",
       "      <td>no</td>\n",
       "      <td>New Zealand</td>\n",
       "      <td>no</td>\n",
       "      <td>3</td>\n",
       "      <td>18 and more</td>\n",
       "      <td>NaN</td>\n",
       "      <td>NO</td>\n",
       "    </tr>\n",
       "    <tr>\n",
       "      <th>527</th>\n",
       "      <td>528</td>\n",
       "      <td>0</td>\n",
       "      <td>0</td>\n",
       "      <td>0</td>\n",
       "      <td>0</td>\n",
       "      <td>1</td>\n",
       "      <td>0</td>\n",
       "      <td>0</td>\n",
       "      <td>1</td>\n",
       "      <td>0</td>\n",
       "      <td>...</td>\n",
       "      <td>f</td>\n",
       "      <td>NaN</td>\n",
       "      <td>no</td>\n",
       "      <td>no</td>\n",
       "      <td>Iran</td>\n",
       "      <td>no</td>\n",
       "      <td>3</td>\n",
       "      <td>18 and more</td>\n",
       "      <td>NaN</td>\n",
       "      <td>NO</td>\n",
       "    </tr>\n",
       "    <tr>\n",
       "      <th>534</th>\n",
       "      <td>535</td>\n",
       "      <td>0</td>\n",
       "      <td>0</td>\n",
       "      <td>0</td>\n",
       "      <td>1</td>\n",
       "      <td>1</td>\n",
       "      <td>0</td>\n",
       "      <td>1</td>\n",
       "      <td>0</td>\n",
       "      <td>0</td>\n",
       "      <td>...</td>\n",
       "      <td>f</td>\n",
       "      <td>NaN</td>\n",
       "      <td>no</td>\n",
       "      <td>no</td>\n",
       "      <td>Iran</td>\n",
       "      <td>no</td>\n",
       "      <td>4</td>\n",
       "      <td>18 and more</td>\n",
       "      <td>NaN</td>\n",
       "      <td>NO</td>\n",
       "    </tr>\n",
       "    <tr>\n",
       "      <th>535</th>\n",
       "      <td>536</td>\n",
       "      <td>0</td>\n",
       "      <td>1</td>\n",
       "      <td>0</td>\n",
       "      <td>0</td>\n",
       "      <td>1</td>\n",
       "      <td>0</td>\n",
       "      <td>0</td>\n",
       "      <td>0</td>\n",
       "      <td>0</td>\n",
       "      <td>...</td>\n",
       "      <td>m</td>\n",
       "      <td>NaN</td>\n",
       "      <td>no</td>\n",
       "      <td>no</td>\n",
       "      <td>Iran</td>\n",
       "      <td>no</td>\n",
       "      <td>3</td>\n",
       "      <td>18 and more</td>\n",
       "      <td>NaN</td>\n",
       "      <td>NO</td>\n",
       "    </tr>\n",
       "    <tr>\n",
       "      <th>536</th>\n",
       "      <td>537</td>\n",
       "      <td>0</td>\n",
       "      <td>1</td>\n",
       "      <td>0</td>\n",
       "      <td>0</td>\n",
       "      <td>1</td>\n",
       "      <td>0</td>\n",
       "      <td>0</td>\n",
       "      <td>0</td>\n",
       "      <td>0</td>\n",
       "      <td>...</td>\n",
       "      <td>f</td>\n",
       "      <td>NaN</td>\n",
       "      <td>no</td>\n",
       "      <td>no</td>\n",
       "      <td>Iran</td>\n",
       "      <td>no</td>\n",
       "      <td>2</td>\n",
       "      <td>18 and more</td>\n",
       "      <td>NaN</td>\n",
       "      <td>NO</td>\n",
       "    </tr>\n",
       "    <tr>\n",
       "      <th>537</th>\n",
       "      <td>538</td>\n",
       "      <td>0</td>\n",
       "      <td>1</td>\n",
       "      <td>0</td>\n",
       "      <td>0</td>\n",
       "      <td>1</td>\n",
       "      <td>1</td>\n",
       "      <td>0</td>\n",
       "      <td>0</td>\n",
       "      <td>1</td>\n",
       "      <td>...</td>\n",
       "      <td>m</td>\n",
       "      <td>NaN</td>\n",
       "      <td>no</td>\n",
       "      <td>no</td>\n",
       "      <td>Iran</td>\n",
       "      <td>no</td>\n",
       "      <td>5</td>\n",
       "      <td>18 and more</td>\n",
       "      <td>NaN</td>\n",
       "      <td>NO</td>\n",
       "    </tr>\n",
       "    <tr>\n",
       "      <th>556</th>\n",
       "      <td>557</td>\n",
       "      <td>1</td>\n",
       "      <td>1</td>\n",
       "      <td>0</td>\n",
       "      <td>0</td>\n",
       "      <td>0</td>\n",
       "      <td>0</td>\n",
       "      <td>0</td>\n",
       "      <td>1</td>\n",
       "      <td>0</td>\n",
       "      <td>...</td>\n",
       "      <td>m</td>\n",
       "      <td>NaN</td>\n",
       "      <td>no</td>\n",
       "      <td>no</td>\n",
       "      <td>Jordan</td>\n",
       "      <td>no</td>\n",
       "      <td>3</td>\n",
       "      <td>18 and more</td>\n",
       "      <td>NaN</td>\n",
       "      <td>NO</td>\n",
       "    </tr>\n",
       "    <tr>\n",
       "      <th>564</th>\n",
       "      <td>565</td>\n",
       "      <td>0</td>\n",
       "      <td>1</td>\n",
       "      <td>0</td>\n",
       "      <td>0</td>\n",
       "      <td>1</td>\n",
       "      <td>1</td>\n",
       "      <td>0</td>\n",
       "      <td>0</td>\n",
       "      <td>1</td>\n",
       "      <td>...</td>\n",
       "      <td>m</td>\n",
       "      <td>NaN</td>\n",
       "      <td>no</td>\n",
       "      <td>no</td>\n",
       "      <td>Kazakhstan</td>\n",
       "      <td>yes</td>\n",
       "      <td>4</td>\n",
       "      <td>18 and more</td>\n",
       "      <td>NaN</td>\n",
       "      <td>NO</td>\n",
       "    </tr>\n",
       "    <tr>\n",
       "      <th>571</th>\n",
       "      <td>572</td>\n",
       "      <td>1</td>\n",
       "      <td>0</td>\n",
       "      <td>0</td>\n",
       "      <td>0</td>\n",
       "      <td>0</td>\n",
       "      <td>0</td>\n",
       "      <td>0</td>\n",
       "      <td>1</td>\n",
       "      <td>0</td>\n",
       "      <td>...</td>\n",
       "      <td>m</td>\n",
       "      <td>NaN</td>\n",
       "      <td>no</td>\n",
       "      <td>no</td>\n",
       "      <td>Jordan</td>\n",
       "      <td>no</td>\n",
       "      <td>3</td>\n",
       "      <td>18 and more</td>\n",
       "      <td>NaN</td>\n",
       "      <td>NO</td>\n",
       "    </tr>\n",
       "    <tr>\n",
       "      <th>572</th>\n",
       "      <td>573</td>\n",
       "      <td>1</td>\n",
       "      <td>0</td>\n",
       "      <td>0</td>\n",
       "      <td>1</td>\n",
       "      <td>0</td>\n",
       "      <td>0</td>\n",
       "      <td>0</td>\n",
       "      <td>1</td>\n",
       "      <td>0</td>\n",
       "      <td>...</td>\n",
       "      <td>m</td>\n",
       "      <td>NaN</td>\n",
       "      <td>no</td>\n",
       "      <td>no</td>\n",
       "      <td>Jordan</td>\n",
       "      <td>no</td>\n",
       "      <td>3</td>\n",
       "      <td>18 and more</td>\n",
       "      <td>NaN</td>\n",
       "      <td>NO</td>\n",
       "    </tr>\n",
       "    <tr>\n",
       "      <th>588</th>\n",
       "      <td>589</td>\n",
       "      <td>1</td>\n",
       "      <td>0</td>\n",
       "      <td>1</td>\n",
       "      <td>1</td>\n",
       "      <td>1</td>\n",
       "      <td>1</td>\n",
       "      <td>1</td>\n",
       "      <td>1</td>\n",
       "      <td>1</td>\n",
       "      <td>...</td>\n",
       "      <td>f</td>\n",
       "      <td>NaN</td>\n",
       "      <td>no</td>\n",
       "      <td>no</td>\n",
       "      <td>New Zealand</td>\n",
       "      <td>no</td>\n",
       "      <td>9</td>\n",
       "      <td>18 and more</td>\n",
       "      <td>NaN</td>\n",
       "      <td>YES</td>\n",
       "    </tr>\n",
       "    <tr>\n",
       "      <th>593</th>\n",
       "      <td>594</td>\n",
       "      <td>1</td>\n",
       "      <td>0</td>\n",
       "      <td>0</td>\n",
       "      <td>0</td>\n",
       "      <td>0</td>\n",
       "      <td>0</td>\n",
       "      <td>0</td>\n",
       "      <td>0</td>\n",
       "      <td>0</td>\n",
       "      <td>...</td>\n",
       "      <td>m</td>\n",
       "      <td>NaN</td>\n",
       "      <td>no</td>\n",
       "      <td>no</td>\n",
       "      <td>Russia</td>\n",
       "      <td>no</td>\n",
       "      <td>1</td>\n",
       "      <td>18 and more</td>\n",
       "      <td>NaN</td>\n",
       "      <td>NO</td>\n",
       "    </tr>\n",
       "    <tr>\n",
       "      <th>636</th>\n",
       "      <td>637</td>\n",
       "      <td>0</td>\n",
       "      <td>0</td>\n",
       "      <td>0</td>\n",
       "      <td>0</td>\n",
       "      <td>0</td>\n",
       "      <td>0</td>\n",
       "      <td>0</td>\n",
       "      <td>0</td>\n",
       "      <td>0</td>\n",
       "      <td>...</td>\n",
       "      <td>f</td>\n",
       "      <td>NaN</td>\n",
       "      <td>no</td>\n",
       "      <td>no</td>\n",
       "      <td>Russia</td>\n",
       "      <td>no</td>\n",
       "      <td>0</td>\n",
       "      <td>18 and more</td>\n",
       "      <td>NaN</td>\n",
       "      <td>NO</td>\n",
       "    </tr>\n",
       "    <tr>\n",
       "      <th>642</th>\n",
       "      <td>643</td>\n",
       "      <td>0</td>\n",
       "      <td>0</td>\n",
       "      <td>0</td>\n",
       "      <td>0</td>\n",
       "      <td>1</td>\n",
       "      <td>0</td>\n",
       "      <td>0</td>\n",
       "      <td>1</td>\n",
       "      <td>0</td>\n",
       "      <td>...</td>\n",
       "      <td>f</td>\n",
       "      <td>NaN</td>\n",
       "      <td>no</td>\n",
       "      <td>no</td>\n",
       "      <td>New Zealand</td>\n",
       "      <td>no</td>\n",
       "      <td>2</td>\n",
       "      <td>18 and more</td>\n",
       "      <td>NaN</td>\n",
       "      <td>NO</td>\n",
       "    </tr>\n",
       "    <tr>\n",
       "      <th>645</th>\n",
       "      <td>646</td>\n",
       "      <td>1</td>\n",
       "      <td>0</td>\n",
       "      <td>1</td>\n",
       "      <td>1</td>\n",
       "      <td>0</td>\n",
       "      <td>0</td>\n",
       "      <td>1</td>\n",
       "      <td>1</td>\n",
       "      <td>1</td>\n",
       "      <td>...</td>\n",
       "      <td>m</td>\n",
       "      <td>NaN</td>\n",
       "      <td>no</td>\n",
       "      <td>yes</td>\n",
       "      <td>New Zealand</td>\n",
       "      <td>no</td>\n",
       "      <td>7</td>\n",
       "      <td>18 and more</td>\n",
       "      <td>NaN</td>\n",
       "      <td>YES</td>\n",
       "    </tr>\n",
       "    <tr>\n",
       "      <th>651</th>\n",
       "      <td>652</td>\n",
       "      <td>1</td>\n",
       "      <td>0</td>\n",
       "      <td>0</td>\n",
       "      <td>0</td>\n",
       "      <td>0</td>\n",
       "      <td>0</td>\n",
       "      <td>1</td>\n",
       "      <td>0</td>\n",
       "      <td>0</td>\n",
       "      <td>...</td>\n",
       "      <td>m</td>\n",
       "      <td>NaN</td>\n",
       "      <td>yes</td>\n",
       "      <td>no</td>\n",
       "      <td>Jordan</td>\n",
       "      <td>no</td>\n",
       "      <td>3</td>\n",
       "      <td>18 and more</td>\n",
       "      <td>NaN</td>\n",
       "      <td>NO</td>\n",
       "    </tr>\n",
       "    <tr>\n",
       "      <th>652</th>\n",
       "      <td>653</td>\n",
       "      <td>0</td>\n",
       "      <td>0</td>\n",
       "      <td>0</td>\n",
       "      <td>0</td>\n",
       "      <td>0</td>\n",
       "      <td>0</td>\n",
       "      <td>0</td>\n",
       "      <td>0</td>\n",
       "      <td>0</td>\n",
       "      <td>...</td>\n",
       "      <td>f</td>\n",
       "      <td>NaN</td>\n",
       "      <td>no</td>\n",
       "      <td>no</td>\n",
       "      <td>United States</td>\n",
       "      <td>no</td>\n",
       "      <td>1</td>\n",
       "      <td>18 and more</td>\n",
       "      <td>NaN</td>\n",
       "      <td>NO</td>\n",
       "    </tr>\n",
       "    <tr>\n",
       "      <th>658</th>\n",
       "      <td>659</td>\n",
       "      <td>0</td>\n",
       "      <td>0</td>\n",
       "      <td>1</td>\n",
       "      <td>1</td>\n",
       "      <td>0</td>\n",
       "      <td>0</td>\n",
       "      <td>1</td>\n",
       "      <td>0</td>\n",
       "      <td>0</td>\n",
       "      <td>...</td>\n",
       "      <td>m</td>\n",
       "      <td>NaN</td>\n",
       "      <td>no</td>\n",
       "      <td>no</td>\n",
       "      <td>Azerbaijan</td>\n",
       "      <td>no</td>\n",
       "      <td>3</td>\n",
       "      <td>18 and more</td>\n",
       "      <td>NaN</td>\n",
       "      <td>NO</td>\n",
       "    </tr>\n",
       "    <tr>\n",
       "      <th>659</th>\n",
       "      <td>660</td>\n",
       "      <td>1</td>\n",
       "      <td>1</td>\n",
       "      <td>1</td>\n",
       "      <td>1</td>\n",
       "      <td>1</td>\n",
       "      <td>1</td>\n",
       "      <td>0</td>\n",
       "      <td>0</td>\n",
       "      <td>1</td>\n",
       "      <td>...</td>\n",
       "      <td>m</td>\n",
       "      <td>NaN</td>\n",
       "      <td>no</td>\n",
       "      <td>no</td>\n",
       "      <td>Pakistan</td>\n",
       "      <td>no</td>\n",
       "      <td>8</td>\n",
       "      <td>18 and more</td>\n",
       "      <td>NaN</td>\n",
       "      <td>YES</td>\n",
       "    </tr>\n",
       "    <tr>\n",
       "      <th>666</th>\n",
       "      <td>667</td>\n",
       "      <td>0</td>\n",
       "      <td>0</td>\n",
       "      <td>0</td>\n",
       "      <td>0</td>\n",
       "      <td>0</td>\n",
       "      <td>0</td>\n",
       "      <td>0</td>\n",
       "      <td>1</td>\n",
       "      <td>0</td>\n",
       "      <td>...</td>\n",
       "      <td>m</td>\n",
       "      <td>NaN</td>\n",
       "      <td>no</td>\n",
       "      <td>no</td>\n",
       "      <td>Iraq</td>\n",
       "      <td>no</td>\n",
       "      <td>1</td>\n",
       "      <td>18 and more</td>\n",
       "      <td>NaN</td>\n",
       "      <td>NO</td>\n",
       "    </tr>\n",
       "    <tr>\n",
       "      <th>701</th>\n",
       "      <td>702</td>\n",
       "      <td>1</td>\n",
       "      <td>0</td>\n",
       "      <td>1</td>\n",
       "      <td>1</td>\n",
       "      <td>1</td>\n",
       "      <td>0</td>\n",
       "      <td>1</td>\n",
       "      <td>1</td>\n",
       "      <td>0</td>\n",
       "      <td>...</td>\n",
       "      <td>f</td>\n",
       "      <td>NaN</td>\n",
       "      <td>no</td>\n",
       "      <td>no</td>\n",
       "      <td>Russia</td>\n",
       "      <td>no</td>\n",
       "      <td>7</td>\n",
       "      <td>18 and more</td>\n",
       "      <td>NaN</td>\n",
       "      <td>YES</td>\n",
       "    </tr>\n",
       "  </tbody>\n",
       "</table>\n",
       "<p>95 rows × 22 columns</p>\n",
       "</div>"
      ],
      "text/plain": [
       "      id  A1_Score  A2_Score  A3_Score  A4_Score  A5_Score  A6_Score  \\\n",
       "4      5         1         0         0         0         0         0   \n",
       "12    13         0         1         1         1         1         1   \n",
       "13    14         1         0         0         0         0         0   \n",
       "14    15         1         0         0         0         0         0   \n",
       "19    20         0         0         0         0         0         0   \n",
       "20    21         0         1         1         1         0         0   \n",
       "24    25         1         1         1         1         0         0   \n",
       "25    26         0         1         1         0         0         0   \n",
       "62    63         0         0         0         0         0         0   \n",
       "79    80         1         1         0         0         0         0   \n",
       "80    81         0         0         1         1         0         0   \n",
       "81    82         1         0         0         0         0         0   \n",
       "91    92         0         1         0         0         1         0   \n",
       "216  217         1         0         0         0         0         0   \n",
       "221  222         0         0         1         0         0         0   \n",
       "238  239         0         1         0         0         0         0   \n",
       "257  258         0         1         1         0         1         0   \n",
       "270  271         1         0         1         1         1         1   \n",
       "276  277         1         0         0         0         1         0   \n",
       "277  278         1         1         0         0         0         0   \n",
       "285  286         0         0         0         1         1         1   \n",
       "306  307         1         0         0         1         1         0   \n",
       "315  316         1         1         0         0         0         0   \n",
       "324  325         1         0         0         0         0         0   \n",
       "337  338         1         1         0         0         0         0   \n",
       "338  339         1         0         1         0         0         0   \n",
       "339  340         1         0         0         0         0         0   \n",
       "340  341         1         0         1         1         0         0   \n",
       "341  342         1         1         1         1         1         0   \n",
       "342  343         1         0         1         1         0         0   \n",
       "..   ...       ...       ...       ...       ...       ...       ...   \n",
       "423  424         0         1         0         1         0         0   \n",
       "427  428         1         0         0         1         0         0   \n",
       "428  429         0         0         0         0         1         0   \n",
       "429  430         1         0         1         0         1         0   \n",
       "432  433         1         0         0         1         1         0   \n",
       "438  439         1         1         0         0         0         0   \n",
       "453  454         0         0         1         1         1         0   \n",
       "485  486         0         1         0         0         0         0   \n",
       "505  506         1         0         1         0         1         0   \n",
       "518  519         0         1         0         0         0         0   \n",
       "527  528         0         0         0         0         1         0   \n",
       "534  535         0         0         0         1         1         0   \n",
       "535  536         0         1         0         0         1         0   \n",
       "536  537         0         1         0         0         1         0   \n",
       "537  538         0         1         0         0         1         1   \n",
       "556  557         1         1         0         0         0         0   \n",
       "564  565         0         1         0         0         1         1   \n",
       "571  572         1         0         0         0         0         0   \n",
       "572  573         1         0         0         1         0         0   \n",
       "588  589         1         0         1         1         1         1   \n",
       "593  594         1         0         0         0         0         0   \n",
       "636  637         0         0         0         0         0         0   \n",
       "642  643         0         0         0         0         1         0   \n",
       "645  646         1         0         1         1         0         0   \n",
       "651  652         1         0         0         0         0         0   \n",
       "652  653         0         0         0         0         0         0   \n",
       "658  659         0         0         1         1         0         0   \n",
       "659  660         1         1         1         1         1         1   \n",
       "666  667         0         0         0         0         0         0   \n",
       "701  702         1         0         1         1         1         0   \n",
       "\n",
       "     A7_Score  A8_Score  A9_Score    ...     gender  ethnicity jundice austim  \\\n",
       "4           0         1         0    ...          f        NaN      no     no   \n",
       "12          0         0         1    ...          f        NaN      no     no   \n",
       "13          1         1         0    ...          m        NaN      no     no   \n",
       "14          1         1         0    ...          f        NaN      no     no   \n",
       "19          1         1         0    ...          m        NaN     yes     no   \n",
       "20          0         0         0    ...          m        NaN      no     no   \n",
       "24          0         1         0    ...          m        NaN      no     no   \n",
       "25          0         1         0    ...          f        NaN     yes     no   \n",
       "62          0         0         0    ...          m        NaN      no     no   \n",
       "79          0         0         0    ...          f        NaN     yes     no   \n",
       "80          1         1         0    ...          m        NaN     yes    yes   \n",
       "81          1         0         0    ...          m        NaN      no     no   \n",
       "91          1         0         0    ...          f        NaN      no     no   \n",
       "216         1         1         0    ...          f        NaN     yes     no   \n",
       "221         0         0         0    ...          f        NaN      no     no   \n",
       "238         0         1         1    ...          m        NaN      no     no   \n",
       "257         0         1         0    ...          m        NaN      no     no   \n",
       "270         0         0         1    ...          f        NaN      no    yes   \n",
       "276         0         0         1    ...          m        NaN      no     no   \n",
       "277         0         0         0    ...          f        NaN      no    yes   \n",
       "285         1         0         1    ...          f        NaN      no     no   \n",
       "306         1         1         1    ...          f        NaN      no     no   \n",
       "315         0         1         0    ...          m        NaN      no     no   \n",
       "324         0         0         0    ...          f        NaN      no     no   \n",
       "337         0         0         0    ...          m        NaN      no     no   \n",
       "338         1         1         0    ...          f        NaN      no     no   \n",
       "339         1         0         0    ...          f        NaN      no     no   \n",
       "340         1         1         1    ...          f        NaN      no     no   \n",
       "341         0         1         0    ...          m        NaN      no     no   \n",
       "342         0         0         0    ...          f        NaN      no     no   \n",
       "..        ...       ...       ...    ...        ...        ...     ...    ...   \n",
       "423         0         0         0    ...          f        NaN      no     no   \n",
       "427         1         1         0    ...          m        NaN      no     no   \n",
       "428         1         0         0    ...          f        NaN      no     no   \n",
       "429         1         1         1    ...          m        NaN      no     no   \n",
       "432         0         0         0    ...          m        NaN      no     no   \n",
       "438         0         1         0    ...          f        NaN      no     no   \n",
       "453         0         0         0    ...          f        NaN     yes     no   \n",
       "485         0         1         1    ...          m        NaN      no     no   \n",
       "505         1         1         0    ...          m        NaN     yes    yes   \n",
       "518         0         0         1    ...          f        NaN      no     no   \n",
       "527         0         1         0    ...          f        NaN      no     no   \n",
       "534         1         0         0    ...          f        NaN      no     no   \n",
       "535         0         0         0    ...          m        NaN      no     no   \n",
       "536         0         0         0    ...          f        NaN      no     no   \n",
       "537         0         0         1    ...          m        NaN      no     no   \n",
       "556         0         1         0    ...          m        NaN      no     no   \n",
       "564         0         0         1    ...          m        NaN      no     no   \n",
       "571         0         1         0    ...          m        NaN      no     no   \n",
       "572         0         1         0    ...          m        NaN      no     no   \n",
       "588         1         1         1    ...          f        NaN      no     no   \n",
       "593         0         0         0    ...          m        NaN      no     no   \n",
       "636         0         0         0    ...          f        NaN      no     no   \n",
       "642         0         1         0    ...          f        NaN      no     no   \n",
       "645         1         1         1    ...          m        NaN      no    yes   \n",
       "651         1         0         0    ...          m        NaN     yes     no   \n",
       "652         0         0         0    ...          f        NaN      no     no   \n",
       "658         1         0         0    ...          m        NaN      no     no   \n",
       "659         0         0         1    ...          m        NaN      no     no   \n",
       "666         0         1         0    ...          m        NaN      no     no   \n",
       "701         1         1         0    ...          f        NaN      no     no   \n",
       "\n",
       "            contry_of_res used_app_before result     age_desc  relation  \\\n",
       "4                   Egypt              no      2  18 and more       NaN   \n",
       "12                Bahamas              no      6  18 and more       NaN   \n",
       "13                Austria              no      4  18 and more       NaN   \n",
       "14              Argentina              no      4  18 and more       NaN   \n",
       "19   United Arab Emirates              no      3  18 and more       NaN   \n",
       "20   United Arab Emirates              no      3  18 and more       NaN   \n",
       "24                Lebanon              no      5  18 and more       NaN   \n",
       "25            Afghanistan              no      3  18 and more       NaN   \n",
       "62           Saudi Arabia              no      0  18 and more       NaN   \n",
       "79                 Jordan              no      2  18 and more       NaN   \n",
       "80            Afghanistan              no      5  18 and more       NaN   \n",
       "81                 Jordan              no      3  18 and more       NaN   \n",
       "91                 Jordan              no      4  18 and more       NaN   \n",
       "216  United Arab Emirates              no      4  18 and more       NaN   \n",
       "221           Afghanistan              no      1  18 and more       NaN   \n",
       "238                Russia              no      3  18 and more       NaN   \n",
       "257           New Zealand              no      4  18 and more       NaN   \n",
       "270                Russia              no      7  18 and more       NaN   \n",
       "276                Jordan              no      3  18 and more       NaN   \n",
       "277                Jordan              no      2  18 and more       NaN   \n",
       "285             Hong Kong              no      6  18 and more       NaN   \n",
       "306          Saudi Arabia              no      7  18 and more       NaN   \n",
       "315  United Arab Emirates              no      3  18 and more       NaN   \n",
       "324  United Arab Emirates              no      2  18 and more       NaN   \n",
       "337                Jordan              no      3  18 and more       NaN   \n",
       "338                Jordan              no      4  18 and more       NaN   \n",
       "339                Jordan              no      2  18 and more       NaN   \n",
       "340                Jordan              no      6  18 and more       NaN   \n",
       "341                Jordan              no      6  18 and more       NaN   \n",
       "342                Jordan              no      3  18 and more       NaN   \n",
       "..                    ...             ...    ...          ...       ...   \n",
       "423  United Arab Emirates              no      2  18 and more       NaN   \n",
       "427                Jordan              no      4  18 and more       NaN   \n",
       "428                Brazil             yes      2  18 and more       NaN   \n",
       "429                Jordan              no      6  18 and more       NaN   \n",
       "432                Jordan              no      3  18 and more       NaN   \n",
       "438                Jordan              no      4  18 and more       NaN   \n",
       "453                Jordan              no      4  18 and more       NaN   \n",
       "485                Jordan              no      3  18 and more       NaN   \n",
       "505        United Kingdom              no      6  18 and more       NaN   \n",
       "518           New Zealand              no      3  18 and more       NaN   \n",
       "527                  Iran              no      3  18 and more       NaN   \n",
       "534                  Iran              no      4  18 and more       NaN   \n",
       "535                  Iran              no      3  18 and more       NaN   \n",
       "536                  Iran              no      2  18 and more       NaN   \n",
       "537                  Iran              no      5  18 and more       NaN   \n",
       "556                Jordan              no      3  18 and more       NaN   \n",
       "564            Kazakhstan             yes      4  18 and more       NaN   \n",
       "571                Jordan              no      3  18 and more       NaN   \n",
       "572                Jordan              no      3  18 and more       NaN   \n",
       "588           New Zealand              no      9  18 and more       NaN   \n",
       "593                Russia              no      1  18 and more       NaN   \n",
       "636                Russia              no      0  18 and more       NaN   \n",
       "642           New Zealand              no      2  18 and more       NaN   \n",
       "645           New Zealand              no      7  18 and more       NaN   \n",
       "651                Jordan              no      3  18 and more       NaN   \n",
       "652         United States              no      1  18 and more       NaN   \n",
       "658            Azerbaijan              no      3  18 and more       NaN   \n",
       "659              Pakistan              no      8  18 and more       NaN   \n",
       "666                  Iraq              no      1  18 and more       NaN   \n",
       "701                Russia              no      7  18 and more       NaN   \n",
       "\n",
       "    Class/ASD  \n",
       "4          NO  \n",
       "12         NO  \n",
       "13         NO  \n",
       "14         NO  \n",
       "19         NO  \n",
       "20         NO  \n",
       "24         NO  \n",
       "25         NO  \n",
       "62         NO  \n",
       "79         NO  \n",
       "80         NO  \n",
       "81         NO  \n",
       "91         NO  \n",
       "216        NO  \n",
       "221        NO  \n",
       "238        NO  \n",
       "257        NO  \n",
       "270       YES  \n",
       "276        NO  \n",
       "277        NO  \n",
       "285        NO  \n",
       "306       YES  \n",
       "315        NO  \n",
       "324        NO  \n",
       "337        NO  \n",
       "338        NO  \n",
       "339        NO  \n",
       "340        NO  \n",
       "341        NO  \n",
       "342        NO  \n",
       "..        ...  \n",
       "423        NO  \n",
       "427        NO  \n",
       "428        NO  \n",
       "429        NO  \n",
       "432        NO  \n",
       "438        NO  \n",
       "453        NO  \n",
       "485        NO  \n",
       "505        NO  \n",
       "518        NO  \n",
       "527        NO  \n",
       "534        NO  \n",
       "535        NO  \n",
       "536        NO  \n",
       "537        NO  \n",
       "556        NO  \n",
       "564        NO  \n",
       "571        NO  \n",
       "572        NO  \n",
       "588       YES  \n",
       "593        NO  \n",
       "636        NO  \n",
       "642        NO  \n",
       "645       YES  \n",
       "651        NO  \n",
       "652        NO  \n",
       "658        NO  \n",
       "659       YES  \n",
       "666        NO  \n",
       "701       YES  \n",
       "\n",
       "[95 rows x 22 columns]"
      ]
     },
     "metadata": {},
     "execution_count": 5
    }
   ],
   "metadata": {
    "collapsed": false,
    "deletable": true,
    "editable": true
   }
  },
  {
   "cell_type": "markdown",
   "source": [
    "Since the missing data seems randomly distributed, I go ahead and drop rows with missing data. "
   ],
   "metadata": {
    "deletable": true,
    "editable": true
   }
  },
  {
   "cell_type": "code",
   "execution_count": 6,
   "source": [
    "asd_data.dropna(inplace=True)\n",
    "asd_data.describe()"
   ],
   "outputs": [
    {
     "output_type": "execute_result",
     "data": {
      "text/html": [
       "<div>\n",
       "<style>\n",
       "    .dataframe thead tr:only-child th {\n",
       "        text-align: right;\n",
       "    }\n",
       "\n",
       "    .dataframe thead th {\n",
       "        text-align: left;\n",
       "    }\n",
       "\n",
       "    .dataframe tbody tr th {\n",
       "        vertical-align: top;\n",
       "    }\n",
       "</style>\n",
       "<table border=\"1\" class=\"dataframe\">\n",
       "  <thead>\n",
       "    <tr style=\"text-align: right;\">\n",
       "      <th></th>\n",
       "      <th>id</th>\n",
       "      <th>A1_Score</th>\n",
       "      <th>A2_Score</th>\n",
       "      <th>A3_Score</th>\n",
       "      <th>A4_Score</th>\n",
       "      <th>A5_Score</th>\n",
       "      <th>A6_Score</th>\n",
       "      <th>A7_Score</th>\n",
       "      <th>A8_Score</th>\n",
       "      <th>A9_Score</th>\n",
       "      <th>A10_Score</th>\n",
       "      <th>age</th>\n",
       "      <th>result</th>\n",
       "    </tr>\n",
       "  </thead>\n",
       "  <tbody>\n",
       "    <tr>\n",
       "      <th>count</th>\n",
       "      <td>609.000000</td>\n",
       "      <td>609.000000</td>\n",
       "      <td>609.000000</td>\n",
       "      <td>609.000000</td>\n",
       "      <td>609.000000</td>\n",
       "      <td>609.000000</td>\n",
       "      <td>609.000000</td>\n",
       "      <td>609.000000</td>\n",
       "      <td>609.000000</td>\n",
       "      <td>609.000000</td>\n",
       "      <td>609.000000</td>\n",
       "      <td>609.000000</td>\n",
       "      <td>609.000000</td>\n",
       "    </tr>\n",
       "    <tr>\n",
       "      <th>mean</th>\n",
       "      <td>349.725780</td>\n",
       "      <td>0.740558</td>\n",
       "      <td>0.469622</td>\n",
       "      <td>0.481117</td>\n",
       "      <td>0.520525</td>\n",
       "      <td>0.525452</td>\n",
       "      <td>0.307061</td>\n",
       "      <td>0.428571</td>\n",
       "      <td>0.665025</td>\n",
       "      <td>0.341544</td>\n",
       "      <td>0.597701</td>\n",
       "      <td>30.215107</td>\n",
       "      <td>5.077176</td>\n",
       "    </tr>\n",
       "    <tr>\n",
       "      <th>std</th>\n",
       "      <td>207.856238</td>\n",
       "      <td>0.438689</td>\n",
       "      <td>0.499487</td>\n",
       "      <td>0.500054</td>\n",
       "      <td>0.499989</td>\n",
       "      <td>0.499762</td>\n",
       "      <td>0.461654</td>\n",
       "      <td>0.495278</td>\n",
       "      <td>0.472370</td>\n",
       "      <td>0.474617</td>\n",
       "      <td>0.490765</td>\n",
       "      <td>17.287470</td>\n",
       "      <td>2.522717</td>\n",
       "    </tr>\n",
       "    <tr>\n",
       "      <th>min</th>\n",
       "      <td>1.000000</td>\n",
       "      <td>0.000000</td>\n",
       "      <td>0.000000</td>\n",
       "      <td>0.000000</td>\n",
       "      <td>0.000000</td>\n",
       "      <td>0.000000</td>\n",
       "      <td>0.000000</td>\n",
       "      <td>0.000000</td>\n",
       "      <td>0.000000</td>\n",
       "      <td>0.000000</td>\n",
       "      <td>0.000000</td>\n",
       "      <td>17.000000</td>\n",
       "      <td>0.000000</td>\n",
       "    </tr>\n",
       "    <tr>\n",
       "      <th>25%</th>\n",
       "      <td>166.000000</td>\n",
       "      <td>0.000000</td>\n",
       "      <td>0.000000</td>\n",
       "      <td>0.000000</td>\n",
       "      <td>0.000000</td>\n",
       "      <td>0.000000</td>\n",
       "      <td>0.000000</td>\n",
       "      <td>0.000000</td>\n",
       "      <td>0.000000</td>\n",
       "      <td>0.000000</td>\n",
       "      <td>0.000000</td>\n",
       "      <td>22.000000</td>\n",
       "      <td>3.000000</td>\n",
       "    </tr>\n",
       "    <tr>\n",
       "      <th>50%</th>\n",
       "      <td>329.000000</td>\n",
       "      <td>1.000000</td>\n",
       "      <td>0.000000</td>\n",
       "      <td>0.000000</td>\n",
       "      <td>1.000000</td>\n",
       "      <td>1.000000</td>\n",
       "      <td>0.000000</td>\n",
       "      <td>0.000000</td>\n",
       "      <td>1.000000</td>\n",
       "      <td>0.000000</td>\n",
       "      <td>1.000000</td>\n",
       "      <td>27.000000</td>\n",
       "      <td>5.000000</td>\n",
       "    </tr>\n",
       "    <tr>\n",
       "      <th>75%</th>\n",
       "      <td>533.000000</td>\n",
       "      <td>1.000000</td>\n",
       "      <td>1.000000</td>\n",
       "      <td>1.000000</td>\n",
       "      <td>1.000000</td>\n",
       "      <td>1.000000</td>\n",
       "      <td>1.000000</td>\n",
       "      <td>1.000000</td>\n",
       "      <td>1.000000</td>\n",
       "      <td>1.000000</td>\n",
       "      <td>1.000000</td>\n",
       "      <td>35.000000</td>\n",
       "      <td>7.000000</td>\n",
       "    </tr>\n",
       "    <tr>\n",
       "      <th>max</th>\n",
       "      <td>704.000000</td>\n",
       "      <td>1.000000</td>\n",
       "      <td>1.000000</td>\n",
       "      <td>1.000000</td>\n",
       "      <td>1.000000</td>\n",
       "      <td>1.000000</td>\n",
       "      <td>1.000000</td>\n",
       "      <td>1.000000</td>\n",
       "      <td>1.000000</td>\n",
       "      <td>1.000000</td>\n",
       "      <td>1.000000</td>\n",
       "      <td>383.000000</td>\n",
       "      <td>10.000000</td>\n",
       "    </tr>\n",
       "  </tbody>\n",
       "</table>\n",
       "</div>"
      ],
      "text/plain": [
       "               id    A1_Score    A2_Score    A3_Score    A4_Score    A5_Score  \\\n",
       "count  609.000000  609.000000  609.000000  609.000000  609.000000  609.000000   \n",
       "mean   349.725780    0.740558    0.469622    0.481117    0.520525    0.525452   \n",
       "std    207.856238    0.438689    0.499487    0.500054    0.499989    0.499762   \n",
       "min      1.000000    0.000000    0.000000    0.000000    0.000000    0.000000   \n",
       "25%    166.000000    0.000000    0.000000    0.000000    0.000000    0.000000   \n",
       "50%    329.000000    1.000000    0.000000    0.000000    1.000000    1.000000   \n",
       "75%    533.000000    1.000000    1.000000    1.000000    1.000000    1.000000   \n",
       "max    704.000000    1.000000    1.000000    1.000000    1.000000    1.000000   \n",
       "\n",
       "         A6_Score    A7_Score    A8_Score    A9_Score   A10_Score         age  \\\n",
       "count  609.000000  609.000000  609.000000  609.000000  609.000000  609.000000   \n",
       "mean     0.307061    0.428571    0.665025    0.341544    0.597701   30.215107   \n",
       "std      0.461654    0.495278    0.472370    0.474617    0.490765   17.287470   \n",
       "min      0.000000    0.000000    0.000000    0.000000    0.000000   17.000000   \n",
       "25%      0.000000    0.000000    0.000000    0.000000    0.000000   22.000000   \n",
       "50%      0.000000    0.000000    1.000000    0.000000    1.000000   27.000000   \n",
       "75%      1.000000    1.000000    1.000000    1.000000    1.000000   35.000000   \n",
       "max      1.000000    1.000000    1.000000    1.000000    1.000000  383.000000   \n",
       "\n",
       "           result  \n",
       "count  609.000000  \n",
       "mean     5.077176  \n",
       "std      2.522717  \n",
       "min      0.000000  \n",
       "25%      3.000000  \n",
       "50%      5.000000  \n",
       "75%      7.000000  \n",
       "max     10.000000  "
      ]
     },
     "metadata": {},
     "execution_count": 6
    }
   ],
   "metadata": {
    "collapsed": false,
    "deletable": true,
    "editable": true
   }
  },
  {
   "cell_type": "markdown",
   "source": [
    "### If we could have fill with median values for 'NaN' instead of dropping them, but in this situation that is little complicated as I have lot of categorical colums with 'NaN'."
   ],
   "metadata": {
    "deletable": true,
    "editable": true
   }
  },
  {
   "cell_type": "code",
   "execution_count": 7,
   "source": [
    "#asd_data.median()\n",
    "#numerical = ['age', 'result']\n",
    "#asd_data.fillna(asd_data[numerical].median())\n",
    "#asd_data.describe()"
   ],
   "outputs": [],
   "metadata": {
    "collapsed": false,
    "deletable": true,
    "editable": true
   }
  },
  {
   "cell_type": "markdown",
   "source": [
    "Let's check out the data types of all our features including the target feature. Moreover, lets count the total number of instances and the target-class distribution."
   ],
   "metadata": {
    "deletable": true,
    "editable": true
   }
  },
  {
   "cell_type": "code",
   "execution_count": 8,
   "source": [
    "# Reminder of the features:\n",
    "print(asd_data.dtypes)\n",
    "\n",
    "\n",
    "# Total number of records in clean dataset\n",
    "n_records = len(asd_data.index)\n",
    "\n",
    "# TODO: Number of records where individual's with ASD in the clean dataset\n",
    "n_asd_yes = len(asd_data[asd_data['Class/ASD'] == 'YES'])\n",
    "\n",
    "# TODO: Number of records where individual's with no ASD in the clean dataset\n",
    "n_asd_no = len(asd_data[asd_data['Class/ASD'] == 'NO'])\n",
    "\n",
    "# Print the results\n",
    "print \"Total number of records: {}\".format(n_records)\n",
    "print \"Individuals diagonised with ASD: {}\".format(n_asd_yes)\n",
    "print \"Individuals not diagonised with ASD: {}\".format(n_asd_no)"
   ],
   "outputs": [
    {
     "output_type": "stream",
     "name": "stdout",
     "text": [
      "id                   int64\n",
      "A1_Score             int64\n",
      "A2_Score             int64\n",
      "A3_Score             int64\n",
      "A4_Score             int64\n",
      "A5_Score             int64\n",
      "A6_Score             int64\n",
      "A7_Score             int64\n",
      "A8_Score             int64\n",
      "A9_Score             int64\n",
      "A10_Score            int64\n",
      "age                float64\n",
      "gender              object\n",
      "ethnicity           object\n",
      "jundice             object\n",
      "austim              object\n",
      "contry_of_res       object\n",
      "used_app_before     object\n",
      "result               int64\n",
      "age_desc            object\n",
      "relation            object\n",
      "Class/ASD           object\n",
      "dtype: object\n",
      "Total number of records: 609\n",
      "Individuals diagonised with ASD: 180\n",
      "Individuals not diagonised with ASD: 429\n"
     ]
    }
   ],
   "metadata": {
    "collapsed": false,
    "deletable": true,
    "editable": true
   }
  },
  {
   "cell_type": "markdown",
   "source": [
    "---\n",
    "<a id='step2'></a>\n",
    "\n",
    "## Step 2: A quick visualization with *Seaborn*"
   ],
   "metadata": {
    "deletable": true,
    "editable": true
   }
  },
  {
   "cell_type": "code",
   "execution_count": 9,
   "source": [
    "import seaborn as sns\n",
    "import matplotlib.pyplot as plt\n",
    "sns.set(style=\"whitegrid\", color_codes=True)"
   ],
   "outputs": [],
   "metadata": {
    "collapsed": true,
    "deletable": true,
    "editable": true
   }
  },
  {
   "cell_type": "code",
   "execution_count": 10,
   "source": [
    "# Draw a nested violinplot and split the violins for easier comparison\n",
    "sns.violinplot(x=\"jundice\", y=\"result\", hue=\"austim\", data=asd_data, split=True,\n",
    "                inner=\"quart\", palette={'yes': \"r\", 'no': \"b\"})\n",
    "sns.despine(left=True)"
   ],
   "outputs": [
    {
     "output_type": "display_data",
     "data": {
      "image/png": "[encoded data removed]",
      "text/plain": [
       "<Figure size 576x396 with 1 Axes>"
      ]
     },
     "metadata": {}
    }
   ],
   "metadata": {
    "collapsed": false,
    "deletable": true,
    "editable": true
   }
  },
  {
   "cell_type": "code",
   "execution_count": 11,
   "source": [
    "# Draw a nested violinplot and split the violins for easier comparison\n",
    "sns.violinplot(x=\"jundice\", y=\"result\", hue=\"Class/ASD\", data=asd_data, split=True,\n",
    "                inner=\"quart\", palette={'YES': \"r\", 'NO': \"b\"})\n",
    "sns.despine(left=True)"
   ],
   "outputs": [
    {
     "output_type": "display_data",
     "data": {
      "image/png": "[encoded data removed]",
      "text/plain": [
       "<Figure size 576x396 with 1 Axes>"
      ]
     },
     "metadata": {}
    }
   ],
   "metadata": {
    "collapsed": false,
    "deletable": true,
    "editable": true
   }
  },
  {
   "cell_type": "code",
   "execution_count": 12,
   "source": [
    "# Draw a nested violinplot and split the violins for easier comparison\n",
    "sns.violinplot(x=\"gender\", y=\"result\", hue=\"Class/ASD\", data=asd_data, split=True,\n",
    "                inner=\"quart\", palette={'YES': \"r\", 'NO': \"b\"})\n",
    "sns.despine(left=True)"
   ],
   "outputs": [
    {
     "output_type": "display_data",
     "data": {
      "image/png": "[encoded data removed]",
      "text/plain": [
       "<Figure size 576x396 with 1 Axes>"
      ]
     },
     "metadata": {}
    }
   ],
   "metadata": {
    "collapsed": false,
    "deletable": true,
    "editable": true
   }
  },
  {
   "cell_type": "code",
   "execution_count": 13,
   "source": [
    "sns.factorplot(x=\"jundice\", y=\"result\", hue=\"Class/ASD\", col=\"gender\", data=asd_data, kind=\"swarm\");"
   ],
   "outputs": [
    {
     "output_type": "display_data",
     "data": {
      "image/png": "[encoded data removed]",
      "text/plain": [
       "<Figure size 631.875x288 with 2 Axes>"
      ]
     },
     "metadata": {}
    }
   ],
   "metadata": {
    "collapsed": false,
    "deletable": true,
    "editable": true
   }
  },
  {
   "cell_type": "code",
   "execution_count": 14,
   "source": [
    "sns.factorplot(x=\"gender\", y=\"result\", hue=\"Class/ASD\",\n",
    "               col=\"relation\", data=asd_data, kind=\"box\", size=4, aspect=.5, palette={'YES': \"r\", 'NO': \"b\"});"
   ],
   "outputs": [
    {
     "output_type": "display_data",
     "data": {
      "image/png": "[encoded data removed]",
      "text/plain": [
       "<Figure size 775.875x288 with 5 Axes>"
      ]
     },
     "metadata": {}
    }
   ],
   "metadata": {
    "collapsed": false,
    "deletable": true,
    "editable": true
   }
  },
  {
   "cell_type": "code",
   "execution_count": 15,
   "source": [
    "g = sns.factorplot(x=\"result\", y=\"jundice\",\n",
    "                   hue=\"gender\", row=\"relation\",\n",
    "                   data=asd_data,\n",
    "                    orient=\"h\", size=2, aspect=3.5, palette={'f': \"r\", 'm': \"b\"},\n",
    "                  kind=\"violin\", dodge=True, cut=0, bw=.2)"
   ],
   "outputs": [
    {
     "output_type": "display_data",
     "data": {
      "image/png": "[encoded data removed]",
      "text/plain": [
       "<Figure size 548.375x720 with 5 Axes>"
      ]
     },
     "metadata": {}
    }
   ],
   "metadata": {
    "collapsed": false,
    "deletable": true,
    "editable": true
   }
  },
  {
   "cell_type": "markdown",
   "source": [
    "In the two figures above, I have used two different depiction techniques to have a quick peek on the ASD dataset we are dealing with. Both of the occasions I have used `factorplot` module from `seaborn` visualization software. In the first case, I used '`swamp`' kind of graph expressing the relationship between several different features present in the data whereas in the second case, '`box`' method was used to present the visual way of showing how different features were associated with each other."
   ],
   "metadata": {
    "deletable": true,
    "editable": true
   }
  },
  {
   "cell_type": "markdown",
   "source": [
    "Next I'll need to convert the Pandas dataframes into numpy arrays that can be used by scikit_learn. Let's create an array that extracts only the feature data we want to work with and another array that contains the classes (class/ASD). "
   ],
   "metadata": {
    "collapsed": true,
    "deletable": true,
    "editable": true
   }
  },
  {
   "cell_type": "code",
   "execution_count": 16,
   "source": [
    "# Split the data into features and target label\n",
    "asd_raw = asd_data['Class/ASD']\n",
    "features_raw = asd_data[['age', 'gender', 'ethnicity', 'jundice', 'austim', 'contry_of_res', 'result',\n",
    "                      'relation','A1_Score','A2_Score','A3_Score','A4_Score','A5_Score','A6_Score','A7_Score','A8_Score',\n",
    "                      'A9_Score','A10_Score']]"
   ],
   "outputs": [],
   "metadata": {
    "collapsed": false,
    "deletable": true,
    "editable": true
   }
  },
  {
   "cell_type": "markdown",
   "source": [
    "Some of our models require the input data to be normalized, so I proceed to normalize the attribute data. Here, I use preprocessing.MinMaxScaler()."
   ],
   "metadata": {
    "deletable": true,
    "editable": true
   }
  },
  {
   "cell_type": "code",
   "execution_count": 17,
   "source": [
    "from sklearn.preprocessing import MinMaxScaler\n",
    "\n",
    "scaler = MinMaxScaler()\n",
    "numerical = ['age', 'result']\n",
    "\n",
    "features_minmax_transform = pd.DataFrame(data = features_raw)\n",
    "features_minmax_transform[numerical] = scaler.fit_transform(features_raw[numerical])\n",
    "features_minmax_transform\n",
    "# Show an example of a record with scaling applied\n",
    "display(features_minmax_transform.head(n = 5))"
   ],
   "outputs": [
    {
     "output_type": "display_data",
     "data": {
      "text/html": [
       "<div>\n",
       "<style>\n",
       "    .dataframe thead tr:only-child th {\n",
       "        text-align: right;\n",
       "    }\n",
       "\n",
       "    .dataframe thead th {\n",
       "        text-align: left;\n",
       "    }\n",
       "\n",
       "    .dataframe tbody tr th {\n",
       "        vertical-align: top;\n",
       "    }\n",
       "</style>\n",
       "<table border=\"1\" class=\"dataframe\">\n",
       "  <thead>\n",
       "    <tr style=\"text-align: right;\">\n",
       "      <th></th>\n",
       "      <th>age</th>\n",
       "      <th>gender</th>\n",
       "      <th>ethnicity</th>\n",
       "      <th>jundice</th>\n",
       "      <th>austim</th>\n",
       "      <th>contry_of_res</th>\n",
       "      <th>result</th>\n",
       "      <th>relation</th>\n",
       "      <th>A1_Score</th>\n",
       "      <th>A2_Score</th>\n",
       "      <th>A3_Score</th>\n",
       "      <th>A4_Score</th>\n",
       "      <th>A5_Score</th>\n",
       "      <th>A6_Score</th>\n",
       "      <th>A7_Score</th>\n",
       "      <th>A8_Score</th>\n",
       "      <th>A9_Score</th>\n",
       "      <th>A10_Score</th>\n",
       "    </tr>\n",
       "  </thead>\n",
       "  <tbody>\n",
       "    <tr>\n",
       "      <th>0</th>\n",
       "      <td>0.024590</td>\n",
       "      <td>f</td>\n",
       "      <td>White-European</td>\n",
       "      <td>no</td>\n",
       "      <td>no</td>\n",
       "      <td>United States</td>\n",
       "      <td>0.6</td>\n",
       "      <td>Self</td>\n",
       "      <td>1</td>\n",
       "      <td>1</td>\n",
       "      <td>1</td>\n",
       "      <td>1</td>\n",
       "      <td>0</td>\n",
       "      <td>0</td>\n",
       "      <td>1</td>\n",
       "      <td>1</td>\n",
       "      <td>0</td>\n",
       "      <td>0</td>\n",
       "    </tr>\n",
       "    <tr>\n",
       "      <th>1</th>\n",
       "      <td>0.019126</td>\n",
       "      <td>m</td>\n",
       "      <td>Latino</td>\n",
       "      <td>no</td>\n",
       "      <td>yes</td>\n",
       "      <td>Brazil</td>\n",
       "      <td>0.5</td>\n",
       "      <td>Self</td>\n",
       "      <td>1</td>\n",
       "      <td>1</td>\n",
       "      <td>0</td>\n",
       "      <td>1</td>\n",
       "      <td>0</td>\n",
       "      <td>0</td>\n",
       "      <td>0</td>\n",
       "      <td>1</td>\n",
       "      <td>0</td>\n",
       "      <td>1</td>\n",
       "    </tr>\n",
       "    <tr>\n",
       "      <th>2</th>\n",
       "      <td>0.027322</td>\n",
       "      <td>m</td>\n",
       "      <td>Latino</td>\n",
       "      <td>yes</td>\n",
       "      <td>yes</td>\n",
       "      <td>Spain</td>\n",
       "      <td>0.8</td>\n",
       "      <td>Parent</td>\n",
       "      <td>1</td>\n",
       "      <td>1</td>\n",
       "      <td>0</td>\n",
       "      <td>1</td>\n",
       "      <td>1</td>\n",
       "      <td>0</td>\n",
       "      <td>1</td>\n",
       "      <td>1</td>\n",
       "      <td>1</td>\n",
       "      <td>1</td>\n",
       "    </tr>\n",
       "    <tr>\n",
       "      <th>3</th>\n",
       "      <td>0.049180</td>\n",
       "      <td>f</td>\n",
       "      <td>White-European</td>\n",
       "      <td>no</td>\n",
       "      <td>yes</td>\n",
       "      <td>United States</td>\n",
       "      <td>0.6</td>\n",
       "      <td>Self</td>\n",
       "      <td>1</td>\n",
       "      <td>1</td>\n",
       "      <td>0</td>\n",
       "      <td>1</td>\n",
       "      <td>0</td>\n",
       "      <td>0</td>\n",
       "      <td>1</td>\n",
       "      <td>1</td>\n",
       "      <td>0</td>\n",
       "      <td>1</td>\n",
       "    </tr>\n",
       "    <tr>\n",
       "      <th>5</th>\n",
       "      <td>0.051913</td>\n",
       "      <td>m</td>\n",
       "      <td>Others</td>\n",
       "      <td>yes</td>\n",
       "      <td>no</td>\n",
       "      <td>United States</td>\n",
       "      <td>0.9</td>\n",
       "      <td>Self</td>\n",
       "      <td>1</td>\n",
       "      <td>1</td>\n",
       "      <td>1</td>\n",
       "      <td>1</td>\n",
       "      <td>1</td>\n",
       "      <td>0</td>\n",
       "      <td>1</td>\n",
       "      <td>1</td>\n",
       "      <td>1</td>\n",
       "      <td>1</td>\n",
       "    </tr>\n",
       "  </tbody>\n",
       "</table>\n",
       "</div>"
      ],
      "text/plain": [
       "        age gender       ethnicity jundice austim  contry_of_res  result  \\\n",
       "0  0.024590      f  White-European      no     no  United States     0.6   \n",
       "1  0.019126      m          Latino      no    yes         Brazil     0.5   \n",
       "2  0.027322      m          Latino     yes    yes          Spain     0.8   \n",
       "3  0.049180      f  White-European      no    yes  United States     0.6   \n",
       "5  0.051913      m          Others     yes     no  United States     0.9   \n",
       "\n",
       "  relation  A1_Score  A2_Score  A3_Score  A4_Score  A5_Score  A6_Score  \\\n",
       "0     Self         1         1         1         1         0         0   \n",
       "1     Self         1         1         0         1         0         0   \n",
       "2   Parent         1         1         0         1         1         0   \n",
       "3     Self         1         1         0         1         0         0   \n",
       "5     Self         1         1         1         1         1         0   \n",
       "\n",
       "   A7_Score  A8_Score  A9_Score  A10_Score  \n",
       "0         1         1         0          0  \n",
       "1         0         1         0          1  \n",
       "2         1         1         1          1  \n",
       "3         1         1         0          1  \n",
       "5         1         1         1          1  "
      ]
     },
     "metadata": {}
    }
   ],
   "metadata": {
    "collapsed": false,
    "deletable": true,
    "editable": true
   }
  },
  {
   "cell_type": "markdown",
   "source": [
    "### One-Hot-Coding\n",
    "\n",
    "From the table in **Clean Data Sets** above, we can see there are several features for each record that are non-numeric such as `Country_of_residence`, `ethnicity` etc. Typically, learning algorithms expect input to be numeric, which requires that non-numeric features (called *categorical variables*) be converted. One popular way to convert categorical variables is by using the **one-hot encoding** scheme. One-hot encoding creates a _\"dummy\"_ variable for each possible category of each non-numeric feature. For example, assume `someFeature` has three possible entries: `A`, `B`, or `C`. We then encode this feature into `someFeature_A`, `someFeature_B` and `someFeature_C`.\n",
    "\n",
    "|   | someFeature |                    | someFeature_A | someFeature_B | someFeature_C |\n",
    "| :-: | :-: |                            | :-: | :-: | :-: |\n",
    "| 0 |  B  |  | 0 | 1 | 0 |\n",
    "| 1 |  C  | ----> one-hot encode ----> | 0 | 0 | 1 |\n",
    "| 2 |  A  |  | 1 | 0 | 0 |\n",
    "\n",
    "Additionally, as with the non-numeric features, I need to convert the non-numeric target label, `'Class/ASD'` to numerical values for the learning algorithm to work. Since there are only two possible categories for this label (\"YES\" and \"NO\" to Class/ASD), I can avoid using one-hot encoding and simply encode these two categories as `0` and `1`, respectively. In code cell below, I will implement the following:\n",
    " - Use [`pandas.get_dummies()`](http://pandas.pydata.org/pandas-docs/stable/generated/pandas.get_dummies.html?highlight=get_dummies#pandas.get_dummies) to perform one-hot encoding on the `'features_minmax_transform'` data.\n",
    " - Convert the target label `'asd_raw'` to numerical entries.\n",
    "   - Set records with \"NO\" to `0` and records with \"YES\" to `1`."
   ],
   "metadata": {
    "deletable": true,
    "editable": true
   }
  },
  {
   "cell_type": "code",
   "execution_count": 18,
   "source": [
    "#One-hot encode the 'features_minmax_transform' data using pandas.get_dummies()\n",
    "features_final = pd.get_dummies(features_minmax_transform)\n",
    "display(features_final.head(5))\n",
    "\n",
    "\n",
    "# Encode the 'all_classes_raw' data to numerical values\n",
    "asd_classes = asd_raw.apply(lambda x: 1 if x == 'YES' else 0)\n",
    "\n",
    "\n",
    "\n",
    "# Print the number of features after one-hot encoding\n",
    "encoded = list(features_final.columns)\n",
    "print \"{} total features after one-hot encoding.\".format(len(encoded))\n",
    "\n",
    "# Uncomment the following line to see the encoded feature names\n",
    "print encoded"
   ],
   "outputs": [
    {
     "output_type": "display_data",
     "data": {
      "text/html": [
       "<div>\n",
       "<style>\n",
       "    .dataframe thead tr:only-child th {\n",
       "        text-align: right;\n",
       "    }\n",
       "\n",
       "    .dataframe thead th {\n",
       "        text-align: left;\n",
       "    }\n",
       "\n",
       "    .dataframe tbody tr th {\n",
       "        vertical-align: top;\n",
       "    }\n",
       "</style>\n",
       "<table border=\"1\" class=\"dataframe\">\n",
       "  <thead>\n",
       "    <tr style=\"text-align: right;\">\n",
       "      <th></th>\n",
       "      <th>age</th>\n",
       "      <th>result</th>\n",
       "      <th>A1_Score</th>\n",
       "      <th>A2_Score</th>\n",
       "      <th>A3_Score</th>\n",
       "      <th>A4_Score</th>\n",
       "      <th>A5_Score</th>\n",
       "      <th>A6_Score</th>\n",
       "      <th>A7_Score</th>\n",
       "      <th>A8_Score</th>\n",
       "      <th>...</th>\n",
       "      <th>contry_of_res_United Arab Emirates</th>\n",
       "      <th>contry_of_res_United Kingdom</th>\n",
       "      <th>contry_of_res_United States</th>\n",
       "      <th>contry_of_res_Uruguay</th>\n",
       "      <th>contry_of_res_Viet Nam</th>\n",
       "      <th>relation_Health care professional</th>\n",
       "      <th>relation_Others</th>\n",
       "      <th>relation_Parent</th>\n",
       "      <th>relation_Relative</th>\n",
       "      <th>relation_Self</th>\n",
       "    </tr>\n",
       "  </thead>\n",
       "  <tbody>\n",
       "    <tr>\n",
       "      <th>0</th>\n",
       "      <td>0.024590</td>\n",
       "      <td>0.6</td>\n",
       "      <td>1</td>\n",
       "      <td>1</td>\n",
       "      <td>1</td>\n",
       "      <td>1</td>\n",
       "      <td>0</td>\n",
       "      <td>0</td>\n",
       "      <td>1</td>\n",
       "      <td>1</td>\n",
       "      <td>...</td>\n",
       "      <td>0</td>\n",
       "      <td>0</td>\n",
       "      <td>1</td>\n",
       "      <td>0</td>\n",
       "      <td>0</td>\n",
       "      <td>0</td>\n",
       "      <td>0</td>\n",
       "      <td>0</td>\n",
       "      <td>0</td>\n",
       "      <td>1</td>\n",
       "    </tr>\n",
       "    <tr>\n",
       "      <th>1</th>\n",
       "      <td>0.019126</td>\n",
       "      <td>0.5</td>\n",
       "      <td>1</td>\n",
       "      <td>1</td>\n",
       "      <td>0</td>\n",
       "      <td>1</td>\n",
       "      <td>0</td>\n",
       "      <td>0</td>\n",
       "      <td>0</td>\n",
       "      <td>1</td>\n",
       "      <td>...</td>\n",
       "      <td>0</td>\n",
       "      <td>0</td>\n",
       "      <td>0</td>\n",
       "      <td>0</td>\n",
       "      <td>0</td>\n",
       "      <td>0</td>\n",
       "      <td>0</td>\n",
       "      <td>0</td>\n",
       "      <td>0</td>\n",
       "      <td>1</td>\n",
       "    </tr>\n",
       "    <tr>\n",
       "      <th>2</th>\n",
       "      <td>0.027322</td>\n",
       "      <td>0.8</td>\n",
       "      <td>1</td>\n",
       "      <td>1</td>\n",
       "      <td>0</td>\n",
       "      <td>1</td>\n",
       "      <td>1</td>\n",
       "      <td>0</td>\n",
       "      <td>1</td>\n",
       "      <td>1</td>\n",
       "      <td>...</td>\n",
       "      <td>0</td>\n",
       "      <td>0</td>\n",
       "      <td>0</td>\n",
       "      <td>0</td>\n",
       "      <td>0</td>\n",
       "      <td>0</td>\n",
       "      <td>0</td>\n",
       "      <td>1</td>\n",
       "      <td>0</td>\n",
       "      <td>0</td>\n",
       "    </tr>\n",
       "    <tr>\n",
       "      <th>3</th>\n",
       "      <td>0.049180</td>\n",
       "      <td>0.6</td>\n",
       "      <td>1</td>\n",
       "      <td>1</td>\n",
       "      <td>0</td>\n",
       "      <td>1</td>\n",
       "      <td>0</td>\n",
       "      <td>0</td>\n",
       "      <td>1</td>\n",
       "      <td>1</td>\n",
       "      <td>...</td>\n",
       "      <td>0</td>\n",
       "      <td>0</td>\n",
       "      <td>1</td>\n",
       "      <td>0</td>\n",
       "      <td>0</td>\n",
       "      <td>0</td>\n",
       "      <td>0</td>\n",
       "      <td>0</td>\n",
       "      <td>0</td>\n",
       "      <td>1</td>\n",
       "    </tr>\n",
       "    <tr>\n",
       "      <th>5</th>\n",
       "      <td>0.051913</td>\n",
       "      <td>0.9</td>\n",
       "      <td>1</td>\n",
       "      <td>1</td>\n",
       "      <td>1</td>\n",
       "      <td>1</td>\n",
       "      <td>1</td>\n",
       "      <td>0</td>\n",
       "      <td>1</td>\n",
       "      <td>1</td>\n",
       "      <td>...</td>\n",
       "      <td>0</td>\n",
       "      <td>0</td>\n",
       "      <td>1</td>\n",
       "      <td>0</td>\n",
       "      <td>0</td>\n",
       "      <td>0</td>\n",
       "      <td>0</td>\n",
       "      <td>0</td>\n",
       "      <td>0</td>\n",
       "      <td>1</td>\n",
       "    </tr>\n",
       "  </tbody>\n",
       "</table>\n",
       "<p>5 rows × 94 columns</p>\n",
       "</div>"
      ],
      "text/plain": [
       "        age  result  A1_Score  A2_Score  A3_Score  A4_Score  A5_Score  \\\n",
       "0  0.024590     0.6         1         1         1         1         0   \n",
       "1  0.019126     0.5         1         1         0         1         0   \n",
       "2  0.027322     0.8         1         1         0         1         1   \n",
       "3  0.049180     0.6         1         1         0         1         0   \n",
       "5  0.051913     0.9         1         1         1         1         1   \n",
       "\n",
       "   A6_Score  A7_Score  A8_Score      ...        \\\n",
       "0         0         1         1      ...         \n",
       "1         0         0         1      ...         \n",
       "2         0         1         1      ...         \n",
       "3         0         1         1      ...         \n",
       "5         0         1         1      ...         \n",
       "\n",
       "   contry_of_res_United Arab Emirates  contry_of_res_United Kingdom  \\\n",
       "0                                   0                             0   \n",
       "1                                   0                             0   \n",
       "2                                   0                             0   \n",
       "3                                   0                             0   \n",
       "5                                   0                             0   \n",
       "\n",
       "   contry_of_res_United States  contry_of_res_Uruguay  contry_of_res_Viet Nam  \\\n",
       "0                            1                      0                       0   \n",
       "1                            0                      0                       0   \n",
       "2                            0                      0                       0   \n",
       "3                            1                      0                       0   \n",
       "5                            1                      0                       0   \n",
       "\n",
       "   relation_Health care professional  relation_Others  relation_Parent  \\\n",
       "0                                  0                0                0   \n",
       "1                                  0                0                0   \n",
       "2                                  0                0                1   \n",
       "3                                  0                0                0   \n",
       "5                                  0                0                0   \n",
       "\n",
       "   relation_Relative  relation_Self  \n",
       "0                  0              1  \n",
       "1                  0              1  \n",
       "2                  0              0  \n",
       "3                  0              1  \n",
       "5                  0              1  \n",
       "\n",
       "[5 rows x 94 columns]"
      ]
     },
     "metadata": {}
    },
    {
     "output_type": "stream",
     "name": "stdout",
     "text": [
      "94 total features after one-hot encoding.\n",
      "['age', 'result', 'A1_Score', 'A2_Score', 'A3_Score', 'A4_Score', 'A5_Score', 'A6_Score', 'A7_Score', 'A8_Score', 'A9_Score', 'A10_Score', 'gender_f', 'gender_m', 'ethnicity_Asian', 'ethnicity_Black', 'ethnicity_Hispanic', 'ethnicity_Latino', 'ethnicity_Middle Eastern ', 'ethnicity_Others', 'ethnicity_Pasifika', 'ethnicity_South Asian', 'ethnicity_Turkish', 'ethnicity_White-European', 'ethnicity_others', 'jundice_no', 'jundice_yes', 'austim_no', 'austim_yes', 'contry_of_res_Afghanistan', 'contry_of_res_AmericanSamoa', 'contry_of_res_Angola', 'contry_of_res_Armenia', 'contry_of_res_Aruba', 'contry_of_res_Australia', 'contry_of_res_Austria', 'contry_of_res_Bahamas', 'contry_of_res_Bangladesh', 'contry_of_res_Belgium', 'contry_of_res_Bolivia', 'contry_of_res_Brazil', 'contry_of_res_Burundi', 'contry_of_res_Canada', 'contry_of_res_Chile', 'contry_of_res_China', 'contry_of_res_Costa Rica', 'contry_of_res_Cyprus', 'contry_of_res_Czech Republic', 'contry_of_res_Ecuador', 'contry_of_res_Egypt', 'contry_of_res_Ethiopia', 'contry_of_res_Finland', 'contry_of_res_France', 'contry_of_res_Germany', 'contry_of_res_Iceland', 'contry_of_res_India', 'contry_of_res_Indonesia', 'contry_of_res_Iran', 'contry_of_res_Ireland', 'contry_of_res_Italy', 'contry_of_res_Jordan', 'contry_of_res_Malaysia', 'contry_of_res_Mexico', 'contry_of_res_Nepal', 'contry_of_res_Netherlands', 'contry_of_res_New Zealand', 'contry_of_res_Nicaragua', 'contry_of_res_Niger', 'contry_of_res_Oman', 'contry_of_res_Pakistan', 'contry_of_res_Philippines', 'contry_of_res_Portugal', 'contry_of_res_Romania', 'contry_of_res_Russia', 'contry_of_res_Saudi Arabia', 'contry_of_res_Serbia', 'contry_of_res_Sierra Leone', 'contry_of_res_South Africa', 'contry_of_res_Spain', 'contry_of_res_Sri Lanka', 'contry_of_res_Sweden', 'contry_of_res_Tonga', 'contry_of_res_Turkey', 'contry_of_res_Ukraine', 'contry_of_res_United Arab Emirates', 'contry_of_res_United Kingdom', 'contry_of_res_United States', 'contry_of_res_Uruguay', 'contry_of_res_Viet Nam', 'relation_Health care professional', 'relation_Others', 'relation_Parent', 'relation_Relative', 'relation_Self']\n"
     ]
    }
   ],
   "metadata": {
    "collapsed": false,
    "deletable": true,
    "editable": true
   }
  },
  {
   "cell_type": "code",
   "execution_count": 19,
   "source": [
    "# histogram of Class/ASD\n",
    "\n",
    "# 8 bins\n",
    "plt.hist(asd_classes, bins=10)\n",
    "\n",
    "# x-axis limit from 0 to 1\n",
    "plt.xlim(0,1)\n",
    "plt.title('Histogram of Class/ASD')\n",
    "plt.xlabel('Class/ASD from processed data')\n",
    "plt.ylabel('Frequency')"
   ],
   "outputs": [
    {
     "output_type": "execute_result",
     "data": {
      "text/plain": [
       "Text(0,0.5,'Frequency')"
      ]
     },
     "metadata": {},
     "execution_count": 19
    },
    {
     "output_type": "display_data",
     "data": {
      "image/png": "[encoded data removed]",
      "text/plain": [
       "<Figure size 576x396 with 1 Axes>"
      ]
     },
     "metadata": {}
    }
   ],
   "metadata": {
    "collapsed": false,
    "deletable": true,
    "editable": true
   }
  },
  {
   "cell_type": "markdown",
   "source": [
    "### Shuffle and Split Data\n",
    "Now all _categorical variables_ have been converted into numerical features, and all numerical features have been normalized. As always, I will now split the data (both features and their labels) into training and test sets. 80% of the data will be used for training and 20% for testing."
   ],
   "metadata": {
    "deletable": true,
    "editable": true
   }
  },
  {
   "cell_type": "code",
   "execution_count": 20,
   "source": [
    "from sklearn.model_selection import train_test_split\n",
    "\n",
    "np.random.seed(1234)\n",
    "\n",
    "X_train, X_test, y_train, y_test = train_test_split(features_final, asd_classes, train_size=0.80, random_state=1)\n",
    "\n",
    "\n",
    "# Show the results of the split\n",
    "print \"Training set has {} samples.\".format(X_train.shape[0])\n",
    "print \"Testing set has {} samples.\".format(X_test.shape[0])\n",
    "#asd_data"
   ],
   "outputs": [
    {
     "output_type": "stream",
     "name": "stdout",
     "text": [
      "Training set has 487 samples.\n",
      "Testing set has 122 samples.\n"
     ]
    }
   ],
   "metadata": {
    "collapsed": false,
    "deletable": true,
    "editable": true
   }
  },
  {
   "cell_type": "markdown",
   "source": [
    "---\n",
    "<a id='step3'></a>\n",
    "\n",
    "## Step 3: Models\n",
    "\n",
    "###  Supervised Learning Models\n",
    "**I have applied the following supervised learning models in this project which are currently available in** [`scikit-learn`](http://scikit-learn.org/stable/supervised_learning.html).\n",
    "\n",
    "[(1)](#1): Decision Trees\n",
    "\n",
    "[(2)](#2) Random Forest\n",
    "\n",
    "[(3)](#3) Support Vector Machines (SVM)\n",
    "\n",
    "[(4)](#4) K-Nearest Neighbors (KNeighbors)\n",
    "\n",
    "[(5)](#5) Gaussian Naive Bayes (GaussianNB)\n",
    "\n",
    "[(6)](#6) Logistic Regression\n",
    "\n",
    "[(7)](#7) Linear Discriminant Analysis (LDA)\n",
    "\n",
    "[(8)](#8) Quadratic Discriminant Analysis (QDA)"
   ],
   "metadata": {
    "deletable": true,
    "editable": true
   }
  },
  {
   "cell_type": "markdown",
   "source": [
    "In the two figures above, I have used two different depiction techniques to have a quick peek on the ASD dataset we are dealing with. Both of the occasions I have used `factorplot` module from `seaborn` visualization software. In the first case, I used '`swamp`' kind of graph expressing the relationship between several different features present in the data whereas in the second case, '`box`' method was used to present the visual way of showing how different features were associated with each other."
   ],
   "metadata": {
    "deletable": true,
    "editable": true
   }
  },
  {
   "cell_type": "markdown",
   "source": [
    "---\n",
    "<a id='1'></a>\n",
    "\n",
    "##  (1) Decision Trees\n",
    "\n",
    "I start with creating a DecisionTreeClassifier and fit it to the training data."
   ],
   "metadata": {
    "deletable": true,
    "editable": true
   }
  },
  {
   "cell_type": "code",
   "execution_count": 21,
   "source": [
    "from sklearn import tree\n",
    "from sklearn.tree import DecisionTreeClassifier\n",
    "\n",
    "dectree = DecisionTreeClassifier(random_state=1)\n",
    "\n",
    "# Train the classifier on the training set\n",
    "dectree.fit(X_train, y_train)"
   ],
   "outputs": [
    {
     "output_type": "execute_result",
     "data": {
      "text/plain": [
       "DecisionTreeClassifier(class_weight=None, criterion='gini', max_depth=None,\n",
       "            max_features=None, max_leaf_nodes=None,\n",
       "            min_impurity_split=1e-07, min_samples_leaf=1,\n",
       "            min_samples_split=2, min_weight_fraction_leaf=0.0,\n",
       "            presort=False, random_state=1, splitter='best')"
      ]
     },
     "metadata": {},
     "execution_count": 21
    }
   ],
   "metadata": {
    "collapsed": false,
    "deletable": true,
    "editable": true
   }
  },
  {
   "cell_type": "markdown",
   "source": [
    "### Depiction of Decision Tree algorithm"
   ],
   "metadata": {
    "deletable": true,
    "editable": true
   }
  },
  {
   "cell_type": "code",
   "execution_count": 22,
   "source": [
    "import pydotplus \n",
    "\n",
    "\n",
    "dot_data = tree.export_graphviz(dectree,\n",
    "                                out_file=None,\n",
    "                                filled=True,\n",
    "                                rounded=True,\n",
    "                                special_characters=True)  \n",
    "graph = pydotplus.graph_from_dot_data(dot_data)  \n",
    "\n",
    "from IPython.display import Image \n",
    "Image(graph.create_png()) "
   ],
   "outputs": [
    {
     "output_type": "execute_result",
     "data": {
      "image/png": "[encoded data removed]",
      "text/plain": [
       "<IPython.core.display.Image object>"
      ]
     },
     "metadata": {},
     "execution_count": 22
    }
   ],
   "metadata": {
    "collapsed": false,
    "deletable": true,
    "editable": true
   }
  },
  {
   "cell_type": "markdown",
   "source": [
    "---------------\n",
    "## Evaluating Model Performance\n",
    "\n",
    "### Metrics \n",
    "We can use **F-beta score** as a metric that considers both precision and recall:\n",
    "\n",
    "$$ F_{\\beta} = (1 + \\beta^2) \\cdot \\frac{precision \\cdot recall}{\\left( \\beta^2 \\cdot precision \\right) + recall} $$\n",
    "\n",
    "In particular, when $\\beta = 0.5$, more emphasis is placed on precision. This is called the **F$_{0.5}$ score** (or F-score for simplicity).\n",
    "\n",
    "#### Note: Recap of accuracy, precision, recall\n",
    "\n",
    "** Accuracy ** measures how often the classifier makes the correct prediction. It’s the ratio of the number of correct predictions to the total number of predictions (the number of test data points).\n",
    "\n",
    "** Precision ** tells us what proportion of messages we classified as spam, actually were spam.\n",
    "It is a ratio of true positives(words classified as spam, and which are actually spam) to all positives(all words classified as spam, irrespective of whether that was the correct classificatio), in other words it is the ratio of\n",
    "\n",
    "`[True Positives/(True Positives + False Positives)]`\n",
    "\n",
    "** Recall (sensitivity)** tells us what proportion of messages that actually were spam were classified by us as spam.\n",
    "It is a ratio of true positives(words classified as spam, and which are actually spam) to all the words that were actually spam, in other words it is the ratio of\n",
    "\n",
    "`[True Positives/(True Positives + False Negatives)]`\n",
    "\n",
    "For classification problems that are skewed in their classification distributions like in our case where we have \n",
    "- a total of 609 records with \n",
    "- 180 individuals diagonised with ASD and \n",
    "- 429 individuals not diagonised with ASD\n",
    "\n",
    "accuracy by itself is not a very good metric. \n",
    "Thus, in this case precision and recall come in very handy. These two metrics can be combined to get the F1 score, which is weighted average(harmonic mean) of the precision and recall scores. This score can range from 0 to 1, with 1 being the best possible F1 score(we take the harmonic mean as we are dealing with ratios)."
   ],
   "metadata": {
    "deletable": true,
    "editable": true
   }
  },
  {
   "cell_type": "code",
   "execution_count": 23,
   "source": [
    "# make class predictions for the testing set\n",
    "y_pred_class = dectree.predict(X_test)"
   ],
   "outputs": [],
   "metadata": {
    "collapsed": true,
    "deletable": true,
    "editable": true
   }
  },
  {
   "cell_type": "code",
   "execution_count": 24,
   "source": [
    "# print the first 25 true and predicted responses\n",
    "print('True:', y_test.values[0:25])\n",
    "print('False:', y_pred_class[0:25])"
   ],
   "outputs": [
    {
     "output_type": "stream",
     "name": "stdout",
     "text": [
      "('True:', array([1, 0, 0, 1, 1, 0, 1, 1, 0, 0, 0, 0, 0, 1, 0, 0, 0, 0, 0, 1, 0, 1, 0,\n",
      "       1, 0]))\n",
      "('False:', array([1, 0, 0, 1, 1, 0, 1, 1, 0, 0, 0, 0, 0, 1, 0, 0, 0, 0, 0, 1, 0, 1, 0,\n",
      "       1, 0]))\n"
     ]
    }
   ],
   "metadata": {
    "collapsed": false,
    "deletable": true,
    "editable": true
   }
  },
  {
   "cell_type": "code",
   "execution_count": 25,
   "source": [
    "from sklearn import metrics\n",
    "# IMPORTANT: first argument is true values, second argument is predicted values\n",
    "# this produces a 2x2 numpy array (matrix)\n",
    "#print(metrics.confusion_matrix(y_test, y_pred_class))\n",
    "\n",
    "# save confusion matrix and slice into four pieces\n",
    "confusion = metrics.confusion_matrix(y_test, y_pred_class)\n",
    "print(confusion)\n",
    "#[row, column]\n",
    "TP = confusion[1, 1]\n",
    "TN = confusion[0, 0]\n",
    "FP = confusion[0, 1]\n",
    "FN = confusion[1, 0]"
   ],
   "outputs": [
    {
     "output_type": "stream",
     "name": "stdout",
     "text": [
      "[[79  0]\n",
      " [ 0 43]]\n"
     ]
    }
   ],
   "metadata": {
    "collapsed": false,
    "deletable": true,
    "editable": true
   }
  },
  {
   "cell_type": "markdown",
   "source": [
    "### Metrics computed from a confusion matrix"
   ],
   "metadata": {
    "deletable": true,
    "editable": true
   }
  },
  {
   "cell_type": "markdown",
   "source": [
    "**Classification Accuracy**: Overall, how often is the classifier correct?"
   ],
   "metadata": {
    "deletable": true,
    "editable": true
   }
  },
  {
   "cell_type": "code",
   "execution_count": 26,
   "source": [
    "# use float to perform true division, not integer division\n",
    "print((TP + TN) / float(TP + TN + FP + FN))"
   ],
   "outputs": [
    {
     "output_type": "stream",
     "name": "stdout",
     "text": [
      "1.0\n"
     ]
    }
   ],
   "metadata": {
    "collapsed": false,
    "deletable": true,
    "editable": true
   }
  },
  {
   "cell_type": "markdown",
   "source": [
    "**Classification Error**: Overall, how often is the classifier incorrect?"
   ],
   "metadata": {
    "deletable": true,
    "editable": true
   }
  },
  {
   "cell_type": "code",
   "execution_count": 27,
   "source": [
    "classification_error = (FP + FN) / float(TP + TN + FP + FN)\n",
    "\n",
    "print(classification_error)"
   ],
   "outputs": [
    {
     "output_type": "stream",
     "name": "stdout",
     "text": [
      "0.0\n"
     ]
    }
   ],
   "metadata": {
    "collapsed": false,
    "deletable": true,
    "editable": true
   }
  },
  {
   "cell_type": "markdown",
   "source": [
    "**Sensitivity**: When the actual value is positive, how often is the prediction correct?\n"
   ],
   "metadata": {
    "deletable": true,
    "editable": true
   }
  },
  {
   "cell_type": "code",
   "execution_count": 28,
   "source": [
    "sensitivity = TP / float(FN + TP)\n",
    "\n",
    "print(sensitivity)\n",
    "print(metrics.recall_score(y_test, y_pred_class))"
   ],
   "outputs": [
    {
     "output_type": "stream",
     "name": "stdout",
     "text": [
      "1.0\n",
      "1.0\n"
     ]
    }
   ],
   "metadata": {
    "collapsed": false,
    "deletable": true,
    "editable": true
   }
  },
  {
   "cell_type": "markdown",
   "source": [
    "**Specificity**: When the actual value is negative, how often is the prediction correct?"
   ],
   "metadata": {
    "deletable": true,
    "editable": true
   }
  },
  {
   "cell_type": "code",
   "execution_count": 29,
   "source": [
    "specificity = TN / (TN + FP)\n",
    "\n",
    "print(specificity)"
   ],
   "outputs": [
    {
     "output_type": "stream",
     "name": "stdout",
     "text": [
      "1\n"
     ]
    }
   ],
   "metadata": {
    "collapsed": false,
    "deletable": true,
    "editable": true
   }
  },
  {
   "cell_type": "markdown",
   "source": [
    "**False Positive Rate**: When the actual value is negative, how often is the prediction incorrect?"
   ],
   "metadata": {
    "deletable": true,
    "editable": true
   }
  },
  {
   "cell_type": "code",
   "execution_count": 30,
   "source": [
    "false_positive_rate = FP / float(TN + FP)\n",
    "\n",
    "print(false_positive_rate)\n",
    "#print(1 - specificity)"
   ],
   "outputs": [
    {
     "output_type": "stream",
     "name": "stdout",
     "text": [
      "0.0\n"
     ]
    }
   ],
   "metadata": {
    "collapsed": false,
    "deletable": true,
    "editable": true
   }
  },
  {
   "cell_type": "markdown",
   "source": [
    "**Precision**: When a positive value is predicted, how often is the prediction correct?"
   ],
   "metadata": {
    "deletable": true,
    "editable": true
   }
  },
  {
   "cell_type": "code",
   "execution_count": 31,
   "source": [
    "precision = TP / float(TP + FP)\n",
    "\n",
    "#print(precision)\n",
    "print(metrics.precision_score(y_test, y_pred_class))"
   ],
   "outputs": [
    {
     "output_type": "stream",
     "name": "stdout",
     "text": [
      "1.0\n"
     ]
    }
   ],
   "metadata": {
    "collapsed": false,
    "deletable": true,
    "editable": true
   }
  },
  {
   "cell_type": "markdown",
   "source": [
    "### Visualizing the classification prediction:"
   ],
   "metadata": {
    "deletable": true,
    "editable": true
   }
  },
  {
   "cell_type": "code",
   "execution_count": 32,
   "source": [
    "# print the first 10 predicted responses\n",
    "# 1D array (vector) of binary values (0, 1)\n",
    "dectree.predict(X_test)[0:10]"
   ],
   "outputs": [
    {
     "output_type": "execute_result",
     "data": {
      "text/plain": [
       "array([1, 0, 0, 1, 1, 0, 1, 1, 0, 0])"
      ]
     },
     "metadata": {},
     "execution_count": 32
    }
   ],
   "metadata": {
    "collapsed": false,
    "deletable": true,
    "editable": true
   }
  },
  {
   "cell_type": "code",
   "execution_count": 33,
   "source": [
    "# print the first 10 predicted probabilities of class membership\n",
    "dectree.predict_proba(X_test)[0:10]"
   ],
   "outputs": [
    {
     "output_type": "execute_result",
     "data": {
      "text/plain": [
       "array([[ 0.,  1.],\n",
       "       [ 1.,  0.],\n",
       "       [ 1.,  0.],\n",
       "       [ 0.,  1.],\n",
       "       [ 0.,  1.],\n",
       "       [ 1.,  0.],\n",
       "       [ 0.,  1.],\n",
       "       [ 0.,  1.],\n",
       "       [ 1.,  0.],\n",
       "       [ 1.,  0.]])"
      ]
     },
     "metadata": {},
     "execution_count": 33
    }
   ],
   "metadata": {
    "collapsed": false,
    "deletable": true,
    "editable": true
   }
  },
  {
   "cell_type": "code",
   "execution_count": 34,
   "source": [
    "# store the predicted probabilities for class 1\n",
    "y_pred_prob = dectree.predict_proba(X_test)[:, 1]"
   ],
   "outputs": [],
   "metadata": {
    "collapsed": true,
    "deletable": true,
    "editable": true
   }
  },
  {
   "cell_type": "code",
   "execution_count": 35,
   "source": [
    "# allow plots to appear in the notebook\n",
    "\n",
    "import matplotlib.pyplot as plt\n",
    "\n",
    "# adjust the font size \n",
    "plt.rcParams['font.size'] = 12"
   ],
   "outputs": [],
   "metadata": {
    "collapsed": true,
    "deletable": true,
    "editable": true
   }
  },
  {
   "cell_type": "code",
   "execution_count": 36,
   "source": [
    "# histogram of predicted probabilities\n",
    "\n",
    "# 8 bins\n",
    "plt.hist(y_pred_prob, bins=10)\n",
    "\n",
    "# x-axis limit from 0 to 1\n",
    "plt.xlim(0,1)\n",
    "plt.title('Histogram of predicted probabilities')\n",
    "plt.xlabel('Predicted probability of ASD')\n",
    "plt.ylabel('Frequency')"
   ],
   "outputs": [
    {
     "output_type": "execute_result",
     "data": {
      "text/plain": [
       "Text(0,0.5,'Frequency')"
      ]
     },
     "metadata": {},
     "execution_count": 36
    },
    {
     "output_type": "display_data",
     "data": {
      "image/png": "[encoded data removed]",
      "text/plain": [
       "<Figure size 576x396 with 1 Axes>"
      ]
     },
     "metadata": {}
    }
   ],
   "metadata": {
    "collapsed": false,
    "deletable": true,
    "editable": true
   }
  },
  {
   "cell_type": "markdown",
   "source": [
    "### Receiver Operating Characteristic (ROC) Curves"
   ],
   "metadata": {
    "deletable": true,
    "editable": true
   }
  },
  {
   "cell_type": "markdown",
   "source": [
    "It would be nice if we could see how sensitivity and specificity are affected by various thresholds, without actually changing the threshold? Lets plot the ROC curve."
   ],
   "metadata": {
    "deletable": true,
    "editable": true
   }
  },
  {
   "cell_type": "code",
   "execution_count": 37,
   "source": [
    "# IMPORTANT: first argument is true values, second argument is predicted probabilities\n",
    "\n",
    "# we pass y_test and y_pred_prob\n",
    "# we do not use y_pred_class, because it will give incorrect results without generating an error\n",
    "# roc_curve returns 3 objects fpr, tpr, thresholds\n",
    "# fpr: false positive rate\n",
    "# tpr: true positive rate\n",
    "fpr, tpr, thresholds = metrics.roc_curve(y_test, y_pred_prob)\n",
    "\n",
    "plt.plot(fpr, tpr)\n",
    "plt.xlim([0.0, 1.0])\n",
    "plt.ylim([0.0, 1.0])\n",
    "plt.rcParams['font.size'] = 12\n",
    "plt.title('ROC curve for diabetes classifier')\n",
    "plt.xlabel('False Positive Rate (1 - Specificity)')\n",
    "plt.ylabel('True Positive Rate (Sensitivity)')\n",
    "plt.grid(True)"
   ],
   "outputs": [
    {
     "output_type": "display_data",
     "data": {
      "image/png": "[encoded data removed]",
      "text/plain": [
       "<Figure size 576x396 with 1 Axes>"
      ]
     },
     "metadata": {}
    }
   ],
   "metadata": {
    "collapsed": false,
    "deletable": true,
    "editable": true
   }
  },
  {
   "cell_type": "markdown",
   "source": [
    "#### Score metric for Model performance"
   ],
   "metadata": {
    "deletable": true,
    "editable": true
   }
  },
  {
   "cell_type": "code",
   "execution_count": 38,
   "source": [
    "dectree.score(X_test, y_test)"
   ],
   "outputs": [
    {
     "output_type": "execute_result",
     "data": {
      "text/plain": [
       "1.0"
      ]
     },
     "metadata": {},
     "execution_count": 38
    }
   ],
   "metadata": {
    "collapsed": false,
    "deletable": true,
    "editable": true
   }
  },
  {
   "cell_type": "markdown",
   "source": [
    "### Cross-validation:\n",
    "\n",
    "Now instead of a single train/test split, I use K-Fold cross validation to get a better measure of your model's accuracy (K=10). "
   ],
   "metadata": {
    "deletable": true,
    "editable": true
   }
  },
  {
   "cell_type": "code",
   "execution_count": 39,
   "source": [
    "from sklearn.model_selection import cross_val_score\n",
    "\n",
    "dectree = DecisionTreeClassifier(random_state=1)\n",
    "\n",
    "cv_scores = cross_val_score(dectree, features_final, asd_classes, cv=10)\n",
    "\n",
    "cv_scores.mean()"
   ],
   "outputs": [
    {
     "output_type": "execute_result",
     "data": {
      "text/plain": [
       "1.0"
      ]
     },
     "metadata": {},
     "execution_count": 39
    }
   ],
   "metadata": {
    "collapsed": false,
    "deletable": true,
    "editable": true
   }
  },
  {
   "cell_type": "markdown",
   "source": [
    "### AUC Score: \n",
    "\n",
    "AUC is the percentage of the ROC plot that is underneath the curve"
   ],
   "metadata": {
    "deletable": true,
    "editable": true
   }
  },
  {
   "cell_type": "code",
   "execution_count": 40,
   "source": [
    "# calculate cross-validated AUC\n",
    "from sklearn.cross_validation import cross_val_score\n",
    "cross_val_score(dectree, features_final, asd_classes, cv=10, scoring='roc_auc').mean()"
   ],
   "outputs": [
    {
     "output_type": "stream",
     "name": "stderr",
     "text": [
      "/Users/basu/anaconda/lib/python2.7/site-packages/sklearn/cross_validation.py:44: DeprecationWarning: This module was deprecated in version 0.18 in favor of the model_selection module into which all the refactored classes and functions are moved. Also note that the interface of the new CV iterators are different from that of this module. This module will be removed in 0.20.\n",
      "  \"This module will be removed in 0.20.\", DeprecationWarning)\n"
     ]
    },
    {
     "output_type": "execute_result",
     "data": {
      "text/plain": [
       "1.0"
      ]
     },
     "metadata": {},
     "execution_count": 40
    }
   ],
   "metadata": {
    "collapsed": false,
    "deletable": true,
    "editable": true
   }
  },
  {
   "cell_type": "markdown",
   "source": [
    "### F-beta Score:"
   ],
   "metadata": {
    "deletable": true,
    "editable": true
   }
  },
  {
   "cell_type": "code",
   "execution_count": 41,
   "source": [
    "dectree.fit(X_train, y_train)\n",
    "from sklearn.metrics import fbeta_score\n",
    "predictions_test = dectree.predict(X_test)\n",
    "fbeta_score(y_test, predictions_test, average='binary', beta=0.5)"
   ],
   "outputs": [
    {
     "output_type": "execute_result",
     "data": {
      "text/plain": [
       "1.0"
      ]
     },
     "metadata": {},
     "execution_count": 41
    }
   ],
   "metadata": {
    "collapsed": false,
    "deletable": true,
    "editable": true
   }
  },
  {
   "cell_type": "markdown",
   "source": [
    "---\n",
    "<a id='2'></a>\n",
    "## (2) Random Forest\n",
    "\n",
    "Now I apply a **RandomForestClassifier** instead to see whether it performs better."
   ],
   "metadata": {
    "deletable": true,
    "editable": true
   }
  },
  {
   "cell_type": "code",
   "execution_count": 42,
   "source": [
    "from sklearn.ensemble import RandomForestClassifier\n",
    "\n",
    "ranfor = RandomForestClassifier(n_estimators=5, random_state=1)\n",
    "cv_scores = cross_val_score(ranfor, features_final, asd_classes, cv=10)\n",
    "cv_scores.mean()"
   ],
   "outputs": [
    {
     "output_type": "execute_result",
     "data": {
      "text/plain": [
       "0.9933333333333334"
      ]
     },
     "metadata": {},
     "execution_count": 42
    }
   ],
   "metadata": {
    "collapsed": false,
    "deletable": true,
    "editable": true
   }
  },
  {
   "cell_type": "markdown",
   "source": [
    "AUC Score: AUC is the percentage of the ROC plot that is underneath the curve"
   ],
   "metadata": {
    "deletable": true,
    "editable": true
   }
  },
  {
   "cell_type": "code",
   "execution_count": 43,
   "source": [
    "# calculate cross-validated AUC\n",
    "from sklearn.cross_validation import cross_val_score\n",
    "cross_val_score(ranfor, features_final, asd_classes, cv=10, scoring='roc_auc').mean()"
   ],
   "outputs": [
    {
     "output_type": "execute_result",
     "data": {
      "text/plain": [
       "0.9988095238095237"
      ]
     },
     "metadata": {},
     "execution_count": 43
    }
   ],
   "metadata": {
    "collapsed": false,
    "deletable": true,
    "editable": true
   }
  },
  {
   "cell_type": "markdown",
   "source": [
    "F-beta Score:"
   ],
   "metadata": {
    "deletable": true,
    "editable": true
   }
  },
  {
   "cell_type": "code",
   "execution_count": 44,
   "source": [
    "ranfor.fit(X_train, y_train)\n",
    "from sklearn.metrics import fbeta_score\n",
    "predictions_test = ranfor.predict(X_test)\n",
    "fbeta_score(y_test, predictions_test, average='binary', beta=0.5)"
   ],
   "outputs": [
    {
     "output_type": "execute_result",
     "data": {
      "text/plain": [
       "1.0"
      ]
     },
     "metadata": {},
     "execution_count": 44
    }
   ],
   "metadata": {
    "collapsed": false,
    "deletable": true,
    "editable": true
   }
  },
  {
   "cell_type": "markdown",
   "source": [
    "---\n",
    "<a id='3'></a>\n",
    "## (3) SVM\n",
    "\n",
    "Next I try using svm.SVC with a linear kernel and see how well it does in comparison to the decision tree."
   ],
   "metadata": {
    "deletable": true,
    "editable": true
   }
  },
  {
   "cell_type": "code",
   "execution_count": 45,
   "source": [
    "from sklearn import svm\n",
    "\n",
    "C = 1.0\n",
    "svc = svm.SVC(kernel='linear', C=C, gamma=2)"
   ],
   "outputs": [],
   "metadata": {
    "collapsed": true,
    "deletable": true,
    "editable": true
   }
  },
  {
   "cell_type": "code",
   "execution_count": 46,
   "source": [
    "cv_scores = cross_val_score(svc, features_final, asd_classes, cv=10)\n",
    "\n",
    "cv_scores.mean()"
   ],
   "outputs": [
    {
     "output_type": "execute_result",
     "data": {
      "text/plain": [
       "1.0"
      ]
     },
     "metadata": {},
     "execution_count": 46
    }
   ],
   "metadata": {
    "collapsed": false,
    "deletable": true,
    "editable": true
   }
  },
  {
   "cell_type": "markdown",
   "source": [
    "AUC Score: AUC is the percentage of the ROC plot that is underneath the curve"
   ],
   "metadata": {
    "deletable": true,
    "editable": true
   }
  },
  {
   "cell_type": "code",
   "execution_count": 47,
   "source": [
    "# calculate cross-validated AUC\n",
    "from sklearn.cross_validation import cross_val_score\n",
    "cross_val_score(svc, features_final, asd_classes, cv=10, scoring='roc_auc').mean()"
   ],
   "outputs": [
    {
     "output_type": "execute_result",
     "data": {
      "text/plain": [
       "1.0"
      ]
     },
     "metadata": {},
     "execution_count": 47
    }
   ],
   "metadata": {
    "collapsed": false,
    "deletable": true,
    "editable": true
   }
  },
  {
   "cell_type": "markdown",
   "source": [
    "F-beta Score:"
   ],
   "metadata": {
    "deletable": true,
    "editable": true
   }
  },
  {
   "cell_type": "code",
   "execution_count": 48,
   "source": [
    "svc.fit(X_train, y_train)\n",
    "from sklearn.metrics import fbeta_score\n",
    "predictions_test = svc.predict(X_test)\n",
    "fbeta_score(y_test, predictions_test, average='binary', beta=0.5)"
   ],
   "outputs": [
    {
     "output_type": "execute_result",
     "data": {
      "text/plain": [
       "1.0"
      ]
     },
     "metadata": {},
     "execution_count": 48
    }
   ],
   "metadata": {
    "collapsed": false,
    "deletable": true,
    "editable": true
   }
  },
  {
   "cell_type": "markdown",
   "source": [
    "---\n",
    "<a id='4'></a>\n",
    "\n",
    "## (4) K-Nearest-Neighbors (KNN)\n",
    "Next, I explore the K-Nearest-Neighbors algorithm with a starting value of K=10. Recall that K is an example of a hyperparameter - a parameter on the model itself which may need to be tuned for best results on your particular data set."
   ],
   "metadata": {
    "deletable": true,
    "editable": true
   }
  },
  {
   "cell_type": "code",
   "execution_count": 49,
   "source": [
    "from sklearn import neighbors\n",
    "\n",
    "knn = neighbors.KNeighborsClassifier(n_neighbors=10)\n",
    "cv_scores = cross_val_score(knn, features_final, asd_classes, cv=10)\n",
    "\n",
    "cv_scores.mean()"
   ],
   "outputs": [
    {
     "output_type": "execute_result",
     "data": {
      "text/plain": [
       "0.94745901639344265"
      ]
     },
     "metadata": {},
     "execution_count": 49
    }
   ],
   "metadata": {
    "collapsed": false,
    "deletable": true,
    "editable": true
   }
  },
  {
   "cell_type": "markdown",
   "source": [
    "AUC Score: AUC is the percentage of the ROC plot that is underneath the curve"
   ],
   "metadata": {
    "deletable": true,
    "editable": true
   }
  },
  {
   "cell_type": "code",
   "execution_count": 50,
   "source": [
    "# calculate cross-validated AUC\n",
    "from sklearn.cross_validation import cross_val_score\n",
    "cross_val_score(knn, features_final, asd_classes, cv=10, scoring='roc_auc').mean()"
   ],
   "outputs": [
    {
     "output_type": "execute_result",
     "data": {
      "text/plain": [
       "0.99300787498461918"
      ]
     },
     "metadata": {},
     "execution_count": 50
    }
   ],
   "metadata": {
    "collapsed": false,
    "deletable": true,
    "editable": true
   }
  },
  {
   "cell_type": "markdown",
   "source": [
    "F-beta Score:"
   ],
   "metadata": {
    "deletable": true,
    "editable": true
   }
  },
  {
   "cell_type": "code",
   "execution_count": 51,
   "source": [
    "knn.fit(X_train, y_train)\n",
    "from sklearn.metrics import fbeta_score\n",
    "predictions_test = knn.predict(X_test)\n",
    "fbeta_score(y_test, predictions_test, average='binary', beta=0.5)"
   ],
   "outputs": [
    {
     "output_type": "execute_result",
     "data": {
      "text/plain": [
       "0.91928251121076232"
      ]
     },
     "metadata": {},
     "execution_count": 51
    }
   ],
   "metadata": {
    "collapsed": false,
    "deletable": true,
    "editable": true
   }
  },
  {
   "cell_type": "markdown",
   "source": [
    "Choosing K is tricky, so I can't discard KNN until we've tried different values of K. Hence we write a for loop to run KNN with K values ranging from 10 to 50 and see if K makes a substantial difference. "
   ],
   "metadata": {
    "deletable": true,
    "editable": true
   }
  },
  {
   "cell_type": "code",
   "execution_count": 52,
   "source": [
    "for n in range(10, 50):\n",
    "    knn = neighbors.KNeighborsClassifier(n_neighbors=n)\n",
    "    cv_scores = cross_val_score(knn, features_final, asd_classes, cv=10)\n",
    "    print (n, cv_scores.mean())"
   ],
   "outputs": [
    {
     "output_type": "stream",
     "name": "stdout",
     "text": [
      "(10, 0.94745901639344265)\n",
      "(11, 0.95073770491803278)\n",
      "(12, 0.95073770491803278)\n",
      "(13, 0.95404371584699454)\n",
      "(14, 0.95076502732240442)\n",
      "(15, 0.94420765027322395)\n",
      "(16, 0.95076502732240442)\n",
      "(17, 0.95237704918032784)\n",
      "(18, 0.95237704918032784)\n",
      "(19, 0.9540163934426229)\n",
      "(20, 0.95237704918032784)\n",
      "(21, 0.95237704918032784)\n",
      "(22, 0.94745901639344243)\n",
      "(23, 0.94909836065573749)\n",
      "(24, 0.95073770491803256)\n",
      "(25, 0.95073770491803278)\n",
      "(26, 0.95237704918032784)\n",
      "(27, 0.95073770491803278)\n",
      "(28, 0.95073770491803256)\n",
      "(29, 0.95073770491803278)\n",
      "(30, 0.95237704918032784)\n",
      "(31, 0.9474863387978143)\n",
      "(32, 0.94912568306010936)\n",
      "(33, 0.9474863387978143)\n",
      "(34, 0.95076502732240442)\n",
      "(35, 0.94912568306010936)\n",
      "(36, 0.94912568306010914)\n",
      "(37, 0.95076502732240442)\n",
      "(38, 0.95407103825136608)\n",
      "(39, 0.95243169398907079)\n",
      "(40, 0.95243169398907079)\n",
      "(41, 0.95243169398907079)\n",
      "(42, 0.95079234972677573)\n",
      "(43, 0.95079234972677573)\n",
      "(44, 0.95079234972677573)\n",
      "(45, 0.95079234972677573)\n",
      "(46, 0.95243169398907079)\n",
      "(47, 0.95243169398907079)\n",
      "(48, 0.95571038251366114)\n",
      "(49, 0.95243169398907079)\n"
     ]
    }
   ],
   "metadata": {
    "collapsed": false,
    "deletable": true,
    "editable": true
   }
  },
  {
   "cell_type": "markdown",
   "source": [
    "---\n",
    "<a id='5'></a>\n",
    "\n",
    "## (5) Naive Bayes\n",
    "\n",
    "Now I try naive_bayes.MultinomialNB classifier and ask how does its accuracy stack up."
   ],
   "metadata": {
    "deletable": true,
    "editable": true
   }
  },
  {
   "cell_type": "code",
   "execution_count": 53,
   "source": [
    "from sklearn.naive_bayes import MultinomialNB\n",
    "\n",
    "#scaler = preprocessing.MinMaxScaler()\n",
    "#all_features_minmax = scaler.fit_transform(all_features)\n",
    "\n",
    "nb = MultinomialNB()\n",
    "cv_scores = cross_val_score(nb, features_final, asd_classes, cv=10)\n",
    "\n",
    "cv_scores.mean()"
   ],
   "outputs": [
    {
     "output_type": "execute_result",
     "data": {
      "text/plain": [
       "0.88500000000000001"
      ]
     },
     "metadata": {},
     "execution_count": 53
    }
   ],
   "metadata": {
    "collapsed": false,
    "deletable": true,
    "editable": true
   }
  },
  {
   "cell_type": "markdown",
   "source": [
    "AUC Score: AUC is the percentage of the ROC plot that is underneath the curve"
   ],
   "metadata": {
    "deletable": true,
    "editable": true
   }
  },
  {
   "cell_type": "code",
   "execution_count": 54,
   "source": [
    "# calculate cross-validated AUC\n",
    "from sklearn.cross_validation import cross_val_score\n",
    "cross_val_score(nb, features_final, asd_classes, cv=10, scoring='roc_auc').mean()"
   ],
   "outputs": [
    {
     "output_type": "execute_result",
     "data": {
      "text/plain": [
       "0.94450904392764845"
      ]
     },
     "metadata": {},
     "execution_count": 54
    }
   ],
   "metadata": {
    "collapsed": false,
    "deletable": true,
    "editable": true
   }
  },
  {
   "cell_type": "markdown",
   "source": [
    "F-beta Score:"
   ],
   "metadata": {
    "deletable": true,
    "editable": true
   }
  },
  {
   "cell_type": "code",
   "execution_count": 55,
   "source": [
    "nb.fit(X_train, y_train)\n",
    "from sklearn.metrics import fbeta_score\n",
    "predictions_test = nb.predict(X_test)\n",
    "fbeta_score(y_test, predictions_test, average='binary', beta=0.5)"
   ],
   "outputs": [
    {
     "output_type": "execute_result",
     "data": {
      "text/plain": [
       "0.83700440528634357"
      ]
     },
     "metadata": {},
     "execution_count": 55
    }
   ],
   "metadata": {
    "collapsed": false,
    "deletable": true,
    "editable": true
   }
  },
  {
   "cell_type": "markdown",
   "source": [
    "---\n",
    "<a id='6'></a>\n",
    "\n",
    "## (6) Logistic Regression\n",
    "\n",
    "We've tried all these fancy techniques, but fundamentally this is just a binary classification problem. Try Logisitic Regression, which is a simple way to tackling this sort of thing."
   ],
   "metadata": {
    "deletable": true,
    "editable": true
   }
  },
  {
   "cell_type": "code",
   "execution_count": 56,
   "source": [
    "from sklearn.linear_model import LogisticRegression\n",
    "\n",
    "logreg = LogisticRegression()\n",
    "cv_scores = cross_val_score(logreg, features_final, asd_classes, cv=10)\n",
    "cv_scores.mean()"
   ],
   "outputs": [
    {
     "output_type": "execute_result",
     "data": {
      "text/plain": [
       "0.97043715846994538"
      ]
     },
     "metadata": {},
     "execution_count": 56
    }
   ],
   "metadata": {
    "collapsed": false,
    "deletable": true,
    "editable": true
   }
  },
  {
   "cell_type": "markdown",
   "source": [
    "AUC Score: AUC is the percentage of the ROC plot that is underneath the curve"
   ],
   "metadata": {
    "deletable": true,
    "editable": true
   }
  },
  {
   "cell_type": "code",
   "execution_count": 57,
   "source": [
    "# calculate cross-validated AUC\n",
    "from sklearn.cross_validation import cross_val_score\n",
    "cv_scores_roc = cross_val_score(logreg, features_final, asd_classes, cv=10, scoring='roc_auc').mean()\n",
    "cv_scores_roc.mean()"
   ],
   "outputs": [
    {
     "output_type": "execute_result",
     "data": {
      "text/plain": [
       "0.99740986834010081"
      ]
     },
     "metadata": {},
     "execution_count": 57
    }
   ],
   "metadata": {
    "collapsed": false,
    "deletable": true,
    "editable": true
   }
  },
  {
   "cell_type": "markdown",
   "source": [
    "F-beta Score:"
   ],
   "metadata": {
    "deletable": true,
    "editable": true
   }
  },
  {
   "cell_type": "code",
   "execution_count": 58,
   "source": [
    "logreg.fit(X_train, y_train)\n",
    "from sklearn.metrics import fbeta_score\n",
    "predictions_test = logreg.predict(X_test)\n",
    "fbeta_score(y_test, predictions_test, average='binary', beta=0.5)"
   ],
   "outputs": [
    {
     "output_type": "execute_result",
     "data": {
      "text/plain": [
       "0.93073593073593064"
      ]
     },
     "metadata": {},
     "execution_count": 58
    }
   ],
   "metadata": {
    "collapsed": false,
    "deletable": true,
    "editable": true
   }
  },
  {
   "cell_type": "markdown",
   "source": [
    "---\n",
    "<a id='7'></a>\n",
    "\n",
    "## (7) Linear Discriminant Analysis"
   ],
   "metadata": {
    "deletable": true,
    "editable": true
   }
  },
  {
   "cell_type": "code",
   "execution_count": 59,
   "source": [
    "from sklearn.discriminant_analysis import LinearDiscriminantAnalysis\n",
    "\n",
    "lda = LinearDiscriminantAnalysis()\n",
    "cv_scores = cross_val_score(lda, features_final, asd_classes, cv=10)\n",
    "cv_scores.mean()"
   ],
   "outputs": [
    {
     "output_type": "stream",
     "name": "stderr",
     "text": [
      "/Users/basu/anaconda/lib/python2.7/site-packages/sklearn/discriminant_analysis.py:387: UserWarning: Variables are collinear.\n",
      "  warnings.warn(\"Variables are collinear.\")\n"
     ]
    },
    {
     "output_type": "execute_result",
     "data": {
      "text/plain": [
       "0.93262295081967217"
      ]
     },
     "metadata": {},
     "execution_count": 59
    }
   ],
   "metadata": {
    "collapsed": false,
    "deletable": true,
    "editable": true
   }
  },
  {
   "cell_type": "markdown",
   "source": [
    "AUC Score: AUC is the percentage of the ROC plot that is underneath the curve"
   ],
   "metadata": {
    "deletable": true,
    "editable": true
   }
  },
  {
   "cell_type": "code",
   "execution_count": 60,
   "source": [
    "# calculate cross-validated AUC\n",
    "from sklearn.cross_validation import cross_val_score\n",
    "cv_scores_roc = cross_val_score(lda, features_final, asd_classes, cv=10, scoring='roc_auc').mean()\n",
    "cv_scores_roc.mean()"
   ],
   "outputs": [
    {
     "output_type": "execute_result",
     "data": {
      "text/plain": [
       "0.9850590623846438"
      ]
     },
     "metadata": {},
     "execution_count": 60
    }
   ],
   "metadata": {
    "collapsed": false,
    "deletable": true,
    "editable": true
   }
  },
  {
   "cell_type": "markdown",
   "source": [
    "F-beta Score:"
   ],
   "metadata": {
    "deletable": true,
    "editable": true
   }
  },
  {
   "cell_type": "code",
   "execution_count": 61,
   "source": [
    "lda.fit(X_train, y_train)\n",
    "from sklearn.metrics import fbeta_score\n",
    "predictions_test = lda.predict(X_test)\n",
    "fbeta_score(y_test, predictions_test, average='binary', beta=0.5)"
   ],
   "outputs": [
    {
     "output_type": "execute_result",
     "data": {
      "text/plain": [
       "0.91489361702127669"
      ]
     },
     "metadata": {},
     "execution_count": 61
    }
   ],
   "metadata": {
    "collapsed": false,
    "deletable": true,
    "editable": true
   }
  },
  {
   "cell_type": "markdown",
   "source": [
    "---\n",
    "<a id='8'></a>\n",
    "## (8) Quadratic Discriminant Analysis"
   ],
   "metadata": {
    "deletable": true,
    "editable": true
   }
  },
  {
   "cell_type": "code",
   "execution_count": 62,
   "source": [
    "from sklearn.discriminant_analysis import QuadraticDiscriminantAnalysis\n",
    "\n",
    "qda = QuadraticDiscriminantAnalysis()\n",
    "cv_scores = cross_val_score(qda, features_final, asd_classes, cv=10)\n",
    "cv_scores.mean()"
   ],
   "outputs": [
    {
     "output_type": "stream",
     "name": "stderr",
     "text": [
      "/Users/basu/anaconda/lib/python2.7/site-packages/sklearn/discriminant_analysis.py:695: UserWarning: Variables are collinear\n",
      "  warnings.warn(\"Variables are collinear\")\n"
     ]
    },
    {
     "output_type": "execute_result",
     "data": {
      "text/plain": [
       "0.35306010928961745"
      ]
     },
     "metadata": {},
     "execution_count": 62
    }
   ],
   "metadata": {
    "collapsed": false,
    "deletable": true,
    "editable": true
   }
  },
  {
   "cell_type": "markdown",
   "source": [
    "AUC Score: AUC is the percentage of the ROC plot that is underneath the curve"
   ],
   "metadata": {
    "deletable": true,
    "editable": true
   }
  },
  {
   "cell_type": "code",
   "execution_count": 63,
   "source": [
    "# calculate cross-validated AUC\n",
    "from sklearn.cross_validation import cross_val_score\n",
    "cv_scores_roc = cross_val_score(qda, features_final, asd_classes, cv=10, scoring='roc_auc').mean()\n",
    "cv_scores_roc.mean()"
   ],
   "outputs": [
    {
     "output_type": "execute_result",
     "data": {
      "text/plain": [
       "0.77720253476067425"
      ]
     },
     "metadata": {},
     "execution_count": 63
    }
   ],
   "metadata": {
    "collapsed": false,
    "deletable": true,
    "editable": true
   }
  },
  {
   "cell_type": "markdown",
   "source": [
    "F-beta Score:"
   ],
   "metadata": {
    "deletable": true,
    "editable": true
   }
  },
  {
   "cell_type": "code",
   "execution_count": 64,
   "source": [
    "qda.fit(X_train, y_train)\n",
    "from sklearn.metrics import fbeta_score\n",
    "predictions_test = qda.predict(X_test)\n",
    "fbeta_score(y_test, predictions_test, average='binary', beta=0.5)"
   ],
   "outputs": [
    {
     "output_type": "execute_result",
     "data": {
      "text/plain": [
       "0.41414141414141409"
      ]
     },
     "metadata": {},
     "execution_count": 64
    }
   ],
   "metadata": {
    "collapsed": false,
    "deletable": true,
    "editable": true
   }
  },
  {
   "cell_type": "markdown",
   "source": [
    "---\n",
    "<a id='step5'></a>\n",
    "\n",
    "## Step 5: Model Tuning\n",
    "\n",
    "Now I will fine tune the chosen model. For this I use grid search (GridSearchCV) with at least one important parameter tuned with at least 3 different values. I will need to use the entire training set for this. In the code cell below, I will need to implement the following:\n",
    "\n",
    "- Import [`sklearn.grid_search.GridSearchCV`](http://scikit-learn.org/0.17/modules/generated/sklearn.grid_search.GridSearchCV.html) and [`sklearn.metrics.make_scorer`](http://scikit-learn.org/stable/modules/generated/sklearn.metrics.make_scorer.html).\n",
    "- Initialize the classifier you've chosen and store it in `clf`.\n",
    " - Set a `random_state` if one is available to the same state you set before.\n",
    "- Create a dictionary of parameters you wish to tune for the chosen model.\n",
    " - Example: `parameters = {'parameter' : [list of values]}`.\n",
    " - **Note:** Avoid tuning the `max_features` parameter of your learner if that parameter is available!\n",
    "- Use `make_scorer` to create an `fbeta_score` scoring object (with $\\beta = 0.5$).\n",
    "- Perform grid search on the classifier `clf` using the `'scorer'`, and store it in `grid_obj`.\n",
    "- Fit the grid search object to the training data (`X_train`, `y_train`), and store it in `grid_fit`.\n",
    "\n",
    "\n",
    "\n",
    "Note that, svm.SVC may perform differently with different kernels. The choice of kernel is an example of a \"hyperparamter.\" Here I experiented with different kernels such as 'rbf', 'sigmoid', and 'poly' and found that the best-performing kernel is `linear`."
   ],
   "metadata": {
    "deletable": true,
    "editable": true
   }
  },
  {
   "cell_type": "code",
   "execution_count": 65,
   "source": [
    "# TODO: Import 'GridSearchCV', 'make_scorer', and any other necessary libraries\n",
    "from sklearn.metrics import fbeta_score\n",
    "from sklearn.metrics import accuracy_score\n",
    "\n",
    "from sklearn.metrics import make_scorer\n",
    "from sklearn.svm import SVC\n",
    "from sklearn.grid_search import GridSearchCV\n",
    "\n",
    "\n",
    "def f_beta_score(y_true, y_predict):\n",
    "    return fbeta_score(y_true, y_predict, beta = 0.5)\n",
    "\n",
    "\n",
    "# TODO: Initialize the classifier\n",
    "clf = SVC(random_state = 1)\n",
    "\n",
    "# TODO: Create the parameters list you wish to tune, using a dictionary if needed.\n",
    "# HINT: parameters = {'parameter_1': [value1, value2], 'parameter_2': [value1, value2]}\n",
    "parameters = {'C':range(1,6),'kernel':['linear','poly','rbf','sigmoid'],'degree':range(1,6)}\n",
    "\n",
    "# TODO: Make an fbeta_score scoring object using make_scorer()\n",
    "scorer = make_scorer(f_beta_score)\n",
    "\n",
    "# TODO: Perform grid search on the classifier using 'scorer' as the scoring method using GridSearchCV()\n",
    "grid_obj = GridSearchCV(estimator = clf, param_grid = parameters, scoring = scorer)\n",
    "\n",
    "# TODO: Fit the grid search object to the training data and find the optimal parameters using fit()\n",
    "grid_fit = grid_obj.fit(X_train, y_train)\n",
    "\n",
    "# Get the estimator\n",
    "best_clf = grid_fit.best_estimator_\n",
    "\n",
    "# Make predictions using the unoptimized and model\n",
    "predictions = (clf.fit(X_train, y_train)).predict(X_test)\n",
    "best_predictions = best_clf.predict(X_test)\n",
    "\n",
    "# Report the before-and-afterscores\n",
    "print \"Unoptimized model\\n------\"\n",
    "print \"Accuracy score on testing data: {:.4f}\".format(accuracy_score(y_test, predictions))\n",
    "print \"F-score on testing data: {:.4f}\".format(fbeta_score(y_test, predictions, beta = 0.5))\n",
    "print \"\\nOptimized Model\\n------\"\n",
    "print \"Final accuracy score on the testing data: {:.4f}\".format(accuracy_score(y_test, best_predictions))\n",
    "print \"Final F-score on the testing data: {:.4f}\".format(fbeta_score(y_test, best_predictions, beta = 0.5))"
   ],
   "outputs": [
    {
     "output_type": "stream",
     "name": "stderr",
     "text": [
      "/Users/basu/anaconda/lib/python2.7/site-packages/sklearn/grid_search.py:43: DeprecationWarning: This module was deprecated in version 0.18 in favor of the model_selection module into which all the refactored classes and functions are moved. This module will be removed in 0.20.\n",
      "  DeprecationWarning)\n",
      "/Users/basu/anaconda/lib/python2.7/site-packages/sklearn/metrics/classification.py:1113: UndefinedMetricWarning: F-score is ill-defined and being set to 0.0 due to no predicted samples.\n",
      "  'precision', 'predicted', average, warn_for)\n"
     ]
    },
    {
     "output_type": "stream",
     "name": "stdout",
     "text": [
      "Unoptimized model\n",
      "------\n",
      "Accuracy score on testing data: 0.9508\n",
      "F-score on testing data: 0.9302\n",
      "\n",
      "Optimized Model\n",
      "------\n",
      "Final accuracy score on the testing data: 1.0000\n",
      "Final F-score on the testing data: 1.0000\n"
     ]
    }
   ],
   "metadata": {
    "collapsed": false,
    "deletable": true,
    "editable": true
   }
  },
  {
   "cell_type": "markdown",
   "source": [
    "In this `GridSearchCV` methos, we came up with the best result when the kernel was selected as `linear`."
   ],
   "metadata": {
    "deletable": true,
    "editable": true
   }
  },
  {
   "cell_type": "markdown",
   "source": [
    "---\n",
    "<a id='step6'></a>\n",
    "## Step 6: Feature Importance\n",
    "\n",
    "An important task when performing supervised learning on a dataset like the autistic data we study here is determining which features provide the most predictive power. By focusing on the relationship between only a few crucial features and the target label we simplify our understanding of the phenomenon, which is most always a useful thing to do. In the case of this project, that means we wish to identify a small number of features that most strongly predict whether an individual has ASD or not.\n",
    "\n",
    "Choose a scikit-learn classifier (e.g., gradientBoosting, adaboost, random forests) that has a `feature_importance_` attribute, which is a function that ranks the importance of features according to the chosen classifier. In the next python cell fit this classifier to training set and use this attribute to determine the top 5 most important features for the ASD dataset."
   ],
   "metadata": {
    "deletable": true,
    "editable": true
   }
  },
  {
   "cell_type": "markdown",
   "source": [
    "###  Extracting Feature Importance\n",
    "Choose a `scikit-learn` supervised learning algorithm that has a `feature_importance_` attribute availble for it. This attribute is a function that ranks the importance of each feature when making predictions based on the chosen algorithm.\n",
    "\n",
    "In the code cell below, I will implement the following:\n",
    " - Import a supervised learning model from sklearn if it is different from the three used earlier.\n",
    " - Train the supervised model on the entire training set.\n",
    " - Extract the feature importances using `'.feature_importances_'`."
   ],
   "metadata": {
    "deletable": true,
    "editable": true
   }
  },
  {
   "cell_type": "code",
   "execution_count": 66,
   "source": [
    "# TODO: Import a supervised learning model that has 'feature_importances_'\n",
    "from sklearn.ensemble import GradientBoostingClassifier\n",
    "\n",
    "\n",
    "# TODO: Train the supervised model on the training set using .fit(X_train, y_train)\n",
    "model = GradientBoostingClassifier(random_state=0)\n",
    "model.fit(X_train, y_train)\n",
    "\n",
    "# TODO: Extract the feature importances using .feature_importances_ \n",
    "importances = model.feature_importances_\n",
    "print(importances)\n",
    "# Plot\n",
    "vs.feature_plot(importances, X_train, y_train)"
   ],
   "outputs": [
    {
     "output_type": "stream",
     "name": "stdout",
     "text": [
      "[ 0.    0.73  0.    0.    0.    0.    0.    0.    0.    0.    0.    0.    0.\n",
      "  0.    0.    0.    0.    0.    0.    0.    0.    0.    0.    0.    0.    0.\n",
      "  0.    0.    0.    0.    0.    0.    0.    0.    0.    0.    0.    0.    0.\n",
      "  0.    0.    0.    0.    0.    0.    0.    0.    0.    0.    0.    0.    0.\n",
      "  0.    0.    0.    0.    0.    0.    0.    0.    0.    0.    0.    0.    0.\n",
      "  0.    0.    0.    0.    0.    0.    0.    0.    0.    0.    0.    0.    0.\n",
      "  0.    0.    0.    0.    0.    0.    0.    0.    0.    0.    0.    0.    0.\n",
      "  0.    0.    0.  ]\n"
     ]
    }
   ],
   "metadata": {
    "collapsed": false,
    "deletable": true,
    "editable": true
   }
  },
  {
   "cell_type": "code",
   "execution_count": 67,
   "source": [
    "# TODO: Import a supervised learning model that has 'feature_importances_'\n",
    "from sklearn.ensemble import AdaBoostClassifier\n",
    "\n",
    "\n",
    "# TODO: Train the supervised model on the training set using .fit(X_train, y_train)\n",
    "model = AdaBoostClassifier(random_state=0)\n",
    "model.fit(X_train, y_train)\n",
    "\n",
    "# TODO: Extract the feature importances using .feature_importances_ \n",
    "importances = model.feature_importances_\n",
    "#print(importances)\n",
    "# Plot\n",
    "vs.feature_plot(importances, X_train, y_train)"
   ],
   "outputs": [
    {
     "output_type": "display_data",
     "data": {
      "image/png": "[encoded data removed]",
      "text/plain": [
       "<Figure size 648x360 with 1 Axes>"
      ]
     },
     "metadata": {}
    }
   ],
   "metadata": {
    "collapsed": false,
    "deletable": true,
    "editable": true
   }
  },
  {
   "cell_type": "markdown",
   "source": [
    "### Feature Selection\n",
    "We need to ask ourselves how does a model perform if we only use a subset of all the available features in the data? With less features required to train, the expectation is that training and prediction time is much lower — at the cost of performance metrics. From the visualization above, we see that the top five most important features(in order with their weightage factor) contribute more than half of the importance of **all** features present in the data. These 5 features are:\n",
    "- '`result`'\n",
    "- '`relation_self`'\n",
    "- '`country_of_residence`'\n",
    "- '`jundice_no`'\n",
    "- '`jundice_yes`'\n",
    "\n",
    "This hints that we can attempt to *reduce the feature space* and simplify the information required for the model to learn. Although looking at those weight factor it seems like '`result`' feature is clearly dominating its influence on the algorithms over all other features."
   ],
   "metadata": {
    "deletable": true,
    "editable": true
   }
  },
  {
   "cell_type": "markdown",
   "source": [
    "---\n",
    "<a id='step7'></a>\n",
    "\n",
    "## Step 7: Building a MLP  model architecture\n",
    "In this last part I build a model here using sequential model architecture best known as *Multi Layer Perceptron (MLP)*."
   ],
   "metadata": {
    "deletable": true,
    "editable": true
   }
  },
  {
   "cell_type": "code",
   "execution_count": 68,
   "source": [
    "# Imports\n",
    "import numpy as np\n",
    "import keras\n",
    "from keras.models import Sequential\n",
    "from keras.layers import Dense, Dropout, Activation\n",
    "\n",
    "\n",
    "np.random.seed(42)"
   ],
   "outputs": [
    {
     "output_type": "stream",
     "name": "stderr",
     "text": [
      "Using TensorFlow backend.\n"
     ]
    }
   ],
   "metadata": {
    "collapsed": false,
    "deletable": true,
    "editable": true
   }
  },
  {
   "cell_type": "code",
   "execution_count": 69,
   "source": [
    "# Building the model architecture with one layer of length 4\n",
    "\n",
    "\n",
    "model = Sequential()\n",
    "model.add(Dense(8, activation='relu', input_dim= 94))\n",
    "model.add(Dropout(0.2))\n",
    "model.add(Dense(1, kernel_initializer='normal', activation='sigmoid'))\n",
    "   \n",
    "    \n",
    "model.summary()"
   ],
   "outputs": [
    {
     "output_type": "stream",
     "name": "stdout",
     "text": [
      "_________________________________________________________________\n",
      "Layer (type)                 Output Shape              Param #   \n",
      "=================================================================\n",
      "dense_1 (Dense)              (None, 8)                 760       \n",
      "_________________________________________________________________\n",
      "dropout_1 (Dropout)          (None, 8)                 0         \n",
      "_________________________________________________________________\n",
      "dense_2 (Dense)              (None, 1)                 9         \n",
      "=================================================================\n",
      "Total params: 769\n",
      "Trainable params: 769\n",
      "Non-trainable params: 0\n",
      "_________________________________________________________________\n"
     ]
    }
   ],
   "metadata": {
    "collapsed": false,
    "deletable": true,
    "editable": true
   }
  },
  {
   "cell_type": "code",
   "execution_count": 70,
   "source": [
    "# Compiling the model using categorical_crossentropy loss, and rmsprop optimizer.\n",
    "model.compile(loss='binary_crossentropy',\n",
    "              optimizer='rmsprop',\n",
    "              metrics=['accuracy'])"
   ],
   "outputs": [],
   "metadata": {
    "collapsed": true,
    "deletable": true,
    "editable": true
   }
  },
  {
   "cell_type": "code",
   "execution_count": 71,
   "source": [
    "# Running and evaluating the model\n",
    "hist = model.fit(X_train, y_train,\n",
    "          batch_size=16,\n",
    "          epochs=100,\n",
    "          validation_data=(X_test, y_test), \n",
    "          verbose=2)"
   ],
   "outputs": [
    {
     "output_type": "stream",
     "name": "stdout",
     "text": [
      "Train on 487 samples, validate on 122 samples\n",
      "Epoch 1/100\n",
      " - 1s - loss: 0.6793 - acc: 0.6591 - val_loss: 0.6715 - val_acc: 0.6393\n",
      "Epoch 2/100\n",
      " - 0s - loss: 0.6557 - acc: 0.7187 - val_loss: 0.6541 - val_acc: 0.6475\n",
      "Epoch 3/100\n",
      " - 0s - loss: 0.6331 - acc: 0.7187 - val_loss: 0.6349 - val_acc: 0.6475\n",
      "Epoch 4/100\n",
      " - 0s - loss: 0.6046 - acc: 0.7187 - val_loss: 0.6134 - val_acc: 0.6475\n",
      "Epoch 5/100\n",
      " - 0s - loss: 0.5758 - acc: 0.7187 - val_loss: 0.5882 - val_acc: 0.6475\n",
      "Epoch 6/100\n",
      " - 0s - loss: 0.5488 - acc: 0.7290 - val_loss: 0.5602 - val_acc: 0.6639\n",
      "Epoch 7/100\n",
      " - 0s - loss: 0.5187 - acc: 0.7474 - val_loss: 0.5277 - val_acc: 0.6885\n",
      "Epoch 8/100\n",
      " - 0s - loss: 0.4835 - acc: 0.7741 - val_loss: 0.4956 - val_acc: 0.7131\n",
      "Epoch 9/100\n",
      " - 0s - loss: 0.4498 - acc: 0.8234 - val_loss: 0.4659 - val_acc: 0.7623\n",
      "Epoch 10/100\n",
      " - 0s - loss: 0.4212 - acc: 0.8583 - val_loss: 0.4334 - val_acc: 0.8279\n",
      "Epoch 11/100\n",
      " - 0s - loss: 0.4047 - acc: 0.8645 - val_loss: 0.4056 - val_acc: 0.8525\n",
      "Epoch 12/100\n",
      " - 0s - loss: 0.3707 - acc: 0.8645 - val_loss: 0.3750 - val_acc: 0.8770\n",
      "Epoch 13/100\n",
      " - 0s - loss: 0.3358 - acc: 0.9076 - val_loss: 0.3460 - val_acc: 0.8689\n",
      "Epoch 14/100\n",
      " - 0s - loss: 0.3318 - acc: 0.8994 - val_loss: 0.3203 - val_acc: 0.8770\n",
      "Epoch 15/100\n",
      " - 0s - loss: 0.3057 - acc: 0.8912 - val_loss: 0.2977 - val_acc: 0.8852\n",
      "Epoch 16/100\n",
      " - 0s - loss: 0.2869 - acc: 0.9138 - val_loss: 0.2788 - val_acc: 0.9016\n",
      "Epoch 17/100\n",
      " - 0s - loss: 0.2658 - acc: 0.9199 - val_loss: 0.2591 - val_acc: 0.9180\n",
      "Epoch 18/100\n",
      " - 0s - loss: 0.2648 - acc: 0.9076 - val_loss: 0.2465 - val_acc: 0.9180\n",
      "Epoch 19/100\n",
      " - 0s - loss: 0.2410 - acc: 0.9220 - val_loss: 0.2345 - val_acc: 0.9098\n",
      "Epoch 20/100\n",
      " - 0s - loss: 0.2439 - acc: 0.9240 - val_loss: 0.2238 - val_acc: 0.9180\n",
      "Epoch 21/100\n",
      " - 0s - loss: 0.2226 - acc: 0.9199 - val_loss: 0.2126 - val_acc: 0.9262\n",
      "Epoch 22/100\n",
      " - 0s - loss: 0.2206 - acc: 0.9179 - val_loss: 0.2037 - val_acc: 0.9262\n",
      "Epoch 23/100\n",
      " - 0s - loss: 0.2032 - acc: 0.9343 - val_loss: 0.1992 - val_acc: 0.9180\n",
      "Epoch 24/100\n",
      " - 0s - loss: 0.1910 - acc: 0.9466 - val_loss: 0.1907 - val_acc: 0.9262\n",
      "Epoch 25/100\n",
      " - 0s - loss: 0.1959 - acc: 0.9343 - val_loss: 0.1832 - val_acc: 0.9262\n",
      "Epoch 26/100\n",
      " - 0s - loss: 0.1868 - acc: 0.9363 - val_loss: 0.1749 - val_acc: 0.9426\n",
      "Epoch 27/100\n",
      " - 0s - loss: 0.1876 - acc: 0.9261 - val_loss: 0.1698 - val_acc: 0.9426\n",
      "Epoch 28/100\n",
      " - 0s - loss: 0.1852 - acc: 0.9343 - val_loss: 0.1650 - val_acc: 0.9426\n",
      "Epoch 29/100\n",
      " - 0s - loss: 0.1834 - acc: 0.9363 - val_loss: 0.1612 - val_acc: 0.9426\n",
      "Epoch 30/100\n",
      " - 0s - loss: 0.1828 - acc: 0.9343 - val_loss: 0.1573 - val_acc: 0.9426\n",
      "Epoch 31/100\n",
      " - 0s - loss: 0.1609 - acc: 0.9363 - val_loss: 0.1513 - val_acc: 0.9508\n",
      "Epoch 32/100\n",
      " - 0s - loss: 0.1694 - acc: 0.9179 - val_loss: 0.1478 - val_acc: 0.9508\n",
      "Epoch 33/100\n",
      " - 0s - loss: 0.1489 - acc: 0.9466 - val_loss: 0.1454 - val_acc: 0.9426\n",
      "Epoch 34/100\n",
      " - 0s - loss: 0.1469 - acc: 0.9363 - val_loss: 0.1415 - val_acc: 0.9508\n",
      "Epoch 35/100\n",
      " - 0s - loss: 0.1577 - acc: 0.9281 - val_loss: 0.1396 - val_acc: 0.9508\n",
      "Epoch 36/100\n",
      " - 0s - loss: 0.1546 - acc: 0.9446 - val_loss: 0.1381 - val_acc: 0.9508\n",
      "Epoch 37/100\n",
      " - 0s - loss: 0.1411 - acc: 0.9446 - val_loss: 0.1348 - val_acc: 0.9508\n",
      "Epoch 38/100\n",
      " - 0s - loss: 0.1378 - acc: 0.9528 - val_loss: 0.1327 - val_acc: 0.9508\n",
      "Epoch 39/100\n",
      " - 0s - loss: 0.1456 - acc: 0.9363 - val_loss: 0.1304 - val_acc: 0.9508\n",
      "Epoch 40/100\n",
      " - 0s - loss: 0.1283 - acc: 0.9610 - val_loss: 0.1275 - val_acc: 0.9508\n",
      "Epoch 41/100\n",
      " - 0s - loss: 0.1196 - acc: 0.9548 - val_loss: 0.1265 - val_acc: 0.9590\n",
      "Epoch 42/100\n",
      " - 0s - loss: 0.1184 - acc: 0.9569 - val_loss: 0.1225 - val_acc: 0.9508\n",
      "Epoch 43/100\n",
      " - 0s - loss: 0.1222 - acc: 0.9487 - val_loss: 0.1207 - val_acc: 0.9508\n",
      "Epoch 44/100\n",
      " - 0s - loss: 0.1182 - acc: 0.9610 - val_loss: 0.1184 - val_acc: 0.9508\n",
      "Epoch 45/100\n",
      " - 0s - loss: 0.1305 - acc: 0.9487 - val_loss: 0.1167 - val_acc: 0.9508\n",
      "Epoch 46/100\n",
      " - 0s - loss: 0.1163 - acc: 0.9528 - val_loss: 0.1152 - val_acc: 0.9508\n",
      "Epoch 47/100\n",
      " - 0s - loss: 0.1092 - acc: 0.9528 - val_loss: 0.1130 - val_acc: 0.9590\n",
      "Epoch 48/100\n",
      " - 0s - loss: 0.1029 - acc: 0.9569 - val_loss: 0.1109 - val_acc: 0.9590\n",
      "Epoch 49/100\n",
      " - 0s - loss: 0.1063 - acc: 0.9610 - val_loss: 0.1091 - val_acc: 0.9590\n",
      "Epoch 50/100\n",
      " - 0s - loss: 0.1098 - acc: 0.9589 - val_loss: 0.1078 - val_acc: 0.9590\n",
      "Epoch 51/100\n",
      " - 0s - loss: 0.1016 - acc: 0.9630 - val_loss: 0.1066 - val_acc: 0.9590\n",
      "Epoch 52/100\n",
      " - 0s - loss: 0.0967 - acc: 0.9651 - val_loss: 0.1052 - val_acc: 0.9590\n",
      "Epoch 53/100\n",
      " - 0s - loss: 0.0956 - acc: 0.9610 - val_loss: 0.1057 - val_acc: 0.9590\n",
      "Epoch 54/100\n",
      " - 0s - loss: 0.0910 - acc: 0.9671 - val_loss: 0.1045 - val_acc: 0.9590\n",
      "Epoch 55/100\n",
      " - 0s - loss: 0.1051 - acc: 0.9528 - val_loss: 0.0998 - val_acc: 0.9590\n",
      "Epoch 56/100\n",
      " - 0s - loss: 0.1057 - acc: 0.9569 - val_loss: 0.0991 - val_acc: 0.9590\n",
      "Epoch 57/100\n",
      " - 0s - loss: 0.0754 - acc: 0.9774 - val_loss: 0.0972 - val_acc: 0.9590\n",
      "Epoch 58/100\n",
      " - 0s - loss: 0.0978 - acc: 0.9589 - val_loss: 0.0958 - val_acc: 0.9590\n",
      "Epoch 59/100\n",
      " - 0s - loss: 0.1028 - acc: 0.9507 - val_loss: 0.0941 - val_acc: 0.9590\n",
      "Epoch 60/100\n",
      " - 0s - loss: 0.0760 - acc: 0.9713 - val_loss: 0.0924 - val_acc: 0.9590\n",
      "Epoch 61/100\n",
      " - 0s - loss: 0.0873 - acc: 0.9569 - val_loss: 0.0924 - val_acc: 0.9590\n",
      "Epoch 62/100\n",
      " - 0s - loss: 0.1002 - acc: 0.9528 - val_loss: 0.0915 - val_acc: 0.9590\n",
      "Epoch 63/100\n",
      " - 0s - loss: 0.0740 - acc: 0.9713 - val_loss: 0.0883 - val_acc: 0.9590\n",
      "Epoch 64/100\n",
      " - 0s - loss: 0.0781 - acc: 0.9630 - val_loss: 0.0894 - val_acc: 0.9590\n",
      "Epoch 65/100\n",
      " - 0s - loss: 0.0816 - acc: 0.9589 - val_loss: 0.0925 - val_acc: 0.9590\n",
      "Epoch 66/100\n",
      " - 0s - loss: 0.0790 - acc: 0.9671 - val_loss: 0.0872 - val_acc: 0.9590\n",
      "Epoch 67/100\n",
      " - 0s - loss: 0.0746 - acc: 0.9692 - val_loss: 0.0906 - val_acc: 0.9590\n",
      "Epoch 68/100\n",
      " - 0s - loss: 0.0739 - acc: 0.9713 - val_loss: 0.0889 - val_acc: 0.9590\n",
      "Epoch 69/100\n",
      " - 0s - loss: 0.0734 - acc: 0.9713 - val_loss: 0.0822 - val_acc: 0.9672\n",
      "Epoch 70/100\n",
      " - 0s - loss: 0.0739 - acc: 0.9671 - val_loss: 0.0843 - val_acc: 0.9672\n",
      "Epoch 71/100\n",
      " - 0s - loss: 0.0670 - acc: 0.9692 - val_loss: 0.0842 - val_acc: 0.9590\n",
      "Epoch 72/100\n",
      " - 0s - loss: 0.0617 - acc: 0.9754 - val_loss: 0.0814 - val_acc: 0.9672\n",
      "Epoch 73/100\n",
      " - 0s - loss: 0.0652 - acc: 0.9713 - val_loss: 0.0840 - val_acc: 0.9590\n",
      "Epoch 74/100\n",
      " - 0s - loss: 0.0762 - acc: 0.9671 - val_loss: 0.0782 - val_acc: 0.9672\n",
      "Epoch 75/100\n",
      " - 0s - loss: 0.0726 - acc: 0.9671 - val_loss: 0.0783 - val_acc: 0.9672\n",
      "Epoch 76/100\n",
      " - 0s - loss: 0.0618 - acc: 0.9774 - val_loss: 0.0784 - val_acc: 0.9672\n",
      "Epoch 77/100\n",
      " - 0s - loss: 0.0605 - acc: 0.9692 - val_loss: 0.0748 - val_acc: 0.9672\n",
      "Epoch 78/100\n",
      " - 0s - loss: 0.0620 - acc: 0.9754 - val_loss: 0.0731 - val_acc: 0.9672\n",
      "Epoch 79/100\n",
      " - 0s - loss: 0.0700 - acc: 0.9713 - val_loss: 0.0774 - val_acc: 0.9672\n",
      "Epoch 80/100\n",
      " - 0s - loss: 0.0607 - acc: 0.9795 - val_loss: 0.0759 - val_acc: 0.9672\n",
      "Epoch 81/100\n",
      " - 0s - loss: 0.0739 - acc: 0.9671 - val_loss: 0.0781 - val_acc: 0.9754\n",
      "Epoch 82/100\n",
      " - 0s - loss: 0.0525 - acc: 0.9897 - val_loss: 0.0719 - val_acc: 0.9672\n",
      "Epoch 83/100\n",
      " - 0s - loss: 0.0613 - acc: 0.9795 - val_loss: 0.0760 - val_acc: 0.9672\n",
      "Epoch 84/100\n",
      " - 0s - loss: 0.0573 - acc: 0.9795 - val_loss: 0.0746 - val_acc: 0.9672\n",
      "Epoch 85/100\n",
      " - 0s - loss: 0.0647 - acc: 0.9815 - val_loss: 0.0754 - val_acc: 0.9672\n",
      "Epoch 86/100\n",
      " - 0s - loss: 0.0555 - acc: 0.9795 - val_loss: 0.0723 - val_acc: 0.9672\n",
      "Epoch 87/100\n",
      " - 0s - loss: 0.0511 - acc: 0.9836 - val_loss: 0.0702 - val_acc: 0.9672\n",
      "Epoch 88/100\n",
      " - 0s - loss: 0.0636 - acc: 0.9774 - val_loss: 0.0687 - val_acc: 0.9672\n",
      "Epoch 89/100\n",
      " - 0s - loss: 0.0477 - acc: 0.9856 - val_loss: 0.0695 - val_acc: 0.9672\n",
      "Epoch 90/100\n",
      " - 0s - loss: 0.0446 - acc: 0.9836 - val_loss: 0.0694 - val_acc: 0.9672\n",
      "Epoch 91/100\n",
      " - 0s - loss: 0.0459 - acc: 0.9877 - val_loss: 0.0648 - val_acc: 0.9672\n",
      "Epoch 92/100\n",
      " - 0s - loss: 0.0588 - acc: 0.9795 - val_loss: 0.0698 - val_acc: 0.9754\n",
      "Epoch 93/100\n",
      " - 0s - loss: 0.0485 - acc: 0.9877 - val_loss: 0.0672 - val_acc: 0.9672\n",
      "Epoch 94/100\n",
      " - 0s - loss: 0.0432 - acc: 0.9959 - val_loss: 0.0638 - val_acc: 0.9672\n",
      "Epoch 95/100\n",
      " - 0s - loss: 0.0448 - acc: 0.9979 - val_loss: 0.0683 - val_acc: 0.9754\n",
      "Epoch 96/100\n",
      " - 0s - loss: 0.0588 - acc: 0.9795 - val_loss: 0.0617 - val_acc: 0.9672\n",
      "Epoch 97/100\n",
      " - 0s - loss: 0.0550 - acc: 0.9836 - val_loss: 0.0626 - val_acc: 0.9754\n",
      "Epoch 98/100\n",
      " - 0s - loss: 0.0451 - acc: 0.9856 - val_loss: 0.0634 - val_acc: 0.9754\n",
      "Epoch 99/100\n",
      " - 0s - loss: 0.0427 - acc: 0.9877 - val_loss: 0.0641 - val_acc: 0.9754\n",
      "Epoch 100/100\n",
      " - 0s - loss: 0.0462 - acc: 0.9897 - val_loss: 0.0676 - val_acc: 0.9754\n"
     ]
    }
   ],
   "metadata": {
    "collapsed": false,
    "deletable": true,
    "editable": true
   }
  },
  {
   "cell_type": "markdown",
   "source": [
    "### Evaluating the model\n",
    "This will give you the accuracy of the model. "
   ],
   "metadata": {
    "deletable": true,
    "editable": true
   }
  },
  {
   "cell_type": "code",
   "execution_count": 72,
   "source": [
    "# Evaluating the model on the training and testing set\n",
    "score = model.evaluate(X_train, y_train)\n",
    "print(\"\\n Training Accuracy:\", score[1])\n",
    "\n",
    "score = model.evaluate(X_test, y_test, verbose=0)\n",
    "print(\"\\n Testing accuracy: \", score[1])"
   ],
   "outputs": [
    {
     "output_type": "stream",
     "name": "stdout",
     "text": [
      "487/487 [==============================] - 0s 90us/step\b\b\b\b\b\b\b\b\b\b\b\b\b\b\b\b\b\b\b\b\b\b\b\b\b\b\b\b\b\b\b\b\b\b\b\b\b\b\b\b\b\b\b\b\b\n",
      "('\\n Training Accuracy:', 1.0)\n",
      "('\\n Testing accuracy: ', 0.97540983606557374)\n"
     ]
    }
   ],
   "metadata": {
    "collapsed": false,
    "deletable": true,
    "editable": true
   }
  },
  {
   "cell_type": "markdown",
   "source": [
    "### Free-Flow Visualization:\n",
    "\n",
    "As with \"Feature Selection\" exploration, we have seen the attribute named 'result' has a such a powerful presence in the ASD dataset, all other attributes have little to no contribution in deciding the final class. In the Figure  below, I have drawn a scatterplot with 'result' as x-axis and ASD-class (say 'yes' is 1 and 'no' is 0) as y-axis, and reconfirmed that underlying association between the given variables."
   ],
   "metadata": {
    "deletable": true,
    "editable": true
   }
  },
  {
   "cell_type": "code",
   "execution_count": 73,
   "source": [
    "asd_data['Class/ASD'] = asd_raw.apply(lambda x: 1 if x == 'YES' else 0)\n",
    "#asd_data['result'] = asd_data['result'].apply(lambda x: (np.log(x + 1)))\n",
    "\n",
    "\n",
    "\n",
    "asd_data = pd.DataFrame(data = asd_data)\n",
    "asd_data['result'] = scaler.fit_transform(asd_data['result'])"
   ],
   "outputs": [
    {
     "output_type": "stream",
     "name": "stderr",
     "text": [
      "/Users/basu/anaconda/lib/python2.7/site-packages/sklearn/utils/validation.py:429: DataConversionWarning: Data with input dtype int64 was converted to float64 by MinMaxScaler.\n",
      "  warnings.warn(msg, _DataConversionWarning)\n",
      "/Users/basu/anaconda/lib/python2.7/site-packages/sklearn/preprocessing/data.py:321: DeprecationWarning: Passing 1d arrays as data is deprecated in 0.17 and will raise ValueError in 0.19. Reshape your data either using X.reshape(-1, 1) if your data has a single feature or X.reshape(1, -1) if it contains a single sample.\n",
      "  warnings.warn(DEPRECATION_MSG_1D, DeprecationWarning)\n",
      "/Users/basu/anaconda/lib/python2.7/site-packages/sklearn/preprocessing/data.py:356: DeprecationWarning: Passing 1d arrays as data is deprecated in 0.17 and will raise ValueError in 0.19. Reshape your data either using X.reshape(-1, 1) if your data has a single feature or X.reshape(1, -1) if it contains a single sample.\n",
      "  warnings.warn(DEPRECATION_MSG_1D, DeprecationWarning)\n"
     ]
    }
   ],
   "metadata": {
    "collapsed": false,
    "deletable": true,
    "editable": true
   }
  },
  {
   "cell_type": "code",
   "execution_count": 74,
   "source": [
    "#ax = sns.regplot(x= 'result', y='Class/ASD', data = asd_data, fit_reg=False)"
   ],
   "outputs": [],
   "metadata": {
    "collapsed": false,
    "deletable": true,
    "editable": true
   }
  },
  {
   "cell_type": "code",
   "execution_count": 75,
   "source": [
    "sns.stripplot(x=\"result\", y=\"Class/ASD\", data = asd_data, jitter=True);\n"
   ],
   "outputs": [
    {
     "output_type": "display_data",
     "data": {
      "image/png": "[encoded data removed]",
      "text/plain": [
       "<Figure size 576x396 with 1 Axes>"
      ]
     },
     "metadata": {}
    }
   ],
   "metadata": {
    "collapsed": false,
    "deletable": true,
    "editable": true
   }
  },
  {
   "cell_type": "code",
   "execution_count": 76,
   "source": [
    "#sns.swarmplot(x=\"result\", y=\"Class/ASD\", data=asd_data, palette={'YES': \"r\", 'NO': \"b\"});"
   ],
   "outputs": [],
   "metadata": {
    "collapsed": false,
    "deletable": true,
    "editable": true
   }
  },
  {
   "cell_type": "markdown",
   "source": [
    "---\n",
    "<a id='step8'></a>\n",
    "\n",
    "## Step 8: Conclusion\n",
    "\n",
    "\n",
    "After exploring my `ASD` dataset with different kind of learning algorithms, I have arrived into this conclusion that all of my model work extremely well with the data. I have used three different `metric` (such as `accuracy`, `AUC score` and `F-score`) to measure the performance of my models, and it seems like all of the `metric` indicated an almost perfect classification of the ASD cases. Here I think the reason of this high performances with different models is the fact that only one of the feature is predominant over all others which I confirmed with the [`Feature Importance`](#step6) section in this notebook. \n",
    "\n",
    "I think to build a more accurate model, we need to have access to more larger datasets. Here the number of instances after cleaning the data were not so sufficient enough so that I can claim that this model is optimum. As this dataset is only publicly available from Decemeber 2017, I think not many works that deal with this dataset is available online. In that consideration, my models can serve as benchmark models for any machine learning researcher/practitioner who will be interested to explore this dataset further. With this fact in mind, I think this are very well developed model that can detect ASD in indivisuals with certain given attributes."
   ],
   "metadata": {
    "deletable": true,
    "editable": true
   }
  },
  {
   "cell_type": "markdown",
   "source": [
    "# Rebuilding the model without the `'result'` variable."
   ],
   "metadata": {
    "deletable": true,
    "editable": true
   }
  },
  {
   "cell_type": "code",
   "execution_count": 77,
   "source": [
    "# Split the data into features and target label\n",
    "asd_raw = asd_data['Class/ASD']\n",
    "features_raw = asd_data[['age', 'gender', 'ethnicity', 'jundice', 'austim', 'contry_of_res', \n",
    "                      'relation','A1_Score','A2_Score','A3_Score','A4_Score','A5_Score','A6_Score','A7_Score','A8_Score',\n",
    "                      'A9_Score','A10_Score']]\n",
    "\n",
    "\n",
    "from sklearn.preprocessing import MinMaxScaler\n",
    "\n",
    "scaler = MinMaxScaler()\n",
    "numerical = ['age']\n",
    "\n",
    "features_minmax_transform = pd.DataFrame(data = features_raw)\n",
    "features_minmax_transform[numerical] = scaler.fit_transform(features_raw[numerical])\n",
    "features_minmax_transform\n",
    "# Show an example of a record with scaling applied\n",
    "display(features_minmax_transform.head(n = 5))"
   ],
   "outputs": [
    {
     "output_type": "display_data",
     "data": {
      "text/html": [
       "<div>\n",
       "<style>\n",
       "    .dataframe thead tr:only-child th {\n",
       "        text-align: right;\n",
       "    }\n",
       "\n",
       "    .dataframe thead th {\n",
       "        text-align: left;\n",
       "    }\n",
       "\n",
       "    .dataframe tbody tr th {\n",
       "        vertical-align: top;\n",
       "    }\n",
       "</style>\n",
       "<table border=\"1\" class=\"dataframe\">\n",
       "  <thead>\n",
       "    <tr style=\"text-align: right;\">\n",
       "      <th></th>\n",
       "      <th>age</th>\n",
       "      <th>gender</th>\n",
       "      <th>ethnicity</th>\n",
       "      <th>jundice</th>\n",
       "      <th>austim</th>\n",
       "      <th>contry_of_res</th>\n",
       "      <th>relation</th>\n",
       "      <th>A1_Score</th>\n",
       "      <th>A2_Score</th>\n",
       "      <th>A3_Score</th>\n",
       "      <th>A4_Score</th>\n",
       "      <th>A5_Score</th>\n",
       "      <th>A6_Score</th>\n",
       "      <th>A7_Score</th>\n",
       "      <th>A8_Score</th>\n",
       "      <th>A9_Score</th>\n",
       "      <th>A10_Score</th>\n",
       "    </tr>\n",
       "  </thead>\n",
       "  <tbody>\n",
       "    <tr>\n",
       "      <th>0</th>\n",
       "      <td>0.024590</td>\n",
       "      <td>f</td>\n",
       "      <td>White-European</td>\n",
       "      <td>no</td>\n",
       "      <td>no</td>\n",
       "      <td>United States</td>\n",
       "      <td>Self</td>\n",
       "      <td>1</td>\n",
       "      <td>1</td>\n",
       "      <td>1</td>\n",
       "      <td>1</td>\n",
       "      <td>0</td>\n",
       "      <td>0</td>\n",
       "      <td>1</td>\n",
       "      <td>1</td>\n",
       "      <td>0</td>\n",
       "      <td>0</td>\n",
       "    </tr>\n",
       "    <tr>\n",
       "      <th>1</th>\n",
       "      <td>0.019126</td>\n",
       "      <td>m</td>\n",
       "      <td>Latino</td>\n",
       "      <td>no</td>\n",
       "      <td>yes</td>\n",
       "      <td>Brazil</td>\n",
       "      <td>Self</td>\n",
       "      <td>1</td>\n",
       "      <td>1</td>\n",
       "      <td>0</td>\n",
       "      <td>1</td>\n",
       "      <td>0</td>\n",
       "      <td>0</td>\n",
       "      <td>0</td>\n",
       "      <td>1</td>\n",
       "      <td>0</td>\n",
       "      <td>1</td>\n",
       "    </tr>\n",
       "    <tr>\n",
       "      <th>2</th>\n",
       "      <td>0.027322</td>\n",
       "      <td>m</td>\n",
       "      <td>Latino</td>\n",
       "      <td>yes</td>\n",
       "      <td>yes</td>\n",
       "      <td>Spain</td>\n",
       "      <td>Parent</td>\n",
       "      <td>1</td>\n",
       "      <td>1</td>\n",
       "      <td>0</td>\n",
       "      <td>1</td>\n",
       "      <td>1</td>\n",
       "      <td>0</td>\n",
       "      <td>1</td>\n",
       "      <td>1</td>\n",
       "      <td>1</td>\n",
       "      <td>1</td>\n",
       "    </tr>\n",
       "    <tr>\n",
       "      <th>3</th>\n",
       "      <td>0.049180</td>\n",
       "      <td>f</td>\n",
       "      <td>White-European</td>\n",
       "      <td>no</td>\n",
       "      <td>yes</td>\n",
       "      <td>United States</td>\n",
       "      <td>Self</td>\n",
       "      <td>1</td>\n",
       "      <td>1</td>\n",
       "      <td>0</td>\n",
       "      <td>1</td>\n",
       "      <td>0</td>\n",
       "      <td>0</td>\n",
       "      <td>1</td>\n",
       "      <td>1</td>\n",
       "      <td>0</td>\n",
       "      <td>1</td>\n",
       "    </tr>\n",
       "    <tr>\n",
       "      <th>5</th>\n",
       "      <td>0.051913</td>\n",
       "      <td>m</td>\n",
       "      <td>Others</td>\n",
       "      <td>yes</td>\n",
       "      <td>no</td>\n",
       "      <td>United States</td>\n",
       "      <td>Self</td>\n",
       "      <td>1</td>\n",
       "      <td>1</td>\n",
       "      <td>1</td>\n",
       "      <td>1</td>\n",
       "      <td>1</td>\n",
       "      <td>0</td>\n",
       "      <td>1</td>\n",
       "      <td>1</td>\n",
       "      <td>1</td>\n",
       "      <td>1</td>\n",
       "    </tr>\n",
       "  </tbody>\n",
       "</table>\n",
       "</div>"
      ],
      "text/plain": [
       "        age gender       ethnicity jundice austim  contry_of_res relation  \\\n",
       "0  0.024590      f  White-European      no     no  United States     Self   \n",
       "1  0.019126      m          Latino      no    yes         Brazil     Self   \n",
       "2  0.027322      m          Latino     yes    yes          Spain   Parent   \n",
       "3  0.049180      f  White-European      no    yes  United States     Self   \n",
       "5  0.051913      m          Others     yes     no  United States     Self   \n",
       "\n",
       "   A1_Score  A2_Score  A3_Score  A4_Score  A5_Score  A6_Score  A7_Score  \\\n",
       "0         1         1         1         1         0         0         1   \n",
       "1         1         1         0         1         0         0         0   \n",
       "2         1         1         0         1         1         0         1   \n",
       "3         1         1         0         1         0         0         1   \n",
       "5         1         1         1         1         1         0         1   \n",
       "\n",
       "   A8_Score  A9_Score  A10_Score  \n",
       "0         1         0          0  \n",
       "1         1         0          1  \n",
       "2         1         1          1  \n",
       "3         1         0          1  \n",
       "5         1         1          1  "
      ]
     },
     "metadata": {}
    }
   ],
   "metadata": {
    "collapsed": false,
    "deletable": true,
    "editable": true
   }
  },
  {
   "cell_type": "code",
   "execution_count": 78,
   "source": [
    "#One-hot encode the 'features_minmax_transform' data using pandas.get_dummies()\n",
    "features_final = pd.get_dummies(features_minmax_transform)\n",
    "display(features_final.head(5))\n",
    "\n",
    "\n",
    "# Encode the 'all_classes_raw' data to numerical values\n",
    "asd_classes = asd_raw.apply(lambda x: 1 if x == 'YES' else 0)\n",
    "\n",
    "\n",
    "\n",
    "# Print the number of features after one-hot encoding\n",
    "encoded = list(features_final.columns)\n",
    "print \"{} total features after one-hot encoding.\".format(len(encoded))\n",
    "\n",
    "# Uncomment the following line to see the encoded feature names\n",
    "print encoded"
   ],
   "outputs": [
    {
     "output_type": "display_data",
     "data": {
      "text/html": [
       "<div>\n",
       "<style>\n",
       "    .dataframe thead tr:only-child th {\n",
       "        text-align: right;\n",
       "    }\n",
       "\n",
       "    .dataframe thead th {\n",
       "        text-align: left;\n",
       "    }\n",
       "\n",
       "    .dataframe tbody tr th {\n",
       "        vertical-align: top;\n",
       "    }\n",
       "</style>\n",
       "<table border=\"1\" class=\"dataframe\">\n",
       "  <thead>\n",
       "    <tr style=\"text-align: right;\">\n",
       "      <th></th>\n",
       "      <th>age</th>\n",
       "      <th>A1_Score</th>\n",
       "      <th>A2_Score</th>\n",
       "      <th>A3_Score</th>\n",
       "      <th>A4_Score</th>\n",
       "      <th>A5_Score</th>\n",
       "      <th>A6_Score</th>\n",
       "      <th>A7_Score</th>\n",
       "      <th>A8_Score</th>\n",
       "      <th>A9_Score</th>\n",
       "      <th>...</th>\n",
       "      <th>contry_of_res_United Arab Emirates</th>\n",
       "      <th>contry_of_res_United Kingdom</th>\n",
       "      <th>contry_of_res_United States</th>\n",
       "      <th>contry_of_res_Uruguay</th>\n",
       "      <th>contry_of_res_Viet Nam</th>\n",
       "      <th>relation_Health care professional</th>\n",
       "      <th>relation_Others</th>\n",
       "      <th>relation_Parent</th>\n",
       "      <th>relation_Relative</th>\n",
       "      <th>relation_Self</th>\n",
       "    </tr>\n",
       "  </thead>\n",
       "  <tbody>\n",
       "    <tr>\n",
       "      <th>0</th>\n",
       "      <td>0.024590</td>\n",
       "      <td>1</td>\n",
       "      <td>1</td>\n",
       "      <td>1</td>\n",
       "      <td>1</td>\n",
       "      <td>0</td>\n",
       "      <td>0</td>\n",
       "      <td>1</td>\n",
       "      <td>1</td>\n",
       "      <td>0</td>\n",
       "      <td>...</td>\n",
       "      <td>0</td>\n",
       "      <td>0</td>\n",
       "      <td>1</td>\n",
       "      <td>0</td>\n",
       "      <td>0</td>\n",
       "      <td>0</td>\n",
       "      <td>0</td>\n",
       "      <td>0</td>\n",
       "      <td>0</td>\n",
       "      <td>1</td>\n",
       "    </tr>\n",
       "    <tr>\n",
       "      <th>1</th>\n",
       "      <td>0.019126</td>\n",
       "      <td>1</td>\n",
       "      <td>1</td>\n",
       "      <td>0</td>\n",
       "      <td>1</td>\n",
       "      <td>0</td>\n",
       "      <td>0</td>\n",
       "      <td>0</td>\n",
       "      <td>1</td>\n",
       "      <td>0</td>\n",
       "      <td>...</td>\n",
       "      <td>0</td>\n",
       "      <td>0</td>\n",
       "      <td>0</td>\n",
       "      <td>0</td>\n",
       "      <td>0</td>\n",
       "      <td>0</td>\n",
       "      <td>0</td>\n",
       "      <td>0</td>\n",
       "      <td>0</td>\n",
       "      <td>1</td>\n",
       "    </tr>\n",
       "    <tr>\n",
       "      <th>2</th>\n",
       "      <td>0.027322</td>\n",
       "      <td>1</td>\n",
       "      <td>1</td>\n",
       "      <td>0</td>\n",
       "      <td>1</td>\n",
       "      <td>1</td>\n",
       "      <td>0</td>\n",
       "      <td>1</td>\n",
       "      <td>1</td>\n",
       "      <td>1</td>\n",
       "      <td>...</td>\n",
       "      <td>0</td>\n",
       "      <td>0</td>\n",
       "      <td>0</td>\n",
       "      <td>0</td>\n",
       "      <td>0</td>\n",
       "      <td>0</td>\n",
       "      <td>0</td>\n",
       "      <td>1</td>\n",
       "      <td>0</td>\n",
       "      <td>0</td>\n",
       "    </tr>\n",
       "    <tr>\n",
       "      <th>3</th>\n",
       "      <td>0.049180</td>\n",
       "      <td>1</td>\n",
       "      <td>1</td>\n",
       "      <td>0</td>\n",
       "      <td>1</td>\n",
       "      <td>0</td>\n",
       "      <td>0</td>\n",
       "      <td>1</td>\n",
       "      <td>1</td>\n",
       "      <td>0</td>\n",
       "      <td>...</td>\n",
       "      <td>0</td>\n",
       "      <td>0</td>\n",
       "      <td>1</td>\n",
       "      <td>0</td>\n",
       "      <td>0</td>\n",
       "      <td>0</td>\n",
       "      <td>0</td>\n",
       "      <td>0</td>\n",
       "      <td>0</td>\n",
       "      <td>1</td>\n",
       "    </tr>\n",
       "    <tr>\n",
       "      <th>5</th>\n",
       "      <td>0.051913</td>\n",
       "      <td>1</td>\n",
       "      <td>1</td>\n",
       "      <td>1</td>\n",
       "      <td>1</td>\n",
       "      <td>1</td>\n",
       "      <td>0</td>\n",
       "      <td>1</td>\n",
       "      <td>1</td>\n",
       "      <td>1</td>\n",
       "      <td>...</td>\n",
       "      <td>0</td>\n",
       "      <td>0</td>\n",
       "      <td>1</td>\n",
       "      <td>0</td>\n",
       "      <td>0</td>\n",
       "      <td>0</td>\n",
       "      <td>0</td>\n",
       "      <td>0</td>\n",
       "      <td>0</td>\n",
       "      <td>1</td>\n",
       "    </tr>\n",
       "  </tbody>\n",
       "</table>\n",
       "<p>5 rows × 93 columns</p>\n",
       "</div>"
      ],
      "text/plain": [
       "        age  A1_Score  A2_Score  A3_Score  A4_Score  A5_Score  A6_Score  \\\n",
       "0  0.024590         1         1         1         1         0         0   \n",
       "1  0.019126         1         1         0         1         0         0   \n",
       "2  0.027322         1         1         0         1         1         0   \n",
       "3  0.049180         1         1         0         1         0         0   \n",
       "5  0.051913         1         1         1         1         1         0   \n",
       "\n",
       "   A7_Score  A8_Score  A9_Score      ...        \\\n",
       "0         1         1         0      ...         \n",
       "1         0         1         0      ...         \n",
       "2         1         1         1      ...         \n",
       "3         1         1         0      ...         \n",
       "5         1         1         1      ...         \n",
       "\n",
       "   contry_of_res_United Arab Emirates  contry_of_res_United Kingdom  \\\n",
       "0                                   0                             0   \n",
       "1                                   0                             0   \n",
       "2                                   0                             0   \n",
       "3                                   0                             0   \n",
       "5                                   0                             0   \n",
       "\n",
       "   contry_of_res_United States  contry_of_res_Uruguay  contry_of_res_Viet Nam  \\\n",
       "0                            1                      0                       0   \n",
       "1                            0                      0                       0   \n",
       "2                            0                      0                       0   \n",
       "3                            1                      0                       0   \n",
       "5                            1                      0                       0   \n",
       "\n",
       "   relation_Health care professional  relation_Others  relation_Parent  \\\n",
       "0                                  0                0                0   \n",
       "1                                  0                0                0   \n",
       "2                                  0                0                1   \n",
       "3                                  0                0                0   \n",
       "5                                  0                0                0   \n",
       "\n",
       "   relation_Relative  relation_Self  \n",
       "0                  0              1  \n",
       "1                  0              1  \n",
       "2                  0              0  \n",
       "3                  0              1  \n",
       "5                  0              1  \n",
       "\n",
       "[5 rows x 93 columns]"
      ]
     },
     "metadata": {}
    },
    {
     "output_type": "stream",
     "name": "stdout",
     "text": [
      "93 total features after one-hot encoding.\n",
      "['age', 'A1_Score', 'A2_Score', 'A3_Score', 'A4_Score', 'A5_Score', 'A6_Score', 'A7_Score', 'A8_Score', 'A9_Score', 'A10_Score', 'gender_f', 'gender_m', 'ethnicity_Asian', 'ethnicity_Black', 'ethnicity_Hispanic', 'ethnicity_Latino', 'ethnicity_Middle Eastern ', 'ethnicity_Others', 'ethnicity_Pasifika', 'ethnicity_South Asian', 'ethnicity_Turkish', 'ethnicity_White-European', 'ethnicity_others', 'jundice_no', 'jundice_yes', 'austim_no', 'austim_yes', 'contry_of_res_Afghanistan', 'contry_of_res_AmericanSamoa', 'contry_of_res_Angola', 'contry_of_res_Armenia', 'contry_of_res_Aruba', 'contry_of_res_Australia', 'contry_of_res_Austria', 'contry_of_res_Bahamas', 'contry_of_res_Bangladesh', 'contry_of_res_Belgium', 'contry_of_res_Bolivia', 'contry_of_res_Brazil', 'contry_of_res_Burundi', 'contry_of_res_Canada', 'contry_of_res_Chile', 'contry_of_res_China', 'contry_of_res_Costa Rica', 'contry_of_res_Cyprus', 'contry_of_res_Czech Republic', 'contry_of_res_Ecuador', 'contry_of_res_Egypt', 'contry_of_res_Ethiopia', 'contry_of_res_Finland', 'contry_of_res_France', 'contry_of_res_Germany', 'contry_of_res_Iceland', 'contry_of_res_India', 'contry_of_res_Indonesia', 'contry_of_res_Iran', 'contry_of_res_Ireland', 'contry_of_res_Italy', 'contry_of_res_Jordan', 'contry_of_res_Malaysia', 'contry_of_res_Mexico', 'contry_of_res_Nepal', 'contry_of_res_Netherlands', 'contry_of_res_New Zealand', 'contry_of_res_Nicaragua', 'contry_of_res_Niger', 'contry_of_res_Oman', 'contry_of_res_Pakistan', 'contry_of_res_Philippines', 'contry_of_res_Portugal', 'contry_of_res_Romania', 'contry_of_res_Russia', 'contry_of_res_Saudi Arabia', 'contry_of_res_Serbia', 'contry_of_res_Sierra Leone', 'contry_of_res_South Africa', 'contry_of_res_Spain', 'contry_of_res_Sri Lanka', 'contry_of_res_Sweden', 'contry_of_res_Tonga', 'contry_of_res_Turkey', 'contry_of_res_Ukraine', 'contry_of_res_United Arab Emirates', 'contry_of_res_United Kingdom', 'contry_of_res_United States', 'contry_of_res_Uruguay', 'contry_of_res_Viet Nam', 'relation_Health care professional', 'relation_Others', 'relation_Parent', 'relation_Relative', 'relation_Self']\n"
     ]
    }
   ],
   "metadata": {
    "collapsed": false,
    "deletable": true,
    "editable": true
   }
  },
  {
   "cell_type": "code",
   "execution_count": 79,
   "source": [
    "from sklearn.model_selection import train_test_split\n",
    "\n",
    "np.random.seed(1234)\n",
    "\n",
    "X_train, X_test, y_train, y_test = train_test_split(features_final, asd_classes, train_size=0.80, random_state=1)\n",
    "\n",
    "\n",
    "# Show the results of the split\n",
    "print \"Training set has {} samples.\".format(X_train.shape[0])\n",
    "print \"Testing set has {} samples.\".format(X_test.shape[0])"
   ],
   "outputs": [
    {
     "output_type": "stream",
     "name": "stdout",
     "text": [
      "Training set has 487 samples.\n",
      "Testing set has 122 samples.\n"
     ]
    }
   ],
   "metadata": {
    "collapsed": false,
    "deletable": true,
    "editable": true
   }
  },
  {
   "cell_type": "code",
   "execution_count": 80,
   "source": [
    "### (1) Decision Trees\n",
    "\n",
    "from sklearn import tree\n",
    "from sklearn.tree import DecisionTreeClassifier\n",
    "\n",
    "dectree = DecisionTreeClassifier(random_state=1)\n",
    "\n",
    "# Train the classifier on the training set\n",
    "dectree.fit(X_train, y_train)"
   ],
   "outputs": [
    {
     "output_type": "execute_result",
     "data": {
      "text/plain": [
       "DecisionTreeClassifier(class_weight=None, criterion='gini', max_depth=None,\n",
       "            max_features=None, max_leaf_nodes=None,\n",
       "            min_impurity_split=1e-07, min_samples_leaf=1,\n",
       "            min_samples_split=2, min_weight_fraction_leaf=0.0,\n",
       "            presort=False, random_state=1, splitter='best')"
      ]
     },
     "metadata": {},
     "execution_count": 80
    }
   ],
   "metadata": {
    "collapsed": false,
    "deletable": true,
    "editable": true
   }
  },
  {
   "cell_type": "code",
   "execution_count": 81,
   "source": [
    "import pydotplus \n",
    "\n",
    "\n",
    "dot_data = tree.export_graphviz(dectree,\n",
    "                                out_file=None,\n",
    "                                filled=True,\n",
    "                                rounded=True,\n",
    "                                special_characters=True)  \n",
    "graph = pydotplus.graph_from_dot_data(dot_data)  \n",
    "\n",
    "from IPython.display import Image \n",
    "Image(graph.create_png()) "
   ],
   "outputs": [
    {
     "output_type": "execute_result",
     "data": {
      "image/png": "[encoded data removed]",
      "text/plain": [
       "<IPython.core.display.Image object>"
      ]
     },
     "metadata": {},
     "execution_count": 81
    }
   ],
   "metadata": {
    "collapsed": false,
    "deletable": true,
    "editable": true
   }
  },
  {
   "cell_type": "code",
   "execution_count": 82,
   "source": [
    "from sklearn.model_selection import cross_val_score\n",
    "\n",
    "dectree = DecisionTreeClassifier(random_state=1)\n",
    "\n",
    "cv_scores = cross_val_score(dectree, features_final, asd_classes, cv=10)\n",
    "\n",
    "cv_scores.mean()"
   ],
   "outputs": [
    {
     "output_type": "execute_result",
     "data": {
      "text/plain": [
       "1.0"
      ]
     },
     "metadata": {},
     "execution_count": 82
    }
   ],
   "metadata": {
    "collapsed": false,
    "deletable": true,
    "editable": true
   }
  },
  {
   "cell_type": "code",
   "execution_count": 83,
   "source": [
    "from sklearn.ensemble import RandomForestClassifier\n",
    "\n",
    "ranfor = RandomForestClassifier(n_estimators=5, random_state=1)\n",
    "cv_scores = cross_val_score(ranfor, features_final, asd_classes, cv=10)\n",
    "\n",
    "cv_scores.mean()"
   ],
   "outputs": [
    {
     "output_type": "execute_result",
     "data": {
      "text/plain": [
       "1.0"
      ]
     },
     "metadata": {},
     "execution_count": 83
    }
   ],
   "metadata": {
    "collapsed": false,
    "deletable": true,
    "editable": true
   }
  },
  {
   "cell_type": "code",
   "execution_count": 84,
   "source": [
    "from sklearn import neighbors\n",
    "\n",
    "knn = neighbors.KNeighborsClassifier(n_neighbors=10)\n",
    "cv_scores = cross_val_score(knn, features_final, asd_classes, cv=10)\n",
    "\n",
    "cv_scores.mean()"
   ],
   "outputs": [
    {
     "output_type": "execute_result",
     "data": {
      "text/plain": [
       "1.0"
      ]
     },
     "metadata": {},
     "execution_count": 84
    }
   ],
   "metadata": {
    "collapsed": false,
    "deletable": true,
    "editable": true
   }
  },
  {
   "cell_type": "code",
   "execution_count": 85,
   "source": [
    "# TODO: Import a supervised learning model that has 'feature_importances_'\n",
    "from sklearn.ensemble import AdaBoostClassifier\n",
    "\n",
    "\n",
    "# TODO: Train the supervised model on the training set using .fit(X_train, y_train)\n",
    "model = AdaBoostClassifier(random_state=0)\n",
    "model.fit(X_train, y_train)\n",
    "\n",
    "# TODO: Extract the feature importances using .feature_importances_ \n",
    "importances = model.feature_importances_\n",
    "\n",
    "# Plot\n",
    "vs.feature_plot(importances, X_train, y_train)"
   ],
   "outputs": [
    {
     "output_type": "display_data",
     "data": {
      "image/png": "[encoded data removed]",
      "text/plain": [
       "<Figure size 648x360 with 1 Axes>"
      ]
     },
     "metadata": {}
    }
   ],
   "metadata": {
    "collapsed": false,
    "deletable": true,
    "editable": true
   }
  },
  {
   "cell_type": "code",
   "execution_count": null,
   "source": [],
   "outputs": [],
   "metadata": {
    "collapsed": true,
    "deletable": true,
    "editable": true
   }
  }
 ],
 "metadata": {
  "kernelspec": {
   "display_name": "Python 2",
   "language": "python",
   "name": "python2"
  },
  "language_info": {
   "codemirror_mode": {
    "name": "ipython",
    "version": 2
   },
   "file_extension": ".py",
   "mimetype": "text/x-python",
   "name": "python",
   "nbconvert_exporter": "python",
   "pygments_lexer": "ipython2",
   "version": "2.7.13"
  }
 },
 "nbformat": 4,
 "nbformat_minor": 2
}